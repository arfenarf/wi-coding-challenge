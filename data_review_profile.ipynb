{
 "cells": [
  {
   "cell_type": "markdown",
   "metadata": {
    "collapsed": true,
    "pycharm": {
     "name": "#%% md\n"
    }
   },
   "source": [
    "# Database Review and Profiling"
   ]
  },
  {
   "cell_type": "markdown",
   "source": [
    "## Table Structure\n",
    "\n",
    "### Eight tables:\n",
    "\n",
    "| Table          | Columns | Rows    | Business Primary Key | Apparent FKs          |\n",
    "|----------------|---------|---------|----------------------|-----------------------|\n",
    "| CARE_GIVERS    | 5       | 7567    | CGID                 |                       |\n",
    "| DIAGNOSES      | 6       | 651047  | ROW_ID               | SUBJECT_ID, ICD9_CODE |\n",
    "| ICD_DIAGNOSES  | 5       | 14567   | ICD9_CODE            |                       |\n",
    "| ICD_LABS       | 7       | 753     | ITEMID               | LOINC_CODE            |\n",
    "| LABS           | 7       | 3014967 | index                | SUBJECT_ID, ITEMID    |\n",
    "| PATIENTS       | 9       | 58909   | SUBJECT_ID           |                       |\n",
    "| TRANSFERS      | 8       | 30084   | index                | SUBJECT_ID            |\n",
    "| TREATMENT_TEAM | 6       | 105789  | index                | SUBJECT_ID, CGID      |"
   ],
   "metadata": {
    "collapsed": false,
    "pycharm": {
     "name": "#%% md\n"
    }
   }
  },
  {
   "cell_type": "markdown",
   "source": [
    "## Assumptions and Questions\n",
    "\n",
    "* Index and ROW_ID - are they all unique IDs?\n",
    "    * No! in PATIENTS, The same ROW_ID and SUBJECT_ID can point more than one row! Some have same birthdate, always same gender\n",
    "    * There are a host of DODs, but I'm not focusing on this b/c it doesn't appear to be part of the equation\n",
    "    * Key question: Can we behave as though the same SUBJECT_ID is the same pt throughout?\n",
    "    * Not duplicated:\n",
    "        * CARE_GIVERS\n",
    "        * LABS\n",
    "* What is HADM_ID?\n",
    "    * I think it's Hospital Admission ID\n",
    "* Assumption: all the patients in the database were admitted during the period of interest.\n",
    "    * WRONG. The TRANSFERS table has admits from much of 2000. So we'll have to narrow down the patients to those who have an admit date in June and work with the HADM\n",
    "    * ALSO: TRANSFERS does not reliably have a to/from unit. This is going to make specifying exactly what unit the pt is in difficult"
   ],
   "metadata": {
    "collapsed": false,
    "pycharm": {
     "name": "#%% md\n"
    }
   }
  },
  {
   "cell_type": "markdown",
   "source": [
    "## Early Analysis\n",
    "\n",
    "How many of these anomalies actually matter?\n",
    "\n",
    "Let's look at the requirements for the SQL extract:\n",
    "\n",
    "All patients in the cohort should have a diagnosis of Heart Failure or Cardiac Dysfunction and should have a lab result for Troponin\n",
    "some time during their admission.\n",
    "\n",
    "This means:\n",
    "1. Gather all patients whose admit d/t was in June 2000\n",
    "2. Inner join to DX HF or CD\n",
    "    * Does this DX have to be made during this admission? Can a prior DX qualify the patient?\n",
    "    * __HF__: `lower(SHORT_TITLE) like '%heart f%'`\n",
    "    * __CD__: This is complicated. There is no specific dx called \"Cardiac Dysfunction.\" We could do one of a few things:\n",
    "       * Hand-pick dx descriptions with a string\n",
    "       * Select a range of ICD codes. Grossly speaking, it looks like we might want:\n",
    "           * 390-392  Acute Rheumatic Fever\n",
    "           * 393-398  Chronic Rheumatic Heart Disease\n",
    "           * 410-414  Ischemic Heart Disease\n",
    "           * 415-417  Diseases Of Pulmonary Circulation\n",
    "           * 420-429  Other Forms Of Heart Disease\n",
    "       * BUT There are a host of other conditions not in this range, particularly a group of neonatal codes (there are many NICU admissions in this data set) and a group of cardiac inflammation caused by pathogens in the 0* and 1* hierarchies.  Need guidance\n",
    "3. Inner join to a lab result for Troponin during that stay <-- __that__ stay\n",
    "    * We have two ICD_LABS entries for Troponin: __do we want these both__?\n",
    "       * 51002,Troponin I\n",
    "       * 51003,Troponin T\n"
   ],
   "metadata": {
    "collapsed": false,
    "pycharm": {
     "name": "#%% md\n"
    }
   }
  },
  {
   "cell_type": "markdown",
   "source": [
    "## Building out the Query"
   ],
   "metadata": {
    "collapsed": false,
    "pycharm": {
     "name": "#%% md\n"
    }
   }
  },
  {
   "cell_type": "markdown",
   "source": [
    "## Identify the admitted patients\n",
    "\n",
    "This gives us 4,839 rows:\n",
    "```\n",
    "SELECT DISTINCT SUBJECT_ID, HADM_ID\n",
    "FROM TRANSFERS T\n",
    "WHERE T.EVENTTYPE = 'admit' and INTIME BETWEEN '2000-06-01' and '2000-07-01';\n",
    "```\n",
    "\n",
    "## Filter for the Troponin Labs\n",
    "\n",
    "We can pretty quickly filter this on the lab result. We get 5,868 lab results for this patient population and 1,841 distinct patients\n",
    "from this call:\n",
    "\n",
    "```\n",
    "SELECT DISTINCT pts.SUBJECT_ID\n",
    "FROM (SELECT DISTINCT SUBJECT_ID, HADM_ID\n",
    "      FROM TRANSFERS T\n",
    "      WHERE T.EVENTTYPE = 'admit'\n",
    "        and INTIME BETWEEN '2000-06-01' and '2000-07-01') pts\n",
    "         inner join\n",
    "     (SELECT *\n",
    "      FROM LABS\n",
    "               INNER JOIN ICD_LABS on LABS.ITEMID = ICD_LABS.ITEMID and lower(ICD_LABS.label) like 'tropo%') tropo\n",
    "     on pts.SUBJECT_ID = tropo.SUBJECT_ID\n",
    "         and pts.HADM_ID = tropo.HADM_ID\n",
    "```"
   ],
   "metadata": {
    "collapsed": false,
    "pycharm": {
     "name": "#%% md\n"
    }
   }
  },
  {
   "cell_type": "markdown",
   "source": [
    "## DRAFT: Filter for Heart Disease\n",
    "\n",
    "```\n",
    "SELECT * from ICD_DIAGNOSES\n",
    "where SUBSTR(ICD9_CODE, 1, 3) in\n",
    "    ('390', '391', '392', --acute rheumatic\n",
    "     '393', '394', '395', '396', '397', '398', --chronic rheumatic\n",
    "     '410', '411', '412', '413', '414', -- ischemic hd\n",
    "     '415', '416', '417', -- pulmonary circulation\n",
    "     '420', '421', '422', '423', '424', '425', '426', '427', '428', '429') -- other hd\n",
    "```\n",
    "\n",
    "This returns 197 DX rows and can be tuned as requirements clarify"
   ],
   "metadata": {
    "collapsed": false
   }
  },
  {
   "cell_type": "markdown",
   "source": [
    "## Final Draft Query:\n",
    "\n",
    "```\n",
    "SELECT DISTINCT pts.SUBJECT_ID\n",
    "FROM (SELECT DISTINCT SUBJECT_ID, HADM_ID\n",
    "      FROM TRANSFERS T\n",
    "      WHERE T.EVENTTYPE = 'admit'\n",
    "        AND INTIME BETWEEN '2000-06-01' AND '2000-07-01') pts\n",
    " INNER JOIN\n",
    "     (SELECT *\n",
    "      FROM LABS\n",
    "               INNER JOIN ICD_LABS ON LABS.ITEMID = ICD_LABS.ITEMID AND lower(ICD_LABS.label) like 'tropo%') tropo\n",
    "     ON pts.SUBJECT_ID = tropo.SUBJECT_ID\n",
    "         AND pts.HADM_ID = tropo.HADM_ID\n",
    "INNER JOIN\n",
    "    (SELECT * from DIAGNOSES\n",
    "     WHERE (SUBSTR(DIAGNOSES.ICD9_CODE, 1, 3) in\n",
    "    ('390', '391', '392', --acute rheumatic\n",
    "     '393', '394', '395', '396', '397', '398', --chronic rheumatic\n",
    "     '410', '411', '412', '413', '414', -- ischemic hd\n",
    "     '415', '416', '417', -- pulmONary circulatiON\n",
    "     '420', '421', '422', '423', '424', '425', '426', '427', '428', '429'))-- other hd\n",
    "        ) dx\n",
    "    ON pts.SUBJECT_ID = dx.SUBJECT_ID AND pts.HADM_ID = dx.HADM_ID;\n",
    "```\n",
    "This returns 1,433 distinct patients. Since Troponin is a test pretty specific to cardiac care, I suspect there are in fact more pts we need to gather up with a wider net in the DIAGNOSIS table"
   ],
   "metadata": {
    "collapsed": false,
    "pycharm": {
     "name": "#%% md\n"
    }
   }
  },
  {
   "cell_type": "markdown",
   "source": [
    "# Questions for the restrospective analysis\n",
    "\n",
    "* Does \"every twelve hours\" mean every twelve hours from the moment of a given patient's admission, or does it mean we can take measurements for everyone at 7AM and 7PM?\n",
    "* Does \"in the patient's unit\" mean a \"unit\" as labeled in the TRANSFER table?\n",
    "* If it's the TRANSFER table, what are the rules for imputing a unit? Many times PREV and CURR are NULL\n",
    "* What generates a row in the TRANSFER table? Sometimes they come within minutes, sometimes after a week.\n",
    "* The CARE_GIVERS table is inconsistent. What is a \"Nurse?\" Is there a specific combination of LABEL/DESCRIPTION that identifies them? What about NPs? They often get lumped in with residents. Selecting on LABEL in ('RN', 'Rn', 'RNs', 'rn') gets close but what about students? Is a LPN a Nurse? Is a Read Only RN a Nurse?\n",
    "* Need to validate the lab test as LOINC 33762-6 Natriuretic peptide.B prohormone"
   ],
   "metadata": {
    "collapsed": false,
    "pycharm": {
     "name": "#%% md\n"
    }
   }
  },
  {
   "cell_type": "code",
   "execution_count": 1,
   "outputs": [],
   "source": [],
   "metadata": {
    "collapsed": false,
    "pycharm": {
     "name": "#%%\n"
    }
   }
  },
  {
   "cell_type": "code",
   "execution_count": null,
   "outputs": [],
   "source": [],
   "metadata": {
    "collapsed": false,
    "pycharm": {
     "name": "#%%\n"
    }
   }
  }
 ],
 "metadata": {
  "kernelspec": {
   "display_name": "Python 3",
   "language": "python",
   "name": "python3"
  },
  "language_info": {
   "codemirror_mode": {
    "name": "ipython",
    "version": 2
   },
   "file_extension": ".py",
   "mimetype": "text/x-python",
   "name": "python",
   "nbconvert_exporter": "python",
   "pygments_lexer": "ipython2",
   "version": "2.7.6"
  }
 },
 "nbformat": 4,
 "nbformat_minor": 0
}