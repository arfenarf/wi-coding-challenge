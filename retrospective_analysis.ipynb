{
 "cells": [
  {
   "cell_type": "markdown",
   "metadata": {
    "collapsed": true,
    "pycharm": {
     "name": "#%% md\n"
    }
   },
   "source": [
    "# The Request\n",
    "\n",
    "Observations every 12 hours for each of the patients in the cohort throughout the month of June 2000. For each of these observations, we need the following data\n",
    "● The ratio of discharged patients over the previous 4 hours to the number of nurses in the patient’s unit\n",
    "● The ratio of nurses to patients in the patient’s unit\n",
    "● The patient’s latest Tropinin lab value (confirm codes)\n",
    "● The patient’s latest B-type natriuretic peptide (BNP) lab value (LOINC 33762-6)\n",
    "\n",
    "# The Deliverable\n",
    "Long DF with one row per patient per observation"
   ]
  },
  {
   "cell_type": "code",
   "execution_count": 1,
   "outputs": [],
   "source": [
    "import pandas as pd\n",
    "import sqlite3\n",
    "import datetime\n",
    "\n",
    "# Set up the database connection\n",
    "con = sqlite3.connect(\"data/DE_Challenge_DB.sqlite\")"
   ],
   "metadata": {
    "collapsed": false,
    "pycharm": {
     "name": "#%%\n"
    }
   }
  },
  {
   "cell_type": "code",
   "execution_count": 2,
   "outputs": [],
   "source": [
    "# build scaffolding for the snapshots\n",
    "scaffold = pd.date_range(start='2000-06-01 06:59:00', end='2000-06-30 23:59:00', freq='12h')\n",
    "snapdata = []\n",
    "careteam = []\n",
    "discharges = []"
   ],
   "metadata": {
    "collapsed": false,
    "pycharm": {
     "name": "#%%\n"
    }
   }
  },
  {
   "cell_type": "markdown",
   "source": [
    "## Building out the Unit, Population and Staffing Information"
   ],
   "metadata": {
    "collapsed": false,
    "pycharm": {
     "name": "#%% md\n"
    }
   }
  },
  {
   "cell_type": "code",
   "execution_count": 3,
   "outputs": [],
   "source": [
    "# collect data at each of the given snapshot points\n",
    "for snapdate in scaffold:\n",
    "    # where is the patient right now?\n",
    "    patient_location = pd.read_sql_query(f\"\"\"\n",
    "            SELECT SUBJECT_ID,\n",
    "            CURR_CAREUNIT as UNIT\n",
    "            FROM TRANSFERS WHERE INTIME <= '{snapdate}'\n",
    "            AND OUTTIME > '{snapdate}'\n",
    "        \"\"\", con = con)\n",
    "    patient_location['snapshot_time'] = snapdate\n",
    "    snapdata.append(patient_location)\n",
    "\n",
    "    # who is the care team for each patient right now?\n",
    "    care_detail = pd.read_sql_query(f\"\"\"\n",
    "            SELECT SUBJECT_ID, tt.CGID, LABEL, DESCRIPTION\n",
    "            FROM TREATMENT_TEAM tt\n",
    "            LEFT JOIN CARE_GIVERS cg on tt.CGID = cg.CGID\n",
    "            WHERE tt.STARTTIME <= '{snapdate}'\n",
    "            AND tt.ENDTIME > '{snapdate}'\n",
    "            -- TODO add the CG filter for nurses\n",
    "        \"\"\", con = con)\n",
    "    care_detail['snapshot_time'] = snapdate\n",
    "    careteam.append(care_detail)\n",
    "\n",
    "    # how many patients were discharged from each unit right now?\n",
    "    discharge_count = pd.read_sql_query(f\"\"\"\n",
    "            SELECT PREV_CAREUNIT as UNIT,\n",
    "            count(distinct(SUBJECT_ID)) as DISCHARGE_COUNT\n",
    "            FROM TRANSFERS\n",
    "            WHERE INTIME >= '{snapdate - datetime.timedelta(hours = 4)}'\n",
    "              AND INTIME <= '{snapdate}'\n",
    "             AND EVENTTYPE = 'discharge'\n",
    "            GROUP BY PREV_CAREUNIT\n",
    "        \"\"\", con = con)\n",
    "    discharge_count['snapshot_time'] = snapdate\n",
    "    discharges.append(discharge_count)"
   ],
   "metadata": {
    "collapsed": false,
    "pycharm": {
     "name": "#%%\n"
    }
   }
  },
  {
   "cell_type": "code",
   "execution_count": 4,
   "outputs": [],
   "source": [
    "snap_df = pd.concat(snapdata)\n",
    "care_df = pd.concat(careteam)\n",
    "discharge_df = pd.concat(discharges).groupby(['snapshot_time','UNIT']).sum()"
   ],
   "metadata": {
    "collapsed": false,
    "pycharm": {
     "name": "#%%\n"
    }
   }
  },
  {
   "cell_type": "code",
   "execution_count": 5,
   "outputs": [
    {
     "data": {
      "text/plain": "   SUBJECT_ID   UNIT       snapshot_time\n0         124   None 2000-06-01 06:59:00\n1           6   SICU 2000-06-01 06:59:00\n2         109   None 2000-06-01 06:59:00\n3         110  NWARD 2000-06-01 06:59:00\n4         223   None 2000-06-01 06:59:00",
      "text/html": "<div>\n<style scoped>\n    .dataframe tbody tr th:only-of-type {\n        vertical-align: middle;\n    }\n\n    .dataframe tbody tr th {\n        vertical-align: top;\n    }\n\n    .dataframe thead th {\n        text-align: right;\n    }\n</style>\n<table border=\"1\" class=\"dataframe\">\n  <thead>\n    <tr style=\"text-align: right;\">\n      <th></th>\n      <th>SUBJECT_ID</th>\n      <th>UNIT</th>\n      <th>snapshot_time</th>\n    </tr>\n  </thead>\n  <tbody>\n    <tr>\n      <th>0</th>\n      <td>124</td>\n      <td>None</td>\n      <td>2000-06-01 06:59:00</td>\n    </tr>\n    <tr>\n      <th>1</th>\n      <td>6</td>\n      <td>SICU</td>\n      <td>2000-06-01 06:59:00</td>\n    </tr>\n    <tr>\n      <th>2</th>\n      <td>109</td>\n      <td>None</td>\n      <td>2000-06-01 06:59:00</td>\n    </tr>\n    <tr>\n      <th>3</th>\n      <td>110</td>\n      <td>NWARD</td>\n      <td>2000-06-01 06:59:00</td>\n    </tr>\n    <tr>\n      <th>4</th>\n      <td>223</td>\n      <td>None</td>\n      <td>2000-06-01 06:59:00</td>\n    </tr>\n  </tbody>\n</table>\n</div>"
     },
     "execution_count": 5,
     "metadata": {},
     "output_type": "execute_result"
    }
   ],
   "source": [
    "# here we  have a df showing where each patient was at a given time\n",
    "snap_df.head()"
   ],
   "metadata": {
    "collapsed": false,
    "pycharm": {
     "name": "#%%\n"
    }
   }
  },
  {
   "cell_type": "code",
   "execution_count": 6,
   "outputs": [
    {
     "data": {
      "text/plain": "   SUBJECT_ID     CGID LABEL  DESCRIPTION       snapshot_time\n0       31842  18576.0    RN           RN 2000-06-01 06:59:00\n1       28533  14612.0    RT  Respiratory 2000-06-01 06:59:00\n2       31842  21108.0    RN           RN 2000-06-01 06:59:00\n3        7482  21336.0   RNs           RN 2000-06-01 06:59:00\n4        7482  17735.0    RN           RN 2000-06-01 06:59:00",
      "text/html": "<div>\n<style scoped>\n    .dataframe tbody tr th:only-of-type {\n        vertical-align: middle;\n    }\n\n    .dataframe tbody tr th {\n        vertical-align: top;\n    }\n\n    .dataframe thead th {\n        text-align: right;\n    }\n</style>\n<table border=\"1\" class=\"dataframe\">\n  <thead>\n    <tr style=\"text-align: right;\">\n      <th></th>\n      <th>SUBJECT_ID</th>\n      <th>CGID</th>\n      <th>LABEL</th>\n      <th>DESCRIPTION</th>\n      <th>snapshot_time</th>\n    </tr>\n  </thead>\n  <tbody>\n    <tr>\n      <th>0</th>\n      <td>31842</td>\n      <td>18576.0</td>\n      <td>RN</td>\n      <td>RN</td>\n      <td>2000-06-01 06:59:00</td>\n    </tr>\n    <tr>\n      <th>1</th>\n      <td>28533</td>\n      <td>14612.0</td>\n      <td>RT</td>\n      <td>Respiratory</td>\n      <td>2000-06-01 06:59:00</td>\n    </tr>\n    <tr>\n      <th>2</th>\n      <td>31842</td>\n      <td>21108.0</td>\n      <td>RN</td>\n      <td>RN</td>\n      <td>2000-06-01 06:59:00</td>\n    </tr>\n    <tr>\n      <th>3</th>\n      <td>7482</td>\n      <td>21336.0</td>\n      <td>RNs</td>\n      <td>RN</td>\n      <td>2000-06-01 06:59:00</td>\n    </tr>\n    <tr>\n      <th>4</th>\n      <td>7482</td>\n      <td>17735.0</td>\n      <td>RN</td>\n      <td>RN</td>\n      <td>2000-06-01 06:59:00</td>\n    </tr>\n  </tbody>\n</table>\n</div>"
     },
     "execution_count": 6,
     "metadata": {},
     "output_type": "execute_result"
    }
   ],
   "source": [
    "care_df.head()"
   ],
   "metadata": {
    "collapsed": false,
    "pycharm": {
     "name": "#%%\n"
    }
   }
  },
  {
   "cell_type": "code",
   "execution_count": 7,
   "outputs": [
    {
     "data": {
      "text/plain": "UNIT                 CCU  CSRU  MICU  NICU  NWARD  SICU  TSICU\nsnapshot_time                                                 \n2000-06-01 06:59:00  0.0   0.0   5.0   0.0    0.0   0.0    0.0\n2000-06-01 18:59:00  3.0   0.0   3.0   4.0    4.0   1.0    0.0\n2000-06-02 06:59:00  0.0   1.0   1.0   0.0    0.0   0.0    0.0\n2000-06-02 18:59:00  3.0   0.0   8.0   4.0    1.0   2.0    1.0\n2000-06-03 06:59:00  0.0   0.0   1.0   0.0    0.0   0.0    0.0\n2000-06-03 18:59:00  2.0   1.0   7.0   4.0    5.0   1.0    1.0\n2000-06-04 06:59:00  0.0   0.0   2.0   1.0    0.0   1.0    0.0\n2000-06-04 18:59:00  0.0   2.0   3.0   3.0    1.0   1.0    2.0\n2000-06-05 18:59:00  1.0   0.0   5.0   6.0    2.0   1.0    0.0\n2000-06-06 06:59:00  0.0   0.0   2.0   0.0    0.0   0.0    1.0\n2000-06-06 18:59:00  1.0   1.0   7.0   5.0    2.0   2.0    1.0\n2000-06-07 06:59:00  1.0   0.0   1.0   0.0    0.0   0.0    0.0\n2000-06-07 18:59:00  0.0   0.0   4.0   3.0    2.0   0.0    1.0\n2000-06-08 06:59:00  0.0   0.0   3.0   0.0    0.0   0.0    0.0\n2000-06-08 18:59:00  3.0   0.0   3.0   7.0    3.0   2.0    0.0\n2000-06-09 06:59:00  0.0   0.0   0.0   0.0    1.0   0.0    0.0\n2000-06-09 18:59:00  0.0   0.0   4.0   4.0    4.0   2.0    0.0\n2000-06-10 06:59:00  0.0   0.0   1.0   0.0    0.0   0.0    0.0\n2000-06-10 18:59:00  4.0   0.0   4.0   7.0    0.0   3.0    1.0\n2000-06-11 06:59:00  1.0   0.0   1.0   2.0    0.0   2.0    0.0\n2000-06-11 18:59:00  2.0   1.0   3.0   3.0    1.0   0.0    0.0\n2000-06-12 06:59:00  0.0   0.0   1.0   0.0    0.0   0.0    0.0\n2000-06-12 18:59:00  1.0   0.0   6.0   2.0    5.0   0.0    1.0\n2000-06-13 06:59:00  0.0   0.0   0.0   1.0    0.0   1.0    0.0\n2000-06-13 18:59:00  4.0   0.0   6.0   5.0    3.0   1.0    1.0\n2000-06-14 06:59:00  0.0   0.0   0.0   0.0    0.0   0.0    1.0\n2000-06-14 18:59:00  0.0   1.0   5.0   4.0    3.0   2.0    0.0\n2000-06-15 06:59:00  0.0   0.0   1.0   0.0    0.0   0.0    0.0\n2000-06-15 18:59:00  3.0   0.0   9.0   4.0    0.0   1.0    3.0\n2000-06-16 06:59:00  0.0   0.0   0.0   0.0    0.0   1.0    0.0\n2000-06-16 18:59:00  1.0   0.0   8.0   2.0    1.0   0.0    1.0\n2000-06-17 06:59:00  0.0   0.0   0.0   0.0    0.0   1.0    0.0\n2000-06-17 18:59:00  1.0   2.0   4.0   5.0    3.0   0.0    1.0\n2000-06-18 06:59:00  0.0   0.0   1.0   0.0    0.0   0.0    0.0\n2000-06-18 18:59:00  1.0   0.0   5.0   6.0    4.0   3.0    0.0\n2000-06-19 06:59:00  1.0   0.0   0.0   0.0    0.0   0.0    0.0\n2000-06-19 18:59:00  1.0   0.0   6.0   7.0    1.0   0.0    1.0\n2000-06-20 18:59:00  2.0   0.0   4.0   5.0    3.0   1.0    1.0\n2000-06-21 06:59:00  0.0   0.0   1.0   0.0    0.0   1.0    0.0\n2000-06-21 18:59:00  2.0   0.0   3.0   2.0    2.0   0.0    2.0\n2000-06-22 06:59:00  0.0   0.0   2.0   0.0    0.0   0.0    0.0\n2000-06-22 18:59:00  2.0   0.0   7.0   4.0    4.0   1.0    1.0\n2000-06-23 18:59:00  2.0   0.0   6.0   5.0    5.0   1.0    2.0\n2000-06-24 06:59:00  2.0   0.0   1.0   1.0    0.0   1.0    0.0\n2000-06-24 18:59:00  2.0   0.0   4.0   1.0    4.0   3.0    2.0\n2000-06-25 06:59:00  0.0   1.0   1.0   1.0    0.0   0.0    0.0\n2000-06-25 18:59:00  2.0   0.0   8.0   6.0    2.0   2.0    1.0\n2000-06-26 06:59:00  0.0   0.0   0.0   0.0    0.0   1.0    0.0\n2000-06-26 18:59:00  2.0   0.0   6.0   5.0    1.0   1.0    0.0\n2000-06-27 06:59:00  1.0   0.0   2.0   1.0    0.0   1.0    0.0\n2000-06-27 18:59:00  0.0   0.0  10.0   1.0    0.0   1.0    1.0\n2000-06-28 06:59:00  1.0   0.0   3.0   0.0    0.0   1.0    0.0\n2000-06-28 18:59:00  0.0   0.0   2.0   3.0    5.0   3.0    0.0\n2000-06-29 06:59:00  1.0   0.0   0.0   0.0    0.0   0.0    0.0\n2000-06-29 18:59:00  1.0   0.0   1.0   4.0    8.0   1.0    0.0\n2000-06-30 18:59:00  2.0   1.0   5.0   8.0    5.0   1.0    1.0",
      "text/html": "<div>\n<style scoped>\n    .dataframe tbody tr th:only-of-type {\n        vertical-align: middle;\n    }\n\n    .dataframe tbody tr th {\n        vertical-align: top;\n    }\n\n    .dataframe thead th {\n        text-align: right;\n    }\n</style>\n<table border=\"1\" class=\"dataframe\">\n  <thead>\n    <tr style=\"text-align: right;\">\n      <th>UNIT</th>\n      <th>CCU</th>\n      <th>CSRU</th>\n      <th>MICU</th>\n      <th>NICU</th>\n      <th>NWARD</th>\n      <th>SICU</th>\n      <th>TSICU</th>\n    </tr>\n    <tr>\n      <th>snapshot_time</th>\n      <th></th>\n      <th></th>\n      <th></th>\n      <th></th>\n      <th></th>\n      <th></th>\n      <th></th>\n    </tr>\n  </thead>\n  <tbody>\n    <tr>\n      <th>2000-06-01 06:59:00</th>\n      <td>0.0</td>\n      <td>0.0</td>\n      <td>5.0</td>\n      <td>0.0</td>\n      <td>0.0</td>\n      <td>0.0</td>\n      <td>0.0</td>\n    </tr>\n    <tr>\n      <th>2000-06-01 18:59:00</th>\n      <td>3.0</td>\n      <td>0.0</td>\n      <td>3.0</td>\n      <td>4.0</td>\n      <td>4.0</td>\n      <td>1.0</td>\n      <td>0.0</td>\n    </tr>\n    <tr>\n      <th>2000-06-02 06:59:00</th>\n      <td>0.0</td>\n      <td>1.0</td>\n      <td>1.0</td>\n      <td>0.0</td>\n      <td>0.0</td>\n      <td>0.0</td>\n      <td>0.0</td>\n    </tr>\n    <tr>\n      <th>2000-06-02 18:59:00</th>\n      <td>3.0</td>\n      <td>0.0</td>\n      <td>8.0</td>\n      <td>4.0</td>\n      <td>1.0</td>\n      <td>2.0</td>\n      <td>1.0</td>\n    </tr>\n    <tr>\n      <th>2000-06-03 06:59:00</th>\n      <td>0.0</td>\n      <td>0.0</td>\n      <td>1.0</td>\n      <td>0.0</td>\n      <td>0.0</td>\n      <td>0.0</td>\n      <td>0.0</td>\n    </tr>\n    <tr>\n      <th>2000-06-03 18:59:00</th>\n      <td>2.0</td>\n      <td>1.0</td>\n      <td>7.0</td>\n      <td>4.0</td>\n      <td>5.0</td>\n      <td>1.0</td>\n      <td>1.0</td>\n    </tr>\n    <tr>\n      <th>2000-06-04 06:59:00</th>\n      <td>0.0</td>\n      <td>0.0</td>\n      <td>2.0</td>\n      <td>1.0</td>\n      <td>0.0</td>\n      <td>1.0</td>\n      <td>0.0</td>\n    </tr>\n    <tr>\n      <th>2000-06-04 18:59:00</th>\n      <td>0.0</td>\n      <td>2.0</td>\n      <td>3.0</td>\n      <td>3.0</td>\n      <td>1.0</td>\n      <td>1.0</td>\n      <td>2.0</td>\n    </tr>\n    <tr>\n      <th>2000-06-05 18:59:00</th>\n      <td>1.0</td>\n      <td>0.0</td>\n      <td>5.0</td>\n      <td>6.0</td>\n      <td>2.0</td>\n      <td>1.0</td>\n      <td>0.0</td>\n    </tr>\n    <tr>\n      <th>2000-06-06 06:59:00</th>\n      <td>0.0</td>\n      <td>0.0</td>\n      <td>2.0</td>\n      <td>0.0</td>\n      <td>0.0</td>\n      <td>0.0</td>\n      <td>1.0</td>\n    </tr>\n    <tr>\n      <th>2000-06-06 18:59:00</th>\n      <td>1.0</td>\n      <td>1.0</td>\n      <td>7.0</td>\n      <td>5.0</td>\n      <td>2.0</td>\n      <td>2.0</td>\n      <td>1.0</td>\n    </tr>\n    <tr>\n      <th>2000-06-07 06:59:00</th>\n      <td>1.0</td>\n      <td>0.0</td>\n      <td>1.0</td>\n      <td>0.0</td>\n      <td>0.0</td>\n      <td>0.0</td>\n      <td>0.0</td>\n    </tr>\n    <tr>\n      <th>2000-06-07 18:59:00</th>\n      <td>0.0</td>\n      <td>0.0</td>\n      <td>4.0</td>\n      <td>3.0</td>\n      <td>2.0</td>\n      <td>0.0</td>\n      <td>1.0</td>\n    </tr>\n    <tr>\n      <th>2000-06-08 06:59:00</th>\n      <td>0.0</td>\n      <td>0.0</td>\n      <td>3.0</td>\n      <td>0.0</td>\n      <td>0.0</td>\n      <td>0.0</td>\n      <td>0.0</td>\n    </tr>\n    <tr>\n      <th>2000-06-08 18:59:00</th>\n      <td>3.0</td>\n      <td>0.0</td>\n      <td>3.0</td>\n      <td>7.0</td>\n      <td>3.0</td>\n      <td>2.0</td>\n      <td>0.0</td>\n    </tr>\n    <tr>\n      <th>2000-06-09 06:59:00</th>\n      <td>0.0</td>\n      <td>0.0</td>\n      <td>0.0</td>\n      <td>0.0</td>\n      <td>1.0</td>\n      <td>0.0</td>\n      <td>0.0</td>\n    </tr>\n    <tr>\n      <th>2000-06-09 18:59:00</th>\n      <td>0.0</td>\n      <td>0.0</td>\n      <td>4.0</td>\n      <td>4.0</td>\n      <td>4.0</td>\n      <td>2.0</td>\n      <td>0.0</td>\n    </tr>\n    <tr>\n      <th>2000-06-10 06:59:00</th>\n      <td>0.0</td>\n      <td>0.0</td>\n      <td>1.0</td>\n      <td>0.0</td>\n      <td>0.0</td>\n      <td>0.0</td>\n      <td>0.0</td>\n    </tr>\n    <tr>\n      <th>2000-06-10 18:59:00</th>\n      <td>4.0</td>\n      <td>0.0</td>\n      <td>4.0</td>\n      <td>7.0</td>\n      <td>0.0</td>\n      <td>3.0</td>\n      <td>1.0</td>\n    </tr>\n    <tr>\n      <th>2000-06-11 06:59:00</th>\n      <td>1.0</td>\n      <td>0.0</td>\n      <td>1.0</td>\n      <td>2.0</td>\n      <td>0.0</td>\n      <td>2.0</td>\n      <td>0.0</td>\n    </tr>\n    <tr>\n      <th>2000-06-11 18:59:00</th>\n      <td>2.0</td>\n      <td>1.0</td>\n      <td>3.0</td>\n      <td>3.0</td>\n      <td>1.0</td>\n      <td>0.0</td>\n      <td>0.0</td>\n    </tr>\n    <tr>\n      <th>2000-06-12 06:59:00</th>\n      <td>0.0</td>\n      <td>0.0</td>\n      <td>1.0</td>\n      <td>0.0</td>\n      <td>0.0</td>\n      <td>0.0</td>\n      <td>0.0</td>\n    </tr>\n    <tr>\n      <th>2000-06-12 18:59:00</th>\n      <td>1.0</td>\n      <td>0.0</td>\n      <td>6.0</td>\n      <td>2.0</td>\n      <td>5.0</td>\n      <td>0.0</td>\n      <td>1.0</td>\n    </tr>\n    <tr>\n      <th>2000-06-13 06:59:00</th>\n      <td>0.0</td>\n      <td>0.0</td>\n      <td>0.0</td>\n      <td>1.0</td>\n      <td>0.0</td>\n      <td>1.0</td>\n      <td>0.0</td>\n    </tr>\n    <tr>\n      <th>2000-06-13 18:59:00</th>\n      <td>4.0</td>\n      <td>0.0</td>\n      <td>6.0</td>\n      <td>5.0</td>\n      <td>3.0</td>\n      <td>1.0</td>\n      <td>1.0</td>\n    </tr>\n    <tr>\n      <th>2000-06-14 06:59:00</th>\n      <td>0.0</td>\n      <td>0.0</td>\n      <td>0.0</td>\n      <td>0.0</td>\n      <td>0.0</td>\n      <td>0.0</td>\n      <td>1.0</td>\n    </tr>\n    <tr>\n      <th>2000-06-14 18:59:00</th>\n      <td>0.0</td>\n      <td>1.0</td>\n      <td>5.0</td>\n      <td>4.0</td>\n      <td>3.0</td>\n      <td>2.0</td>\n      <td>0.0</td>\n    </tr>\n    <tr>\n      <th>2000-06-15 06:59:00</th>\n      <td>0.0</td>\n      <td>0.0</td>\n      <td>1.0</td>\n      <td>0.0</td>\n      <td>0.0</td>\n      <td>0.0</td>\n      <td>0.0</td>\n    </tr>\n    <tr>\n      <th>2000-06-15 18:59:00</th>\n      <td>3.0</td>\n      <td>0.0</td>\n      <td>9.0</td>\n      <td>4.0</td>\n      <td>0.0</td>\n      <td>1.0</td>\n      <td>3.0</td>\n    </tr>\n    <tr>\n      <th>2000-06-16 06:59:00</th>\n      <td>0.0</td>\n      <td>0.0</td>\n      <td>0.0</td>\n      <td>0.0</td>\n      <td>0.0</td>\n      <td>1.0</td>\n      <td>0.0</td>\n    </tr>\n    <tr>\n      <th>2000-06-16 18:59:00</th>\n      <td>1.0</td>\n      <td>0.0</td>\n      <td>8.0</td>\n      <td>2.0</td>\n      <td>1.0</td>\n      <td>0.0</td>\n      <td>1.0</td>\n    </tr>\n    <tr>\n      <th>2000-06-17 06:59:00</th>\n      <td>0.0</td>\n      <td>0.0</td>\n      <td>0.0</td>\n      <td>0.0</td>\n      <td>0.0</td>\n      <td>1.0</td>\n      <td>0.0</td>\n    </tr>\n    <tr>\n      <th>2000-06-17 18:59:00</th>\n      <td>1.0</td>\n      <td>2.0</td>\n      <td>4.0</td>\n      <td>5.0</td>\n      <td>3.0</td>\n      <td>0.0</td>\n      <td>1.0</td>\n    </tr>\n    <tr>\n      <th>2000-06-18 06:59:00</th>\n      <td>0.0</td>\n      <td>0.0</td>\n      <td>1.0</td>\n      <td>0.0</td>\n      <td>0.0</td>\n      <td>0.0</td>\n      <td>0.0</td>\n    </tr>\n    <tr>\n      <th>2000-06-18 18:59:00</th>\n      <td>1.0</td>\n      <td>0.0</td>\n      <td>5.0</td>\n      <td>6.0</td>\n      <td>4.0</td>\n      <td>3.0</td>\n      <td>0.0</td>\n    </tr>\n    <tr>\n      <th>2000-06-19 06:59:00</th>\n      <td>1.0</td>\n      <td>0.0</td>\n      <td>0.0</td>\n      <td>0.0</td>\n      <td>0.0</td>\n      <td>0.0</td>\n      <td>0.0</td>\n    </tr>\n    <tr>\n      <th>2000-06-19 18:59:00</th>\n      <td>1.0</td>\n      <td>0.0</td>\n      <td>6.0</td>\n      <td>7.0</td>\n      <td>1.0</td>\n      <td>0.0</td>\n      <td>1.0</td>\n    </tr>\n    <tr>\n      <th>2000-06-20 18:59:00</th>\n      <td>2.0</td>\n      <td>0.0</td>\n      <td>4.0</td>\n      <td>5.0</td>\n      <td>3.0</td>\n      <td>1.0</td>\n      <td>1.0</td>\n    </tr>\n    <tr>\n      <th>2000-06-21 06:59:00</th>\n      <td>0.0</td>\n      <td>0.0</td>\n      <td>1.0</td>\n      <td>0.0</td>\n      <td>0.0</td>\n      <td>1.0</td>\n      <td>0.0</td>\n    </tr>\n    <tr>\n      <th>2000-06-21 18:59:00</th>\n      <td>2.0</td>\n      <td>0.0</td>\n      <td>3.0</td>\n      <td>2.0</td>\n      <td>2.0</td>\n      <td>0.0</td>\n      <td>2.0</td>\n    </tr>\n    <tr>\n      <th>2000-06-22 06:59:00</th>\n      <td>0.0</td>\n      <td>0.0</td>\n      <td>2.0</td>\n      <td>0.0</td>\n      <td>0.0</td>\n      <td>0.0</td>\n      <td>0.0</td>\n    </tr>\n    <tr>\n      <th>2000-06-22 18:59:00</th>\n      <td>2.0</td>\n      <td>0.0</td>\n      <td>7.0</td>\n      <td>4.0</td>\n      <td>4.0</td>\n      <td>1.0</td>\n      <td>1.0</td>\n    </tr>\n    <tr>\n      <th>2000-06-23 18:59:00</th>\n      <td>2.0</td>\n      <td>0.0</td>\n      <td>6.0</td>\n      <td>5.0</td>\n      <td>5.0</td>\n      <td>1.0</td>\n      <td>2.0</td>\n    </tr>\n    <tr>\n      <th>2000-06-24 06:59:00</th>\n      <td>2.0</td>\n      <td>0.0</td>\n      <td>1.0</td>\n      <td>1.0</td>\n      <td>0.0</td>\n      <td>1.0</td>\n      <td>0.0</td>\n    </tr>\n    <tr>\n      <th>2000-06-24 18:59:00</th>\n      <td>2.0</td>\n      <td>0.0</td>\n      <td>4.0</td>\n      <td>1.0</td>\n      <td>4.0</td>\n      <td>3.0</td>\n      <td>2.0</td>\n    </tr>\n    <tr>\n      <th>2000-06-25 06:59:00</th>\n      <td>0.0</td>\n      <td>1.0</td>\n      <td>1.0</td>\n      <td>1.0</td>\n      <td>0.0</td>\n      <td>0.0</td>\n      <td>0.0</td>\n    </tr>\n    <tr>\n      <th>2000-06-25 18:59:00</th>\n      <td>2.0</td>\n      <td>0.0</td>\n      <td>8.0</td>\n      <td>6.0</td>\n      <td>2.0</td>\n      <td>2.0</td>\n      <td>1.0</td>\n    </tr>\n    <tr>\n      <th>2000-06-26 06:59:00</th>\n      <td>0.0</td>\n      <td>0.0</td>\n      <td>0.0</td>\n      <td>0.0</td>\n      <td>0.0</td>\n      <td>1.0</td>\n      <td>0.0</td>\n    </tr>\n    <tr>\n      <th>2000-06-26 18:59:00</th>\n      <td>2.0</td>\n      <td>0.0</td>\n      <td>6.0</td>\n      <td>5.0</td>\n      <td>1.0</td>\n      <td>1.0</td>\n      <td>0.0</td>\n    </tr>\n    <tr>\n      <th>2000-06-27 06:59:00</th>\n      <td>1.0</td>\n      <td>0.0</td>\n      <td>2.0</td>\n      <td>1.0</td>\n      <td>0.0</td>\n      <td>1.0</td>\n      <td>0.0</td>\n    </tr>\n    <tr>\n      <th>2000-06-27 18:59:00</th>\n      <td>0.0</td>\n      <td>0.0</td>\n      <td>10.0</td>\n      <td>1.0</td>\n      <td>0.0</td>\n      <td>1.0</td>\n      <td>1.0</td>\n    </tr>\n    <tr>\n      <th>2000-06-28 06:59:00</th>\n      <td>1.0</td>\n      <td>0.0</td>\n      <td>3.0</td>\n      <td>0.0</td>\n      <td>0.0</td>\n      <td>1.0</td>\n      <td>0.0</td>\n    </tr>\n    <tr>\n      <th>2000-06-28 18:59:00</th>\n      <td>0.0</td>\n      <td>0.0</td>\n      <td>2.0</td>\n      <td>3.0</td>\n      <td>5.0</td>\n      <td>3.0</td>\n      <td>0.0</td>\n    </tr>\n    <tr>\n      <th>2000-06-29 06:59:00</th>\n      <td>1.0</td>\n      <td>0.0</td>\n      <td>0.0</td>\n      <td>0.0</td>\n      <td>0.0</td>\n      <td>0.0</td>\n      <td>0.0</td>\n    </tr>\n    <tr>\n      <th>2000-06-29 18:59:00</th>\n      <td>1.0</td>\n      <td>0.0</td>\n      <td>1.0</td>\n      <td>4.0</td>\n      <td>8.0</td>\n      <td>1.0</td>\n      <td>0.0</td>\n    </tr>\n    <tr>\n      <th>2000-06-30 18:59:00</th>\n      <td>2.0</td>\n      <td>1.0</td>\n      <td>5.0</td>\n      <td>8.0</td>\n      <td>5.0</td>\n      <td>1.0</td>\n      <td>1.0</td>\n    </tr>\n  </tbody>\n</table>\n</div>"
     },
     "execution_count": 7,
     "metadata": {},
     "output_type": "execute_result"
    }
   ],
   "source": [
    "#displaying this wide for review but we'll actually take this pivot and unpivot it again once the zeroes are in place.\n",
    "discharge_df.reset_index().pivot(index ='snapshot_time', columns='UNIT', values = 'DISCHARGE_COUNT').fillna(0)"
   ],
   "metadata": {
    "collapsed": false,
    "pycharm": {
     "name": "#%%\n"
    }
   }
  },
  {
   "cell_type": "code",
   "execution_count": 8,
   "outputs": [
    {
     "data": {
      "text/plain": "                           DISCHARGE_COUNT\nsnapshot_time       UNIT                  \n2000-06-01 06:59:00 MICU                 5\n2000-06-01 18:59:00 CCU                  3\n                    MICU                 3\n                    NICU                 4\n                    NWARD                4\n...                                    ...\n2000-06-30 18:59:00 MICU                 5\n                    NICU                 8\n                    NWARD                5\n                    SICU                 1\n                    TSICU                1\n\n[207 rows x 1 columns]",
      "text/html": "<div>\n<style scoped>\n    .dataframe tbody tr th:only-of-type {\n        vertical-align: middle;\n    }\n\n    .dataframe tbody tr th {\n        vertical-align: top;\n    }\n\n    .dataframe thead th {\n        text-align: right;\n    }\n</style>\n<table border=\"1\" class=\"dataframe\">\n  <thead>\n    <tr style=\"text-align: right;\">\n      <th></th>\n      <th></th>\n      <th>DISCHARGE_COUNT</th>\n    </tr>\n    <tr>\n      <th>snapshot_time</th>\n      <th>UNIT</th>\n      <th></th>\n    </tr>\n  </thead>\n  <tbody>\n    <tr>\n      <th>2000-06-01 06:59:00</th>\n      <th>MICU</th>\n      <td>5</td>\n    </tr>\n    <tr>\n      <th rowspan=\"4\" valign=\"top\">2000-06-01 18:59:00</th>\n      <th>CCU</th>\n      <td>3</td>\n    </tr>\n    <tr>\n      <th>MICU</th>\n      <td>3</td>\n    </tr>\n    <tr>\n      <th>NICU</th>\n      <td>4</td>\n    </tr>\n    <tr>\n      <th>NWARD</th>\n      <td>4</td>\n    </tr>\n    <tr>\n      <th>...</th>\n      <th>...</th>\n      <td>...</td>\n    </tr>\n    <tr>\n      <th rowspan=\"5\" valign=\"top\">2000-06-30 18:59:00</th>\n      <th>MICU</th>\n      <td>5</td>\n    </tr>\n    <tr>\n      <th>NICU</th>\n      <td>8</td>\n    </tr>\n    <tr>\n      <th>NWARD</th>\n      <td>5</td>\n    </tr>\n    <tr>\n      <th>SICU</th>\n      <td>1</td>\n    </tr>\n    <tr>\n      <th>TSICU</th>\n      <td>1</td>\n    </tr>\n  </tbody>\n</table>\n<p>207 rows × 1 columns</p>\n</div>"
     },
     "execution_count": 8,
     "metadata": {},
     "output_type": "execute_result"
    }
   ],
   "source": [
    "discharge_df"
   ],
   "metadata": {
    "collapsed": false,
    "pycharm": {
     "name": "#%%\n"
    }
   }
  },
  {
   "cell_type": "code",
   "execution_count": 9,
   "outputs": [
    {
     "data": {
      "text/plain": "                           PATIENT_COUNT\nsnapshot_time       UNIT                \n2000-06-01 06:59:00 CCU               67\n                    CSRU              85\n                    MICU             225\n                    NICU             220\n                    NWARD             46\n...                                  ...\n2000-06-30 18:59:00 NICU             227\n                    NWARD             36\n                    SICU             126\n                    TSICU             79\n                    NaN              744\n\n[480 rows x 1 columns]",
      "text/html": "<div>\n<style scoped>\n    .dataframe tbody tr th:only-of-type {\n        vertical-align: middle;\n    }\n\n    .dataframe tbody tr th {\n        vertical-align: top;\n    }\n\n    .dataframe thead th {\n        text-align: right;\n    }\n</style>\n<table border=\"1\" class=\"dataframe\">\n  <thead>\n    <tr style=\"text-align: right;\">\n      <th></th>\n      <th></th>\n      <th>PATIENT_COUNT</th>\n    </tr>\n    <tr>\n      <th>snapshot_time</th>\n      <th>UNIT</th>\n      <th></th>\n    </tr>\n  </thead>\n  <tbody>\n    <tr>\n      <th rowspan=\"5\" valign=\"top\">2000-06-01 06:59:00</th>\n      <th>CCU</th>\n      <td>67</td>\n    </tr>\n    <tr>\n      <th>CSRU</th>\n      <td>85</td>\n    </tr>\n    <tr>\n      <th>MICU</th>\n      <td>225</td>\n    </tr>\n    <tr>\n      <th>NICU</th>\n      <td>220</td>\n    </tr>\n    <tr>\n      <th>NWARD</th>\n      <td>46</td>\n    </tr>\n    <tr>\n      <th>...</th>\n      <th>...</th>\n      <td>...</td>\n    </tr>\n    <tr>\n      <th rowspan=\"5\" valign=\"top\">2000-06-30 18:59:00</th>\n      <th>NICU</th>\n      <td>227</td>\n    </tr>\n    <tr>\n      <th>NWARD</th>\n      <td>36</td>\n    </tr>\n    <tr>\n      <th>SICU</th>\n      <td>126</td>\n    </tr>\n    <tr>\n      <th>TSICU</th>\n      <td>79</td>\n    </tr>\n    <tr>\n      <th>NaN</th>\n      <td>744</td>\n    </tr>\n  </tbody>\n</table>\n<p>480 rows × 1 columns</p>\n</div>"
     },
     "execution_count": 9,
     "metadata": {},
     "output_type": "execute_result"
    }
   ],
   "source": [
    "unit_population = snap_df.groupby(['snapshot_time','UNIT'],dropna=False).nunique().rename(columns={'SUBJECT_ID':'PATIENT_COUNT'})\n",
    "unit_population"
   ],
   "metadata": {
    "collapsed": false,
    "pycharm": {
     "name": "#%%\n"
    }
   }
  },
  {
   "cell_type": "code",
   "execution_count": 10,
   "outputs": [
    {
     "data": {
      "text/plain": "UNIT                 NaN  CCU  CSRU  MICU  NICU  NWARD  SICU  TSICU\nsnapshot_time                                                      \n2000-06-01 06:59:00  816   67    85   225   220     46   129     84\n2000-06-01 18:59:00  766   63    93   204   213     38   124     74\n2000-06-02 06:59:00  802   68    91   197   220     43   133     75\n2000-06-02 18:59:00  760   66    86   188   221     34   128     76\n2000-06-03 06:59:00  803   65    86   193   220     39   126     76\n2000-06-03 18:59:00  772   53    90   191   222     37   119     72\n2000-06-04 06:59:00  813   59    88   211   224     40   125     73\n2000-06-04 18:59:00  748   51    85   218   224     43   127     74\n2000-06-05 06:59:00  791   53    83   234   229     50   140     77\n2000-06-05 18:59:00  712   54    96   224   225     51   132     74\n2000-06-06 06:59:00  748   56    92   238   224     47   133     81\n2000-06-06 18:59:00  720   54    90   222   220     35   128     70\n2000-06-07 06:59:00  760   52    87   238   220     39   134     67\n2000-06-07 18:59:00  718   51    86   222   217     30   121     66\n2000-06-08 06:59:00  747   57    85   234   217     36   123     70\n2000-06-08 18:59:00  727   48    81   227   212     27   122     67\n2000-06-09 06:59:00  760   52    82   237   214     32   120     68\n2000-06-09 18:59:00  714   63    95   236   216     24   115     59\n2000-06-10 06:59:00  748   66    93   256   216     30   120     64\n2000-06-10 18:59:00  717   64   100   235   210     32   120     64\n2000-06-11 06:59:00  758   69   100   245   208     36   123     81\n2000-06-11 18:59:00  718   71   104   245   205     35   123     73\n2000-06-12 06:59:00  764   75   106   258   205     40   121     71\n2000-06-12 18:59:00  761   61    94   234   200     39   116     64\n2000-06-13 06:59:00  791   67    95   240   205     42   125     75\n2000-06-13 18:59:00  785   64    92   211   201     34   127     74\n2000-06-14 06:59:00  822   69    94   222   205     31   133     83\n2000-06-14 18:59:00  744   69    90   222   206     21   128     78\n2000-06-15 06:59:00  779   67    94   235   206     26   131     85\n2000-06-15 18:59:00  735   71    88   215   201     27   125     81\n2000-06-16 06:59:00  769   71    87   216   207     30   138     94\n2000-06-16 18:59:00  748   64    88   204   204     34   134     88\n2000-06-17 06:59:00  782   69    87   213   205     37   135     96\n2000-06-17 18:59:00  733   68    92   215   201     33   125     99\n2000-06-18 06:59:00  764   72    91   230   205     42   129     90\n2000-06-18 18:59:00  726   60    89   225   211     37   117     81\n2000-06-19 06:59:00  768   59    88   247   211     44   118     84\n2000-06-19 18:59:00  736   60    88   234   203     51   106     85\n2000-06-20 06:59:00  772   68    86   247   208     55   111     83\n2000-06-20 18:59:00  741   59    93   238   212     45   105     77\n2000-06-21 06:59:00  787   68    92   246   208     54   114     73\n2000-06-21 18:59:00  749   56    86   230   205     46   121     71\n2000-06-22 06:59:00  765   64    86   238   207     51   135     80\n2000-06-22 18:59:00  719   60    86   225   207     37   133     80\n2000-06-23 06:59:00  766   68    82   233   213     39   136     79\n2000-06-23 18:59:00  761   54    89   222   214     31   136     66\n2000-06-24 06:59:00  787   50    85   244   215     42   142     70\n2000-06-24 18:59:00  752   52    82   242   213     41   131     62\n2000-06-25 06:59:00  801   50    85   246   216     45   129     63\n2000-06-25 18:59:00  749   52    85   229   215     43   125     66\n2000-06-26 06:59:00  770   61    88   258   220     46   133     65\n2000-06-26 18:59:00  743   59    97   251   218     46   126     61\n2000-06-27 06:59:00  789   66    97   250   222     52   138     65\n2000-06-27 18:59:00  751   60   102   237   224     42   128     68\n2000-06-28 06:59:00  784   62   100   250   230     47   134     74\n2000-06-28 18:59:00  758   56    97   239   227     41   130     72\n2000-06-29 06:59:00  809   61    97   232   232     49   137     72\n2000-06-29 18:59:00  764   56   105   232   229     42   125     67\n2000-06-30 06:59:00  785   60   108   246   233     45   129     73\n2000-06-30 18:59:00  744   62   110   238   227     36   126     79",
      "text/html": "<div>\n<style scoped>\n    .dataframe tbody tr th:only-of-type {\n        vertical-align: middle;\n    }\n\n    .dataframe tbody tr th {\n        vertical-align: top;\n    }\n\n    .dataframe thead th {\n        text-align: right;\n    }\n</style>\n<table border=\"1\" class=\"dataframe\">\n  <thead>\n    <tr style=\"text-align: right;\">\n      <th>UNIT</th>\n      <th>NaN</th>\n      <th>CCU</th>\n      <th>CSRU</th>\n      <th>MICU</th>\n      <th>NICU</th>\n      <th>NWARD</th>\n      <th>SICU</th>\n      <th>TSICU</th>\n    </tr>\n    <tr>\n      <th>snapshot_time</th>\n      <th></th>\n      <th></th>\n      <th></th>\n      <th></th>\n      <th></th>\n      <th></th>\n      <th></th>\n      <th></th>\n    </tr>\n  </thead>\n  <tbody>\n    <tr>\n      <th>2000-06-01 06:59:00</th>\n      <td>816</td>\n      <td>67</td>\n      <td>85</td>\n      <td>225</td>\n      <td>220</td>\n      <td>46</td>\n      <td>129</td>\n      <td>84</td>\n    </tr>\n    <tr>\n      <th>2000-06-01 18:59:00</th>\n      <td>766</td>\n      <td>63</td>\n      <td>93</td>\n      <td>204</td>\n      <td>213</td>\n      <td>38</td>\n      <td>124</td>\n      <td>74</td>\n    </tr>\n    <tr>\n      <th>2000-06-02 06:59:00</th>\n      <td>802</td>\n      <td>68</td>\n      <td>91</td>\n      <td>197</td>\n      <td>220</td>\n      <td>43</td>\n      <td>133</td>\n      <td>75</td>\n    </tr>\n    <tr>\n      <th>2000-06-02 18:59:00</th>\n      <td>760</td>\n      <td>66</td>\n      <td>86</td>\n      <td>188</td>\n      <td>221</td>\n      <td>34</td>\n      <td>128</td>\n      <td>76</td>\n    </tr>\n    <tr>\n      <th>2000-06-03 06:59:00</th>\n      <td>803</td>\n      <td>65</td>\n      <td>86</td>\n      <td>193</td>\n      <td>220</td>\n      <td>39</td>\n      <td>126</td>\n      <td>76</td>\n    </tr>\n    <tr>\n      <th>2000-06-03 18:59:00</th>\n      <td>772</td>\n      <td>53</td>\n      <td>90</td>\n      <td>191</td>\n      <td>222</td>\n      <td>37</td>\n      <td>119</td>\n      <td>72</td>\n    </tr>\n    <tr>\n      <th>2000-06-04 06:59:00</th>\n      <td>813</td>\n      <td>59</td>\n      <td>88</td>\n      <td>211</td>\n      <td>224</td>\n      <td>40</td>\n      <td>125</td>\n      <td>73</td>\n    </tr>\n    <tr>\n      <th>2000-06-04 18:59:00</th>\n      <td>748</td>\n      <td>51</td>\n      <td>85</td>\n      <td>218</td>\n      <td>224</td>\n      <td>43</td>\n      <td>127</td>\n      <td>74</td>\n    </tr>\n    <tr>\n      <th>2000-06-05 06:59:00</th>\n      <td>791</td>\n      <td>53</td>\n      <td>83</td>\n      <td>234</td>\n      <td>229</td>\n      <td>50</td>\n      <td>140</td>\n      <td>77</td>\n    </tr>\n    <tr>\n      <th>2000-06-05 18:59:00</th>\n      <td>712</td>\n      <td>54</td>\n      <td>96</td>\n      <td>224</td>\n      <td>225</td>\n      <td>51</td>\n      <td>132</td>\n      <td>74</td>\n    </tr>\n    <tr>\n      <th>2000-06-06 06:59:00</th>\n      <td>748</td>\n      <td>56</td>\n      <td>92</td>\n      <td>238</td>\n      <td>224</td>\n      <td>47</td>\n      <td>133</td>\n      <td>81</td>\n    </tr>\n    <tr>\n      <th>2000-06-06 18:59:00</th>\n      <td>720</td>\n      <td>54</td>\n      <td>90</td>\n      <td>222</td>\n      <td>220</td>\n      <td>35</td>\n      <td>128</td>\n      <td>70</td>\n    </tr>\n    <tr>\n      <th>2000-06-07 06:59:00</th>\n      <td>760</td>\n      <td>52</td>\n      <td>87</td>\n      <td>238</td>\n      <td>220</td>\n      <td>39</td>\n      <td>134</td>\n      <td>67</td>\n    </tr>\n    <tr>\n      <th>2000-06-07 18:59:00</th>\n      <td>718</td>\n      <td>51</td>\n      <td>86</td>\n      <td>222</td>\n      <td>217</td>\n      <td>30</td>\n      <td>121</td>\n      <td>66</td>\n    </tr>\n    <tr>\n      <th>2000-06-08 06:59:00</th>\n      <td>747</td>\n      <td>57</td>\n      <td>85</td>\n      <td>234</td>\n      <td>217</td>\n      <td>36</td>\n      <td>123</td>\n      <td>70</td>\n    </tr>\n    <tr>\n      <th>2000-06-08 18:59:00</th>\n      <td>727</td>\n      <td>48</td>\n      <td>81</td>\n      <td>227</td>\n      <td>212</td>\n      <td>27</td>\n      <td>122</td>\n      <td>67</td>\n    </tr>\n    <tr>\n      <th>2000-06-09 06:59:00</th>\n      <td>760</td>\n      <td>52</td>\n      <td>82</td>\n      <td>237</td>\n      <td>214</td>\n      <td>32</td>\n      <td>120</td>\n      <td>68</td>\n    </tr>\n    <tr>\n      <th>2000-06-09 18:59:00</th>\n      <td>714</td>\n      <td>63</td>\n      <td>95</td>\n      <td>236</td>\n      <td>216</td>\n      <td>24</td>\n      <td>115</td>\n      <td>59</td>\n    </tr>\n    <tr>\n      <th>2000-06-10 06:59:00</th>\n      <td>748</td>\n      <td>66</td>\n      <td>93</td>\n      <td>256</td>\n      <td>216</td>\n      <td>30</td>\n      <td>120</td>\n      <td>64</td>\n    </tr>\n    <tr>\n      <th>2000-06-10 18:59:00</th>\n      <td>717</td>\n      <td>64</td>\n      <td>100</td>\n      <td>235</td>\n      <td>210</td>\n      <td>32</td>\n      <td>120</td>\n      <td>64</td>\n    </tr>\n    <tr>\n      <th>2000-06-11 06:59:00</th>\n      <td>758</td>\n      <td>69</td>\n      <td>100</td>\n      <td>245</td>\n      <td>208</td>\n      <td>36</td>\n      <td>123</td>\n      <td>81</td>\n    </tr>\n    <tr>\n      <th>2000-06-11 18:59:00</th>\n      <td>718</td>\n      <td>71</td>\n      <td>104</td>\n      <td>245</td>\n      <td>205</td>\n      <td>35</td>\n      <td>123</td>\n      <td>73</td>\n    </tr>\n    <tr>\n      <th>2000-06-12 06:59:00</th>\n      <td>764</td>\n      <td>75</td>\n      <td>106</td>\n      <td>258</td>\n      <td>205</td>\n      <td>40</td>\n      <td>121</td>\n      <td>71</td>\n    </tr>\n    <tr>\n      <th>2000-06-12 18:59:00</th>\n      <td>761</td>\n      <td>61</td>\n      <td>94</td>\n      <td>234</td>\n      <td>200</td>\n      <td>39</td>\n      <td>116</td>\n      <td>64</td>\n    </tr>\n    <tr>\n      <th>2000-06-13 06:59:00</th>\n      <td>791</td>\n      <td>67</td>\n      <td>95</td>\n      <td>240</td>\n      <td>205</td>\n      <td>42</td>\n      <td>125</td>\n      <td>75</td>\n    </tr>\n    <tr>\n      <th>2000-06-13 18:59:00</th>\n      <td>785</td>\n      <td>64</td>\n      <td>92</td>\n      <td>211</td>\n      <td>201</td>\n      <td>34</td>\n      <td>127</td>\n      <td>74</td>\n    </tr>\n    <tr>\n      <th>2000-06-14 06:59:00</th>\n      <td>822</td>\n      <td>69</td>\n      <td>94</td>\n      <td>222</td>\n      <td>205</td>\n      <td>31</td>\n      <td>133</td>\n      <td>83</td>\n    </tr>\n    <tr>\n      <th>2000-06-14 18:59:00</th>\n      <td>744</td>\n      <td>69</td>\n      <td>90</td>\n      <td>222</td>\n      <td>206</td>\n      <td>21</td>\n      <td>128</td>\n      <td>78</td>\n    </tr>\n    <tr>\n      <th>2000-06-15 06:59:00</th>\n      <td>779</td>\n      <td>67</td>\n      <td>94</td>\n      <td>235</td>\n      <td>206</td>\n      <td>26</td>\n      <td>131</td>\n      <td>85</td>\n    </tr>\n    <tr>\n      <th>2000-06-15 18:59:00</th>\n      <td>735</td>\n      <td>71</td>\n      <td>88</td>\n      <td>215</td>\n      <td>201</td>\n      <td>27</td>\n      <td>125</td>\n      <td>81</td>\n    </tr>\n    <tr>\n      <th>2000-06-16 06:59:00</th>\n      <td>769</td>\n      <td>71</td>\n      <td>87</td>\n      <td>216</td>\n      <td>207</td>\n      <td>30</td>\n      <td>138</td>\n      <td>94</td>\n    </tr>\n    <tr>\n      <th>2000-06-16 18:59:00</th>\n      <td>748</td>\n      <td>64</td>\n      <td>88</td>\n      <td>204</td>\n      <td>204</td>\n      <td>34</td>\n      <td>134</td>\n      <td>88</td>\n    </tr>\n    <tr>\n      <th>2000-06-17 06:59:00</th>\n      <td>782</td>\n      <td>69</td>\n      <td>87</td>\n      <td>213</td>\n      <td>205</td>\n      <td>37</td>\n      <td>135</td>\n      <td>96</td>\n    </tr>\n    <tr>\n      <th>2000-06-17 18:59:00</th>\n      <td>733</td>\n      <td>68</td>\n      <td>92</td>\n      <td>215</td>\n      <td>201</td>\n      <td>33</td>\n      <td>125</td>\n      <td>99</td>\n    </tr>\n    <tr>\n      <th>2000-06-18 06:59:00</th>\n      <td>764</td>\n      <td>72</td>\n      <td>91</td>\n      <td>230</td>\n      <td>205</td>\n      <td>42</td>\n      <td>129</td>\n      <td>90</td>\n    </tr>\n    <tr>\n      <th>2000-06-18 18:59:00</th>\n      <td>726</td>\n      <td>60</td>\n      <td>89</td>\n      <td>225</td>\n      <td>211</td>\n      <td>37</td>\n      <td>117</td>\n      <td>81</td>\n    </tr>\n    <tr>\n      <th>2000-06-19 06:59:00</th>\n      <td>768</td>\n      <td>59</td>\n      <td>88</td>\n      <td>247</td>\n      <td>211</td>\n      <td>44</td>\n      <td>118</td>\n      <td>84</td>\n    </tr>\n    <tr>\n      <th>2000-06-19 18:59:00</th>\n      <td>736</td>\n      <td>60</td>\n      <td>88</td>\n      <td>234</td>\n      <td>203</td>\n      <td>51</td>\n      <td>106</td>\n      <td>85</td>\n    </tr>\n    <tr>\n      <th>2000-06-20 06:59:00</th>\n      <td>772</td>\n      <td>68</td>\n      <td>86</td>\n      <td>247</td>\n      <td>208</td>\n      <td>55</td>\n      <td>111</td>\n      <td>83</td>\n    </tr>\n    <tr>\n      <th>2000-06-20 18:59:00</th>\n      <td>741</td>\n      <td>59</td>\n      <td>93</td>\n      <td>238</td>\n      <td>212</td>\n      <td>45</td>\n      <td>105</td>\n      <td>77</td>\n    </tr>\n    <tr>\n      <th>2000-06-21 06:59:00</th>\n      <td>787</td>\n      <td>68</td>\n      <td>92</td>\n      <td>246</td>\n      <td>208</td>\n      <td>54</td>\n      <td>114</td>\n      <td>73</td>\n    </tr>\n    <tr>\n      <th>2000-06-21 18:59:00</th>\n      <td>749</td>\n      <td>56</td>\n      <td>86</td>\n      <td>230</td>\n      <td>205</td>\n      <td>46</td>\n      <td>121</td>\n      <td>71</td>\n    </tr>\n    <tr>\n      <th>2000-06-22 06:59:00</th>\n      <td>765</td>\n      <td>64</td>\n      <td>86</td>\n      <td>238</td>\n      <td>207</td>\n      <td>51</td>\n      <td>135</td>\n      <td>80</td>\n    </tr>\n    <tr>\n      <th>2000-06-22 18:59:00</th>\n      <td>719</td>\n      <td>60</td>\n      <td>86</td>\n      <td>225</td>\n      <td>207</td>\n      <td>37</td>\n      <td>133</td>\n      <td>80</td>\n    </tr>\n    <tr>\n      <th>2000-06-23 06:59:00</th>\n      <td>766</td>\n      <td>68</td>\n      <td>82</td>\n      <td>233</td>\n      <td>213</td>\n      <td>39</td>\n      <td>136</td>\n      <td>79</td>\n    </tr>\n    <tr>\n      <th>2000-06-23 18:59:00</th>\n      <td>761</td>\n      <td>54</td>\n      <td>89</td>\n      <td>222</td>\n      <td>214</td>\n      <td>31</td>\n      <td>136</td>\n      <td>66</td>\n    </tr>\n    <tr>\n      <th>2000-06-24 06:59:00</th>\n      <td>787</td>\n      <td>50</td>\n      <td>85</td>\n      <td>244</td>\n      <td>215</td>\n      <td>42</td>\n      <td>142</td>\n      <td>70</td>\n    </tr>\n    <tr>\n      <th>2000-06-24 18:59:00</th>\n      <td>752</td>\n      <td>52</td>\n      <td>82</td>\n      <td>242</td>\n      <td>213</td>\n      <td>41</td>\n      <td>131</td>\n      <td>62</td>\n    </tr>\n    <tr>\n      <th>2000-06-25 06:59:00</th>\n      <td>801</td>\n      <td>50</td>\n      <td>85</td>\n      <td>246</td>\n      <td>216</td>\n      <td>45</td>\n      <td>129</td>\n      <td>63</td>\n    </tr>\n    <tr>\n      <th>2000-06-25 18:59:00</th>\n      <td>749</td>\n      <td>52</td>\n      <td>85</td>\n      <td>229</td>\n      <td>215</td>\n      <td>43</td>\n      <td>125</td>\n      <td>66</td>\n    </tr>\n    <tr>\n      <th>2000-06-26 06:59:00</th>\n      <td>770</td>\n      <td>61</td>\n      <td>88</td>\n      <td>258</td>\n      <td>220</td>\n      <td>46</td>\n      <td>133</td>\n      <td>65</td>\n    </tr>\n    <tr>\n      <th>2000-06-26 18:59:00</th>\n      <td>743</td>\n      <td>59</td>\n      <td>97</td>\n      <td>251</td>\n      <td>218</td>\n      <td>46</td>\n      <td>126</td>\n      <td>61</td>\n    </tr>\n    <tr>\n      <th>2000-06-27 06:59:00</th>\n      <td>789</td>\n      <td>66</td>\n      <td>97</td>\n      <td>250</td>\n      <td>222</td>\n      <td>52</td>\n      <td>138</td>\n      <td>65</td>\n    </tr>\n    <tr>\n      <th>2000-06-27 18:59:00</th>\n      <td>751</td>\n      <td>60</td>\n      <td>102</td>\n      <td>237</td>\n      <td>224</td>\n      <td>42</td>\n      <td>128</td>\n      <td>68</td>\n    </tr>\n    <tr>\n      <th>2000-06-28 06:59:00</th>\n      <td>784</td>\n      <td>62</td>\n      <td>100</td>\n      <td>250</td>\n      <td>230</td>\n      <td>47</td>\n      <td>134</td>\n      <td>74</td>\n    </tr>\n    <tr>\n      <th>2000-06-28 18:59:00</th>\n      <td>758</td>\n      <td>56</td>\n      <td>97</td>\n      <td>239</td>\n      <td>227</td>\n      <td>41</td>\n      <td>130</td>\n      <td>72</td>\n    </tr>\n    <tr>\n      <th>2000-06-29 06:59:00</th>\n      <td>809</td>\n      <td>61</td>\n      <td>97</td>\n      <td>232</td>\n      <td>232</td>\n      <td>49</td>\n      <td>137</td>\n      <td>72</td>\n    </tr>\n    <tr>\n      <th>2000-06-29 18:59:00</th>\n      <td>764</td>\n      <td>56</td>\n      <td>105</td>\n      <td>232</td>\n      <td>229</td>\n      <td>42</td>\n      <td>125</td>\n      <td>67</td>\n    </tr>\n    <tr>\n      <th>2000-06-30 06:59:00</th>\n      <td>785</td>\n      <td>60</td>\n      <td>108</td>\n      <td>246</td>\n      <td>233</td>\n      <td>45</td>\n      <td>129</td>\n      <td>73</td>\n    </tr>\n    <tr>\n      <th>2000-06-30 18:59:00</th>\n      <td>744</td>\n      <td>62</td>\n      <td>110</td>\n      <td>238</td>\n      <td>227</td>\n      <td>36</td>\n      <td>126</td>\n      <td>79</td>\n    </tr>\n  </tbody>\n</table>\n</div>"
     },
     "execution_count": 10,
     "metadata": {},
     "output_type": "execute_result"
    }
   ],
   "source": [
    "# again, pivoting this for display, but not bothering to fill zeros and melt out again.\n",
    "unit_population.reset_index().pivot(index ='snapshot_time', columns='UNIT', values = 'PATIENT_COUNT').fillna(0)"
   ],
   "metadata": {
    "collapsed": false,
    "pycharm": {
     "name": "#%%\n"
    }
   }
  },
  {
   "cell_type": "code",
   "execution_count": 11,
   "outputs": [
    {
     "data": {
      "text/plain": "                           TEAM_COUNT\nsnapshot_time       UNIT             \n2000-06-01 06:59:00 CCU            47\n                    CSRU           66\n                    MICU          149\n                    NICU          123\n                    NWARD          13\n...                               ...\n2000-06-30 18:59:00 NICU          159\n                    NWARD          17\n                    SICU           82\n                    TSICU          57\n                    NaN            41\n\n[480 rows x 1 columns]",
      "text/html": "<div>\n<style scoped>\n    .dataframe tbody tr th:only-of-type {\n        vertical-align: middle;\n    }\n\n    .dataframe tbody tr th {\n        vertical-align: top;\n    }\n\n    .dataframe thead th {\n        text-align: right;\n    }\n</style>\n<table border=\"1\" class=\"dataframe\">\n  <thead>\n    <tr style=\"text-align: right;\">\n      <th></th>\n      <th></th>\n      <th>TEAM_COUNT</th>\n    </tr>\n    <tr>\n      <th>snapshot_time</th>\n      <th>UNIT</th>\n      <th></th>\n    </tr>\n  </thead>\n  <tbody>\n    <tr>\n      <th rowspan=\"5\" valign=\"top\">2000-06-01 06:59:00</th>\n      <th>CCU</th>\n      <td>47</td>\n    </tr>\n    <tr>\n      <th>CSRU</th>\n      <td>66</td>\n    </tr>\n    <tr>\n      <th>MICU</th>\n      <td>149</td>\n    </tr>\n    <tr>\n      <th>NICU</th>\n      <td>123</td>\n    </tr>\n    <tr>\n      <th>NWARD</th>\n      <td>13</td>\n    </tr>\n    <tr>\n      <th>...</th>\n      <th>...</th>\n      <td>...</td>\n    </tr>\n    <tr>\n      <th rowspan=\"5\" valign=\"top\">2000-06-30 18:59:00</th>\n      <th>NICU</th>\n      <td>159</td>\n    </tr>\n    <tr>\n      <th>NWARD</th>\n      <td>17</td>\n    </tr>\n    <tr>\n      <th>SICU</th>\n      <td>82</td>\n    </tr>\n    <tr>\n      <th>TSICU</th>\n      <td>57</td>\n    </tr>\n    <tr>\n      <th>NaN</th>\n      <td>41</td>\n    </tr>\n  </tbody>\n</table>\n<p>480 rows × 1 columns</p>\n</div>"
     },
     "execution_count": 11,
     "metadata": {},
     "output_type": "execute_result"
    }
   ],
   "source": [
    "caregiver_population = snap_df.set_index(['SUBJECT_ID', 'snapshot_time'])\\\n",
    "    .join(care_df.set_index(['SUBJECT_ID', 'snapshot_time']))\\\n",
    "    .dropna(subset = ['CGID'], axis=0)\\\n",
    "    .reset_index()\\\n",
    "    .drop(columns=['SUBJECT_ID','LABEL', 'DESCRIPTION'])\\\n",
    "    .groupby(['snapshot_time','UNIT'], dropna = False)\\\n",
    "    .nunique().rename(columns={'CGID':'TEAM_COUNT'})\n",
    "caregiver_population"
   ],
   "metadata": {
    "collapsed": false,
    "pycharm": {
     "name": "#%%\n"
    }
   }
  },
  {
   "cell_type": "code",
   "execution_count": 12,
   "outputs": [
    {
     "data": {
      "text/plain": "UNIT                 NaN  CCU  CSRU  MICU  NICU  NWARD  SICU  TSICU\nsnapshot_time                                                      \n2000-06-01 06:59:00   11   47    66   149   123     13   101     78\n2000-06-01 18:59:00   53   41    63   165   158     12    90     57\n2000-06-02 06:59:00   17   37    68   140   114      6    99     67\n2000-06-02 18:59:00   28   39    58   156   152      7    95     56\n2000-06-03 06:59:00    8   41    63   137   122     10    90     67\n2000-06-03 18:59:00   29   40    65   147   164     17    78     64\n2000-06-04 06:59:00    7   36    71   147   131      5    87     68\n2000-06-04 18:59:00   23   43    72   169   150     15    81     49\n2000-06-05 06:59:00   14   32    60   152   121      9    95     71\n2000-06-05 18:59:00   57   44    69   179   159     13    92     47\n2000-06-06 06:59:00   13   42    69   143   127      2    94     60\n2000-06-06 18:59:00   33   32    77   171   161     15    86     57\n2000-06-07 06:59:00   11   46    76   155   116      7    98     60\n2000-06-07 18:59:00   23   35    83   164   157      5    92     46\n2000-06-08 06:59:00    6   41    71   149   117     12    86     58\n2000-06-08 18:59:00   33   32    68   171   154     15    83     55\n2000-06-09 06:59:00   17   36    65   158   125      6    87     56\n2000-06-09 18:59:00   45   34    72   173   155     11    69     41\n2000-06-10 06:59:00   15   34    69   180   130      9    87     56\n2000-06-10 18:59:00   68   40    85   179   148     13    93     45\n2000-06-11 06:59:00   11   42    65   167   128      8    86     67\n2000-06-11 18:59:00   44   37    86   182   161     11    78     59\n2000-06-12 06:59:00   17   46    66   146   124      7   100     64\n2000-06-12 18:59:00   62   39    85   167   150     21    83     52\n2000-06-13 06:59:00    9   41    65   149   128     12    99     62\n2000-06-13 18:59:00   51   38    69   146   149     10    87     52\n2000-06-14 06:59:00   14   41    78   149   124      3    98     64\n2000-06-14 18:59:00   44   38    78   149   149     11    90     50\n2000-06-15 06:59:00   16   35    60   158   123      8    90     64\n2000-06-15 18:59:00   55   38    67   156   154     11    83     66\n2000-06-16 06:59:00   10   48    57   150   121      6    94     76\n2000-06-16 18:59:00   35   45    71   149   157     11    80     68\n2000-06-17 06:59:00   13   35    70   137   117      7   100     69\n2000-06-17 18:59:00   36   42    74   151   166     12    91     65\n2000-06-18 06:59:00   11   35    72   149   119     13    94     74\n2000-06-18 18:59:00   44   35    68   166   151     16    71     65\n2000-06-19 06:59:00   14   41    66   174   125      8    79     81\n2000-06-19 18:59:00   49   33    69   176   154     27    82     63\n2000-06-20 06:59:00   15   38    68   148   123     13    81     72\n2000-06-20 18:59:00   26   37    78   175   151     16    66     63\n2000-06-21 06:59:00   17   45    80   174   126     11    85     72\n2000-06-21 18:59:00   64   45    76   161   158     13   100     56\n2000-06-22 06:59:00    8   41    65   152   116      4   106     75\n2000-06-22 18:59:00   39   41    79   167   157      9    83     60\n2000-06-23 06:59:00   12   40    72   157   115      7    94     77\n2000-06-23 18:59:00   46   39    73   161   154     17    91     51\n2000-06-24 06:59:00   10   35    68   155   127     11    93     64\n2000-06-24 18:59:00   44   25    72   189   150     21    87     48\n2000-06-25 06:59:00   12   40    59   154   128     11    92     59\n2000-06-25 18:59:00   34   34    71   191   156     21    91     43\n2000-06-26 06:59:00   14   49    66   167   129      7    97     56\n2000-06-26 18:59:00   34   39    72   181   152     17    89     48\n2000-06-27 06:59:00   10   42    65   155   127      6    96     49\n2000-06-27 18:59:00   42   48    81   182   160     15    87     45\n2000-06-28 06:59:00   20   50    71   168   126      6    96     62\n2000-06-28 18:59:00   58   51    72   160   163     18    71     46\n2000-06-29 06:59:00   12   44    70   142   126      9    86     61\n2000-06-29 18:59:00   28   47    64   178   166     16    75     52\n2000-06-30 06:59:00   15   55    76   154   133     11    90     62\n2000-06-30 18:59:00   41   54    75   156   159     17    82     57",
      "text/html": "<div>\n<style scoped>\n    .dataframe tbody tr th:only-of-type {\n        vertical-align: middle;\n    }\n\n    .dataframe tbody tr th {\n        vertical-align: top;\n    }\n\n    .dataframe thead th {\n        text-align: right;\n    }\n</style>\n<table border=\"1\" class=\"dataframe\">\n  <thead>\n    <tr style=\"text-align: right;\">\n      <th>UNIT</th>\n      <th>NaN</th>\n      <th>CCU</th>\n      <th>CSRU</th>\n      <th>MICU</th>\n      <th>NICU</th>\n      <th>NWARD</th>\n      <th>SICU</th>\n      <th>TSICU</th>\n    </tr>\n    <tr>\n      <th>snapshot_time</th>\n      <th></th>\n      <th></th>\n      <th></th>\n      <th></th>\n      <th></th>\n      <th></th>\n      <th></th>\n      <th></th>\n    </tr>\n  </thead>\n  <tbody>\n    <tr>\n      <th>2000-06-01 06:59:00</th>\n      <td>11</td>\n      <td>47</td>\n      <td>66</td>\n      <td>149</td>\n      <td>123</td>\n      <td>13</td>\n      <td>101</td>\n      <td>78</td>\n    </tr>\n    <tr>\n      <th>2000-06-01 18:59:00</th>\n      <td>53</td>\n      <td>41</td>\n      <td>63</td>\n      <td>165</td>\n      <td>158</td>\n      <td>12</td>\n      <td>90</td>\n      <td>57</td>\n    </tr>\n    <tr>\n      <th>2000-06-02 06:59:00</th>\n      <td>17</td>\n      <td>37</td>\n      <td>68</td>\n      <td>140</td>\n      <td>114</td>\n      <td>6</td>\n      <td>99</td>\n      <td>67</td>\n    </tr>\n    <tr>\n      <th>2000-06-02 18:59:00</th>\n      <td>28</td>\n      <td>39</td>\n      <td>58</td>\n      <td>156</td>\n      <td>152</td>\n      <td>7</td>\n      <td>95</td>\n      <td>56</td>\n    </tr>\n    <tr>\n      <th>2000-06-03 06:59:00</th>\n      <td>8</td>\n      <td>41</td>\n      <td>63</td>\n      <td>137</td>\n      <td>122</td>\n      <td>10</td>\n      <td>90</td>\n      <td>67</td>\n    </tr>\n    <tr>\n      <th>2000-06-03 18:59:00</th>\n      <td>29</td>\n      <td>40</td>\n      <td>65</td>\n      <td>147</td>\n      <td>164</td>\n      <td>17</td>\n      <td>78</td>\n      <td>64</td>\n    </tr>\n    <tr>\n      <th>2000-06-04 06:59:00</th>\n      <td>7</td>\n      <td>36</td>\n      <td>71</td>\n      <td>147</td>\n      <td>131</td>\n      <td>5</td>\n      <td>87</td>\n      <td>68</td>\n    </tr>\n    <tr>\n      <th>2000-06-04 18:59:00</th>\n      <td>23</td>\n      <td>43</td>\n      <td>72</td>\n      <td>169</td>\n      <td>150</td>\n      <td>15</td>\n      <td>81</td>\n      <td>49</td>\n    </tr>\n    <tr>\n      <th>2000-06-05 06:59:00</th>\n      <td>14</td>\n      <td>32</td>\n      <td>60</td>\n      <td>152</td>\n      <td>121</td>\n      <td>9</td>\n      <td>95</td>\n      <td>71</td>\n    </tr>\n    <tr>\n      <th>2000-06-05 18:59:00</th>\n      <td>57</td>\n      <td>44</td>\n      <td>69</td>\n      <td>179</td>\n      <td>159</td>\n      <td>13</td>\n      <td>92</td>\n      <td>47</td>\n    </tr>\n    <tr>\n      <th>2000-06-06 06:59:00</th>\n      <td>13</td>\n      <td>42</td>\n      <td>69</td>\n      <td>143</td>\n      <td>127</td>\n      <td>2</td>\n      <td>94</td>\n      <td>60</td>\n    </tr>\n    <tr>\n      <th>2000-06-06 18:59:00</th>\n      <td>33</td>\n      <td>32</td>\n      <td>77</td>\n      <td>171</td>\n      <td>161</td>\n      <td>15</td>\n      <td>86</td>\n      <td>57</td>\n    </tr>\n    <tr>\n      <th>2000-06-07 06:59:00</th>\n      <td>11</td>\n      <td>46</td>\n      <td>76</td>\n      <td>155</td>\n      <td>116</td>\n      <td>7</td>\n      <td>98</td>\n      <td>60</td>\n    </tr>\n    <tr>\n      <th>2000-06-07 18:59:00</th>\n      <td>23</td>\n      <td>35</td>\n      <td>83</td>\n      <td>164</td>\n      <td>157</td>\n      <td>5</td>\n      <td>92</td>\n      <td>46</td>\n    </tr>\n    <tr>\n      <th>2000-06-08 06:59:00</th>\n      <td>6</td>\n      <td>41</td>\n      <td>71</td>\n      <td>149</td>\n      <td>117</td>\n      <td>12</td>\n      <td>86</td>\n      <td>58</td>\n    </tr>\n    <tr>\n      <th>2000-06-08 18:59:00</th>\n      <td>33</td>\n      <td>32</td>\n      <td>68</td>\n      <td>171</td>\n      <td>154</td>\n      <td>15</td>\n      <td>83</td>\n      <td>55</td>\n    </tr>\n    <tr>\n      <th>2000-06-09 06:59:00</th>\n      <td>17</td>\n      <td>36</td>\n      <td>65</td>\n      <td>158</td>\n      <td>125</td>\n      <td>6</td>\n      <td>87</td>\n      <td>56</td>\n    </tr>\n    <tr>\n      <th>2000-06-09 18:59:00</th>\n      <td>45</td>\n      <td>34</td>\n      <td>72</td>\n      <td>173</td>\n      <td>155</td>\n      <td>11</td>\n      <td>69</td>\n      <td>41</td>\n    </tr>\n    <tr>\n      <th>2000-06-10 06:59:00</th>\n      <td>15</td>\n      <td>34</td>\n      <td>69</td>\n      <td>180</td>\n      <td>130</td>\n      <td>9</td>\n      <td>87</td>\n      <td>56</td>\n    </tr>\n    <tr>\n      <th>2000-06-10 18:59:00</th>\n      <td>68</td>\n      <td>40</td>\n      <td>85</td>\n      <td>179</td>\n      <td>148</td>\n      <td>13</td>\n      <td>93</td>\n      <td>45</td>\n    </tr>\n    <tr>\n      <th>2000-06-11 06:59:00</th>\n      <td>11</td>\n      <td>42</td>\n      <td>65</td>\n      <td>167</td>\n      <td>128</td>\n      <td>8</td>\n      <td>86</td>\n      <td>67</td>\n    </tr>\n    <tr>\n      <th>2000-06-11 18:59:00</th>\n      <td>44</td>\n      <td>37</td>\n      <td>86</td>\n      <td>182</td>\n      <td>161</td>\n      <td>11</td>\n      <td>78</td>\n      <td>59</td>\n    </tr>\n    <tr>\n      <th>2000-06-12 06:59:00</th>\n      <td>17</td>\n      <td>46</td>\n      <td>66</td>\n      <td>146</td>\n      <td>124</td>\n      <td>7</td>\n      <td>100</td>\n      <td>64</td>\n    </tr>\n    <tr>\n      <th>2000-06-12 18:59:00</th>\n      <td>62</td>\n      <td>39</td>\n      <td>85</td>\n      <td>167</td>\n      <td>150</td>\n      <td>21</td>\n      <td>83</td>\n      <td>52</td>\n    </tr>\n    <tr>\n      <th>2000-06-13 06:59:00</th>\n      <td>9</td>\n      <td>41</td>\n      <td>65</td>\n      <td>149</td>\n      <td>128</td>\n      <td>12</td>\n      <td>99</td>\n      <td>62</td>\n    </tr>\n    <tr>\n      <th>2000-06-13 18:59:00</th>\n      <td>51</td>\n      <td>38</td>\n      <td>69</td>\n      <td>146</td>\n      <td>149</td>\n      <td>10</td>\n      <td>87</td>\n      <td>52</td>\n    </tr>\n    <tr>\n      <th>2000-06-14 06:59:00</th>\n      <td>14</td>\n      <td>41</td>\n      <td>78</td>\n      <td>149</td>\n      <td>124</td>\n      <td>3</td>\n      <td>98</td>\n      <td>64</td>\n    </tr>\n    <tr>\n      <th>2000-06-14 18:59:00</th>\n      <td>44</td>\n      <td>38</td>\n      <td>78</td>\n      <td>149</td>\n      <td>149</td>\n      <td>11</td>\n      <td>90</td>\n      <td>50</td>\n    </tr>\n    <tr>\n      <th>2000-06-15 06:59:00</th>\n      <td>16</td>\n      <td>35</td>\n      <td>60</td>\n      <td>158</td>\n      <td>123</td>\n      <td>8</td>\n      <td>90</td>\n      <td>64</td>\n    </tr>\n    <tr>\n      <th>2000-06-15 18:59:00</th>\n      <td>55</td>\n      <td>38</td>\n      <td>67</td>\n      <td>156</td>\n      <td>154</td>\n      <td>11</td>\n      <td>83</td>\n      <td>66</td>\n    </tr>\n    <tr>\n      <th>2000-06-16 06:59:00</th>\n      <td>10</td>\n      <td>48</td>\n      <td>57</td>\n      <td>150</td>\n      <td>121</td>\n      <td>6</td>\n      <td>94</td>\n      <td>76</td>\n    </tr>\n    <tr>\n      <th>2000-06-16 18:59:00</th>\n      <td>35</td>\n      <td>45</td>\n      <td>71</td>\n      <td>149</td>\n      <td>157</td>\n      <td>11</td>\n      <td>80</td>\n      <td>68</td>\n    </tr>\n    <tr>\n      <th>2000-06-17 06:59:00</th>\n      <td>13</td>\n      <td>35</td>\n      <td>70</td>\n      <td>137</td>\n      <td>117</td>\n      <td>7</td>\n      <td>100</td>\n      <td>69</td>\n    </tr>\n    <tr>\n      <th>2000-06-17 18:59:00</th>\n      <td>36</td>\n      <td>42</td>\n      <td>74</td>\n      <td>151</td>\n      <td>166</td>\n      <td>12</td>\n      <td>91</td>\n      <td>65</td>\n    </tr>\n    <tr>\n      <th>2000-06-18 06:59:00</th>\n      <td>11</td>\n      <td>35</td>\n      <td>72</td>\n      <td>149</td>\n      <td>119</td>\n      <td>13</td>\n      <td>94</td>\n      <td>74</td>\n    </tr>\n    <tr>\n      <th>2000-06-18 18:59:00</th>\n      <td>44</td>\n      <td>35</td>\n      <td>68</td>\n      <td>166</td>\n      <td>151</td>\n      <td>16</td>\n      <td>71</td>\n      <td>65</td>\n    </tr>\n    <tr>\n      <th>2000-06-19 06:59:00</th>\n      <td>14</td>\n      <td>41</td>\n      <td>66</td>\n      <td>174</td>\n      <td>125</td>\n      <td>8</td>\n      <td>79</td>\n      <td>81</td>\n    </tr>\n    <tr>\n      <th>2000-06-19 18:59:00</th>\n      <td>49</td>\n      <td>33</td>\n      <td>69</td>\n      <td>176</td>\n      <td>154</td>\n      <td>27</td>\n      <td>82</td>\n      <td>63</td>\n    </tr>\n    <tr>\n      <th>2000-06-20 06:59:00</th>\n      <td>15</td>\n      <td>38</td>\n      <td>68</td>\n      <td>148</td>\n      <td>123</td>\n      <td>13</td>\n      <td>81</td>\n      <td>72</td>\n    </tr>\n    <tr>\n      <th>2000-06-20 18:59:00</th>\n      <td>26</td>\n      <td>37</td>\n      <td>78</td>\n      <td>175</td>\n      <td>151</td>\n      <td>16</td>\n      <td>66</td>\n      <td>63</td>\n    </tr>\n    <tr>\n      <th>2000-06-21 06:59:00</th>\n      <td>17</td>\n      <td>45</td>\n      <td>80</td>\n      <td>174</td>\n      <td>126</td>\n      <td>11</td>\n      <td>85</td>\n      <td>72</td>\n    </tr>\n    <tr>\n      <th>2000-06-21 18:59:00</th>\n      <td>64</td>\n      <td>45</td>\n      <td>76</td>\n      <td>161</td>\n      <td>158</td>\n      <td>13</td>\n      <td>100</td>\n      <td>56</td>\n    </tr>\n    <tr>\n      <th>2000-06-22 06:59:00</th>\n      <td>8</td>\n      <td>41</td>\n      <td>65</td>\n      <td>152</td>\n      <td>116</td>\n      <td>4</td>\n      <td>106</td>\n      <td>75</td>\n    </tr>\n    <tr>\n      <th>2000-06-22 18:59:00</th>\n      <td>39</td>\n      <td>41</td>\n      <td>79</td>\n      <td>167</td>\n      <td>157</td>\n      <td>9</td>\n      <td>83</td>\n      <td>60</td>\n    </tr>\n    <tr>\n      <th>2000-06-23 06:59:00</th>\n      <td>12</td>\n      <td>40</td>\n      <td>72</td>\n      <td>157</td>\n      <td>115</td>\n      <td>7</td>\n      <td>94</td>\n      <td>77</td>\n    </tr>\n    <tr>\n      <th>2000-06-23 18:59:00</th>\n      <td>46</td>\n      <td>39</td>\n      <td>73</td>\n      <td>161</td>\n      <td>154</td>\n      <td>17</td>\n      <td>91</td>\n      <td>51</td>\n    </tr>\n    <tr>\n      <th>2000-06-24 06:59:00</th>\n      <td>10</td>\n      <td>35</td>\n      <td>68</td>\n      <td>155</td>\n      <td>127</td>\n      <td>11</td>\n      <td>93</td>\n      <td>64</td>\n    </tr>\n    <tr>\n      <th>2000-06-24 18:59:00</th>\n      <td>44</td>\n      <td>25</td>\n      <td>72</td>\n      <td>189</td>\n      <td>150</td>\n      <td>21</td>\n      <td>87</td>\n      <td>48</td>\n    </tr>\n    <tr>\n      <th>2000-06-25 06:59:00</th>\n      <td>12</td>\n      <td>40</td>\n      <td>59</td>\n      <td>154</td>\n      <td>128</td>\n      <td>11</td>\n      <td>92</td>\n      <td>59</td>\n    </tr>\n    <tr>\n      <th>2000-06-25 18:59:00</th>\n      <td>34</td>\n      <td>34</td>\n      <td>71</td>\n      <td>191</td>\n      <td>156</td>\n      <td>21</td>\n      <td>91</td>\n      <td>43</td>\n    </tr>\n    <tr>\n      <th>2000-06-26 06:59:00</th>\n      <td>14</td>\n      <td>49</td>\n      <td>66</td>\n      <td>167</td>\n      <td>129</td>\n      <td>7</td>\n      <td>97</td>\n      <td>56</td>\n    </tr>\n    <tr>\n      <th>2000-06-26 18:59:00</th>\n      <td>34</td>\n      <td>39</td>\n      <td>72</td>\n      <td>181</td>\n      <td>152</td>\n      <td>17</td>\n      <td>89</td>\n      <td>48</td>\n    </tr>\n    <tr>\n      <th>2000-06-27 06:59:00</th>\n      <td>10</td>\n      <td>42</td>\n      <td>65</td>\n      <td>155</td>\n      <td>127</td>\n      <td>6</td>\n      <td>96</td>\n      <td>49</td>\n    </tr>\n    <tr>\n      <th>2000-06-27 18:59:00</th>\n      <td>42</td>\n      <td>48</td>\n      <td>81</td>\n      <td>182</td>\n      <td>160</td>\n      <td>15</td>\n      <td>87</td>\n      <td>45</td>\n    </tr>\n    <tr>\n      <th>2000-06-28 06:59:00</th>\n      <td>20</td>\n      <td>50</td>\n      <td>71</td>\n      <td>168</td>\n      <td>126</td>\n      <td>6</td>\n      <td>96</td>\n      <td>62</td>\n    </tr>\n    <tr>\n      <th>2000-06-28 18:59:00</th>\n      <td>58</td>\n      <td>51</td>\n      <td>72</td>\n      <td>160</td>\n      <td>163</td>\n      <td>18</td>\n      <td>71</td>\n      <td>46</td>\n    </tr>\n    <tr>\n      <th>2000-06-29 06:59:00</th>\n      <td>12</td>\n      <td>44</td>\n      <td>70</td>\n      <td>142</td>\n      <td>126</td>\n      <td>9</td>\n      <td>86</td>\n      <td>61</td>\n    </tr>\n    <tr>\n      <th>2000-06-29 18:59:00</th>\n      <td>28</td>\n      <td>47</td>\n      <td>64</td>\n      <td>178</td>\n      <td>166</td>\n      <td>16</td>\n      <td>75</td>\n      <td>52</td>\n    </tr>\n    <tr>\n      <th>2000-06-30 06:59:00</th>\n      <td>15</td>\n      <td>55</td>\n      <td>76</td>\n      <td>154</td>\n      <td>133</td>\n      <td>11</td>\n      <td>90</td>\n      <td>62</td>\n    </tr>\n    <tr>\n      <th>2000-06-30 18:59:00</th>\n      <td>41</td>\n      <td>54</td>\n      <td>75</td>\n      <td>156</td>\n      <td>159</td>\n      <td>17</td>\n      <td>82</td>\n      <td>57</td>\n    </tr>\n  </tbody>\n</table>\n</div>"
     },
     "execution_count": 12,
     "metadata": {},
     "output_type": "execute_result"
    }
   ],
   "source": [
    "# one more time, just showing this wide but will work with the data long.\n",
    "caregiver_population.reset_index().pivot(index ='snapshot_time', columns='UNIT', values = 'TEAM_COUNT').fillna(0)"
   ],
   "metadata": {
    "collapsed": false,
    "pycharm": {
     "name": "#%%\n"
    }
   }
  },
  {
   "cell_type": "code",
   "execution_count": 13,
   "outputs": [
    {
     "data": {
      "text/plain": "                           PATIENT_COUNT  DISCHARGE_COUNT  TEAM_COUNT  \\\nsnapshot_time       UNIT                                                \n2000-06-01 06:59:00 CCU               67              0.0          47   \n                    CSRU              85              0.0          66   \n                    MICU             225              5.0         149   \n                    NICU             220              0.0         123   \n                    NWARD             46              0.0          13   \n...                                  ...              ...         ...   \n2000-06-28 18:59:00 NaN              758              0.0          58   \n2000-06-29 06:59:00 NaN              809              0.0          12   \n2000-06-29 18:59:00 NaN              764              0.0          28   \n2000-06-30 06:59:00 NaN              785              0.0          15   \n2000-06-30 18:59:00 NaN              744              0.0          41   \n\n                           nurse_discharge_ratio  \nsnapshot_time       UNIT                          \n2000-06-01 06:59:00 CCU                 0.000000  \n                    CSRU                0.000000  \n                    MICU                0.022222  \n                    NICU                0.000000  \n                    NWARD               0.000000  \n...                                          ...  \n2000-06-28 18:59:00 NaN                 0.000000  \n2000-06-29 06:59:00 NaN                 0.000000  \n2000-06-29 18:59:00 NaN                 0.000000  \n2000-06-30 06:59:00 NaN                 0.000000  \n2000-06-30 18:59:00 NaN                 0.000000  \n\n[540 rows x 4 columns]",
      "text/html": "<div>\n<style scoped>\n    .dataframe tbody tr th:only-of-type {\n        vertical-align: middle;\n    }\n\n    .dataframe tbody tr th {\n        vertical-align: top;\n    }\n\n    .dataframe thead th {\n        text-align: right;\n    }\n</style>\n<table border=\"1\" class=\"dataframe\">\n  <thead>\n    <tr style=\"text-align: right;\">\n      <th></th>\n      <th></th>\n      <th>PATIENT_COUNT</th>\n      <th>DISCHARGE_COUNT</th>\n      <th>TEAM_COUNT</th>\n      <th>nurse_discharge_ratio</th>\n    </tr>\n    <tr>\n      <th>snapshot_time</th>\n      <th>UNIT</th>\n      <th></th>\n      <th></th>\n      <th></th>\n      <th></th>\n    </tr>\n  </thead>\n  <tbody>\n    <tr>\n      <th rowspan=\"5\" valign=\"top\">2000-06-01 06:59:00</th>\n      <th>CCU</th>\n      <td>67</td>\n      <td>0.0</td>\n      <td>47</td>\n      <td>0.000000</td>\n    </tr>\n    <tr>\n      <th>CSRU</th>\n      <td>85</td>\n      <td>0.0</td>\n      <td>66</td>\n      <td>0.000000</td>\n    </tr>\n    <tr>\n      <th>MICU</th>\n      <td>225</td>\n      <td>5.0</td>\n      <td>149</td>\n      <td>0.022222</td>\n    </tr>\n    <tr>\n      <th>NICU</th>\n      <td>220</td>\n      <td>0.0</td>\n      <td>123</td>\n      <td>0.000000</td>\n    </tr>\n    <tr>\n      <th>NWARD</th>\n      <td>46</td>\n      <td>0.0</td>\n      <td>13</td>\n      <td>0.000000</td>\n    </tr>\n    <tr>\n      <th>...</th>\n      <th>...</th>\n      <td>...</td>\n      <td>...</td>\n      <td>...</td>\n      <td>...</td>\n    </tr>\n    <tr>\n      <th>2000-06-28 18:59:00</th>\n      <th>NaN</th>\n      <td>758</td>\n      <td>0.0</td>\n      <td>58</td>\n      <td>0.000000</td>\n    </tr>\n    <tr>\n      <th>2000-06-29 06:59:00</th>\n      <th>NaN</th>\n      <td>809</td>\n      <td>0.0</td>\n      <td>12</td>\n      <td>0.000000</td>\n    </tr>\n    <tr>\n      <th>2000-06-29 18:59:00</th>\n      <th>NaN</th>\n      <td>764</td>\n      <td>0.0</td>\n      <td>28</td>\n      <td>0.000000</td>\n    </tr>\n    <tr>\n      <th>2000-06-30 06:59:00</th>\n      <th>NaN</th>\n      <td>785</td>\n      <td>0.0</td>\n      <td>15</td>\n      <td>0.000000</td>\n    </tr>\n    <tr>\n      <th>2000-06-30 18:59:00</th>\n      <th>NaN</th>\n      <td>744</td>\n      <td>0.0</td>\n      <td>41</td>\n      <td>0.000000</td>\n    </tr>\n  </tbody>\n</table>\n<p>540 rows × 4 columns</p>\n</div>"
     },
     "execution_count": 13,
     "metadata": {},
     "output_type": "execute_result"
    }
   ],
   "source": [
    "unit_measures = pd.concat([unit_population, discharge_df, caregiver_population], axis = 1).fillna(0)\n",
    "unit_measures['nurse_discharge_ratio'] = unit_measures.DISCHARGE_COUNT / unit_measures.PATIENT_COUNT\n",
    "unit_measures"
   ],
   "metadata": {
    "collapsed": false,
    "pycharm": {
     "name": "#%%\n"
    }
   }
  },
  {
   "cell_type": "markdown",
   "source": [
    "## Building out the cohort's test result data"
   ],
   "metadata": {
    "collapsed": false,
    "pycharm": {
     "name": "#%% md\n"
    }
   }
  },
  {
   "cell_type": "code",
   "execution_count": 14,
   "outputs": [],
   "source": [
    "patient_cohort = pd.read_sql_query(\"\"\"\n",
    "        SELECT DISTINCT pts.SUBJECT_ID\n",
    "        FROM (SELECT DISTINCT SUBJECT_ID, HADM_ID\n",
    "              FROM TRANSFERS T\n",
    "              WHERE T.EVENTTYPE = 'admit'\n",
    "                AND INTIME BETWEEN '2000-06-01' AND '2000-07-01') pts\n",
    "         INNER JOIN\n",
    "         -- TODO Validate Lab Codes\n",
    "             (SELECT *\n",
    "              FROM LABS\n",
    "                       INNER JOIN ICD_LABS ON LABS.ITEMID = ICD_LABS.ITEMID AND lower(ICD_LABS.label) like 'tropo%') tropo\n",
    "             ON pts.SUBJECT_ID = tropo.SUBJECT_ID\n",
    "                 AND pts.HADM_ID = tropo.HADM_ID\n",
    "        INNER JOIN\n",
    "        -- TODO Validate Diagnoses\n",
    "            (SELECT * from DIAGNOSES\n",
    "             WHERE (SUBSTR(DIAGNOSES.ICD9_CODE, 1, 3) in\n",
    "            ('390', '391', '392', --acute rheumatic\n",
    "             '393', '394', '395', '396', '397', '398', --chronic rheumatic\n",
    "             '410', '411', '412', '413', '414', -- ischemic hd\n",
    "             '415', '416', '417', -- pulmonary circulation\n",
    "             '420', '421', '422', '423', '424', '425', '426', '427', '428', '429'))-- other hd\n",
    "                ) dx\n",
    "            ON pts.SUBJECT_ID = dx.SUBJECT_ID AND pts.HADM_ID = dx.HADM_ID\n",
    "    \"\"\", con = con)"
   ],
   "metadata": {
    "collapsed": false,
    "pycharm": {
     "name": "#%%\n"
    }
   }
  },
  {
   "cell_type": "code",
   "execution_count": 15,
   "outputs": [
    {
     "name": "stdout",
     "output_type": "stream",
     "text": [
      "Total Number of Patients in Dataset: 46488. Patient cohort size: 1433\n",
      "Cohort represents 3.1% of all patients in dataset.\n"
     ]
    }
   ],
   "source": [
    "total_patients = con.execute(\"SELECT COUNT(DISTINCT SUBJECT_ID) from PATIENTS\").fetchone()[0]\n",
    "print(f'''Total Number of Patients in Dataset: {total_patients}. Patient cohort size: {len(patient_cohort)}\n",
    "Cohort represents {len(patient_cohort)/total_patients:.1%} of all patients in dataset.''')"
   ],
   "metadata": {
    "collapsed": false,
    "pycharm": {
     "name": "#%%\n"
    }
   }
  },
  {
   "cell_type": "code",
   "execution_count": 16,
   "outputs": [],
   "source": [
    "def collect_latest_measure(lab_df, pt, threshold_date):\n",
    "    lab_df = lab_df.loc[lab_df['SUBJECT_ID']==pt]\n",
    "    if len(lab_df) == 0:\n",
    "        return None\n",
    "    else:\n",
    "        try:\n",
    "            latest_index = lab_df.loc[lab_df['CHARTTIME'] < threshold_date]['CHARTTIME'].idxmax()\n",
    "            return dict(lab_df.loc[latest_index])\n",
    "        except ValueError:\n",
    "            return None\n"
   ],
   "metadata": {
    "collapsed": false,
    "pycharm": {
     "name": "#%%\n"
    }
   }
  },
  {
   "cell_type": "code",
   "execution_count": 23,
   "outputs": [],
   "source": [
    "cohort_labs = []\n",
    "tests = {'tropinin': ['6598-7', '10839-9'],\n",
    "         'BNP': ['33762-6', '33762-6']} # hackery, I know. makes it possible to swap in 'tuple(foo)' in the query\n",
    "\n",
    "for test in tests:\n",
    "    patient_labs = pd.read_sql_query(f\"\"\"SELECT LABS.SUBJECT_ID, CHARTTIME, VALUENUM, VALUEUOM, LABEL FROM LABS\n",
    "                       INNER JOIN ICD_LABS ON LABS.ITEMID = ICD_LABS.ITEMID AND ICD_LABS.LOINC_CODE in {tuple(tests[test])}\n",
    "                       WHERE SUBJECT_ID IN {tuple(patient_cohort['SUBJECT_ID'])}\"\"\", con = con, parse_dates=['CHARTTIME'])\n",
    "    patient_labs['test_family'] = test\n",
    "    for patient in patient_cohort['SUBJECT_ID']:\n",
    "        for snapdate in scaffold:\n",
    "            latest_test = collect_latest_measure(patient_labs, patient, snapdate)\n",
    "            if latest_test is None:\n",
    "                latest_test = {'SUBJECT_ID':patient,\n",
    "                              'CHARTTIME': None,\n",
    "                              'VALUENUM': None,\n",
    "                              'VALUEUOM': None,\n",
    "                              'LABEL': None,\n",
    "                              'test_family': test}\n",
    "            latest_test['snapshot_time'] = snapdate\n",
    "            cohort_labs.append(latest_test)"
   ],
   "metadata": {
    "collapsed": false,
    "pycharm": {
     "name": "#%%\n"
    }
   }
  },
  {
   "cell_type": "code",
   "execution_count": 24,
   "outputs": [],
   "source": [
    "cohort_labs = pd.DataFrame(cohort_labs).set_index(['snapshot_time', 'SUBJECT_ID'])"
   ],
   "metadata": {
    "collapsed": false,
    "pycharm": {
     "name": "#%%\n"
    }
   }
  },
  {
   "cell_type": "code",
   "execution_count": 25,
   "outputs": [
    {
     "data": {
      "text/plain": "                               CHARTTIME  VALUENUM VALUEUOM LABEL test_family\nsnapshot_time       SUBJECT_ID                                               \n2000-06-01 06:59:00 112              NaT       NaN     None  None    tropinin\n2000-06-01 18:59:00 112              NaT       NaN     None  None    tropinin\n2000-06-02 06:59:00 112              NaT       NaN     None  None    tropinin\n2000-06-02 18:59:00 112              NaT       NaN     None  None    tropinin\n2000-06-03 06:59:00 112              NaT       NaN     None  None    tropinin",
      "text/html": "<div>\n<style scoped>\n    .dataframe tbody tr th:only-of-type {\n        vertical-align: middle;\n    }\n\n    .dataframe tbody tr th {\n        vertical-align: top;\n    }\n\n    .dataframe thead th {\n        text-align: right;\n    }\n</style>\n<table border=\"1\" class=\"dataframe\">\n  <thead>\n    <tr style=\"text-align: right;\">\n      <th></th>\n      <th></th>\n      <th>CHARTTIME</th>\n      <th>VALUENUM</th>\n      <th>VALUEUOM</th>\n      <th>LABEL</th>\n      <th>test_family</th>\n    </tr>\n    <tr>\n      <th>snapshot_time</th>\n      <th>SUBJECT_ID</th>\n      <th></th>\n      <th></th>\n      <th></th>\n      <th></th>\n      <th></th>\n    </tr>\n  </thead>\n  <tbody>\n    <tr>\n      <th>2000-06-01 06:59:00</th>\n      <th>112</th>\n      <td>NaT</td>\n      <td>NaN</td>\n      <td>None</td>\n      <td>None</td>\n      <td>tropinin</td>\n    </tr>\n    <tr>\n      <th>2000-06-01 18:59:00</th>\n      <th>112</th>\n      <td>NaT</td>\n      <td>NaN</td>\n      <td>None</td>\n      <td>None</td>\n      <td>tropinin</td>\n    </tr>\n    <tr>\n      <th>2000-06-02 06:59:00</th>\n      <th>112</th>\n      <td>NaT</td>\n      <td>NaN</td>\n      <td>None</td>\n      <td>None</td>\n      <td>tropinin</td>\n    </tr>\n    <tr>\n      <th>2000-06-02 18:59:00</th>\n      <th>112</th>\n      <td>NaT</td>\n      <td>NaN</td>\n      <td>None</td>\n      <td>None</td>\n      <td>tropinin</td>\n    </tr>\n    <tr>\n      <th>2000-06-03 06:59:00</th>\n      <th>112</th>\n      <td>NaT</td>\n      <td>NaN</td>\n      <td>None</td>\n      <td>None</td>\n      <td>tropinin</td>\n    </tr>\n  </tbody>\n</table>\n</div>"
     },
     "execution_count": 25,
     "metadata": {},
     "output_type": "execute_result"
    }
   ],
   "source": [
    "cohort_labs.head()"
   ],
   "metadata": {
    "collapsed": false,
    "pycharm": {
     "name": "#%%\n"
    }
   }
  },
  {
   "cell_type": "code",
   "execution_count": 30,
   "outputs": [
    {
     "data": {
      "text/plain": "                          SUBJECT_ID\nsnapshot_time       UNIT            \n2000-06-01 06:59:00 NaN          124\n                    MICU        2828\n                    NaN         4159\n                    NaN         3866\n                    CSRU        3868",
      "text/html": "<div>\n<style scoped>\n    .dataframe tbody tr th:only-of-type {\n        vertical-align: middle;\n    }\n\n    .dataframe tbody tr th {\n        vertical-align: top;\n    }\n\n    .dataframe thead th {\n        text-align: right;\n    }\n</style>\n<table border=\"1\" class=\"dataframe\">\n  <thead>\n    <tr style=\"text-align: right;\">\n      <th></th>\n      <th></th>\n      <th>SUBJECT_ID</th>\n    </tr>\n    <tr>\n      <th>snapshot_time</th>\n      <th>UNIT</th>\n      <th></th>\n    </tr>\n  </thead>\n  <tbody>\n    <tr>\n      <th rowspan=\"5\" valign=\"top\">2000-06-01 06:59:00</th>\n      <th>NaN</th>\n      <td>124</td>\n    </tr>\n    <tr>\n      <th>MICU</th>\n      <td>2828</td>\n    </tr>\n    <tr>\n      <th>NaN</th>\n      <td>4159</td>\n    </tr>\n    <tr>\n      <th>NaN</th>\n      <td>3866</td>\n    </tr>\n    <tr>\n      <th>CSRU</th>\n      <td>3868</td>\n    </tr>\n  </tbody>\n</table>\n</div>"
     },
     "execution_count": 30,
     "metadata": {},
     "output_type": "execute_result"
    }
   ],
   "source": [
    "snap_cohort_df = snap_df[snap_df.SUBJECT_ID.isin(patient_cohort['SUBJECT_ID'])].set_index(['snapshot_time','UNIT'])\n",
    "snap_cohort_df.head()"
   ],
   "metadata": {
    "collapsed": false,
    "pycharm": {
     "name": "#%%\n"
    }
   }
  },
  {
   "cell_type": "code",
   "execution_count": 35,
   "outputs": [
    {
     "ename": "InvalidIndexError",
     "evalue": "Reindexing only valid with uniquely valued Index objects",
     "output_type": "error",
     "traceback": [
      "\u001B[0;31m---------------------------------------------------------------------------\u001B[0m",
      "\u001B[0;31mInvalidIndexError\u001B[0m                         Traceback (most recent call last)",
      "\u001B[0;32m/var/folders/c_/660mp3ws0t928y57fzrzjnkm0000gr/T/ipykernel_85362/3735056123.py\u001B[0m in \u001B[0;36m<module>\u001B[0;34m\u001B[0m\n\u001B[0;32m----> 1\u001B[0;31m \u001B[0mpd\u001B[0m\u001B[0;34m.\u001B[0m\u001B[0mconcat\u001B[0m\u001B[0;34m(\u001B[0m\u001B[0;34m[\u001B[0m\u001B[0msnap_cohort_df\u001B[0m\u001B[0;34m,\u001B[0m \u001B[0munit_measures\u001B[0m\u001B[0;34m]\u001B[0m\u001B[0;34m,\u001B[0m \u001B[0maxis\u001B[0m\u001B[0;34m=\u001B[0m\u001B[0;36m1\u001B[0m\u001B[0;34m)\u001B[0m\u001B[0;34m\u001B[0m\u001B[0;34m\u001B[0m\u001B[0m\n\u001B[0m",
      "\u001B[0;32m~/opt/anaconda3/envs/weil-challenge/lib/python3.9/site-packages/pandas/util/_decorators.py\u001B[0m in \u001B[0;36mwrapper\u001B[0;34m(*args, **kwargs)\u001B[0m\n\u001B[1;32m    309\u001B[0m                     \u001B[0mstacklevel\u001B[0m\u001B[0;34m=\u001B[0m\u001B[0mstacklevel\u001B[0m\u001B[0;34m,\u001B[0m\u001B[0;34m\u001B[0m\u001B[0;34m\u001B[0m\u001B[0m\n\u001B[1;32m    310\u001B[0m                 )\n\u001B[0;32m--> 311\u001B[0;31m             \u001B[0;32mreturn\u001B[0m \u001B[0mfunc\u001B[0m\u001B[0;34m(\u001B[0m\u001B[0;34m*\u001B[0m\u001B[0margs\u001B[0m\u001B[0;34m,\u001B[0m \u001B[0;34m**\u001B[0m\u001B[0mkwargs\u001B[0m\u001B[0;34m)\u001B[0m\u001B[0;34m\u001B[0m\u001B[0;34m\u001B[0m\u001B[0m\n\u001B[0m\u001B[1;32m    312\u001B[0m \u001B[0;34m\u001B[0m\u001B[0m\n\u001B[1;32m    313\u001B[0m         \u001B[0;32mreturn\u001B[0m \u001B[0mwrapper\u001B[0m\u001B[0;34m\u001B[0m\u001B[0;34m\u001B[0m\u001B[0m\n",
      "\u001B[0;32m~/opt/anaconda3/envs/weil-challenge/lib/python3.9/site-packages/pandas/core/reshape/concat.py\u001B[0m in \u001B[0;36mconcat\u001B[0;34m(objs, axis, join, ignore_index, keys, levels, names, verify_integrity, sort, copy)\u001B[0m\n\u001B[1;32m    357\u001B[0m     )\n\u001B[1;32m    358\u001B[0m \u001B[0;34m\u001B[0m\u001B[0m\n\u001B[0;32m--> 359\u001B[0;31m     \u001B[0;32mreturn\u001B[0m \u001B[0mop\u001B[0m\u001B[0;34m.\u001B[0m\u001B[0mget_result\u001B[0m\u001B[0;34m(\u001B[0m\u001B[0;34m)\u001B[0m\u001B[0;34m\u001B[0m\u001B[0;34m\u001B[0m\u001B[0m\n\u001B[0m\u001B[1;32m    360\u001B[0m \u001B[0;34m\u001B[0m\u001B[0m\n\u001B[1;32m    361\u001B[0m \u001B[0;34m\u001B[0m\u001B[0m\n",
      "\u001B[0;32m~/opt/anaconda3/envs/weil-challenge/lib/python3.9/site-packages/pandas/core/reshape/concat.py\u001B[0m in \u001B[0;36mget_result\u001B[0;34m(self)\u001B[0m\n\u001B[1;32m    586\u001B[0m                     \u001B[0mobj_labels\u001B[0m \u001B[0;34m=\u001B[0m \u001B[0mobj\u001B[0m\u001B[0;34m.\u001B[0m\u001B[0maxes\u001B[0m\u001B[0;34m[\u001B[0m\u001B[0;36m1\u001B[0m \u001B[0;34m-\u001B[0m \u001B[0max\u001B[0m\u001B[0;34m]\u001B[0m\u001B[0;34m\u001B[0m\u001B[0;34m\u001B[0m\u001B[0m\n\u001B[1;32m    587\u001B[0m                     \u001B[0;32mif\u001B[0m \u001B[0;32mnot\u001B[0m \u001B[0mnew_labels\u001B[0m\u001B[0;34m.\u001B[0m\u001B[0mequals\u001B[0m\u001B[0;34m(\u001B[0m\u001B[0mobj_labels\u001B[0m\u001B[0;34m)\u001B[0m\u001B[0;34m:\u001B[0m\u001B[0;34m\u001B[0m\u001B[0;34m\u001B[0m\u001B[0m\n\u001B[0;32m--> 588\u001B[0;31m                         \u001B[0mindexers\u001B[0m\u001B[0;34m[\u001B[0m\u001B[0max\u001B[0m\u001B[0;34m]\u001B[0m \u001B[0;34m=\u001B[0m \u001B[0mobj_labels\u001B[0m\u001B[0;34m.\u001B[0m\u001B[0mget_indexer\u001B[0m\u001B[0;34m(\u001B[0m\u001B[0mnew_labels\u001B[0m\u001B[0;34m)\u001B[0m\u001B[0;34m\u001B[0m\u001B[0;34m\u001B[0m\u001B[0m\n\u001B[0m\u001B[1;32m    589\u001B[0m \u001B[0;34m\u001B[0m\u001B[0m\n\u001B[1;32m    590\u001B[0m                 \u001B[0mmgrs_indexers\u001B[0m\u001B[0;34m.\u001B[0m\u001B[0mappend\u001B[0m\u001B[0;34m(\u001B[0m\u001B[0;34m(\u001B[0m\u001B[0mobj\u001B[0m\u001B[0;34m.\u001B[0m\u001B[0m_mgr\u001B[0m\u001B[0;34m,\u001B[0m \u001B[0mindexers\u001B[0m\u001B[0;34m)\u001B[0m\u001B[0;34m)\u001B[0m\u001B[0;34m\u001B[0m\u001B[0;34m\u001B[0m\u001B[0m\n",
      "\u001B[0;32m~/opt/anaconda3/envs/weil-challenge/lib/python3.9/site-packages/pandas/core/indexes/base.py\u001B[0m in \u001B[0;36mget_indexer\u001B[0;34m(self, target, method, limit, tolerance)\u001B[0m\n\u001B[1;32m   3719\u001B[0m \u001B[0;34m\u001B[0m\u001B[0m\n\u001B[1;32m   3720\u001B[0m         \u001B[0;32mif\u001B[0m \u001B[0;32mnot\u001B[0m \u001B[0mself\u001B[0m\u001B[0;34m.\u001B[0m\u001B[0m_index_as_unique\u001B[0m\u001B[0;34m:\u001B[0m\u001B[0;34m\u001B[0m\u001B[0;34m\u001B[0m\u001B[0m\n\u001B[0;32m-> 3721\u001B[0;31m             \u001B[0;32mraise\u001B[0m \u001B[0mInvalidIndexError\u001B[0m\u001B[0;34m(\u001B[0m\u001B[0mself\u001B[0m\u001B[0;34m.\u001B[0m\u001B[0m_requires_unique_msg\u001B[0m\u001B[0;34m)\u001B[0m\u001B[0;34m\u001B[0m\u001B[0;34m\u001B[0m\u001B[0m\n\u001B[0m\u001B[1;32m   3722\u001B[0m \u001B[0;34m\u001B[0m\u001B[0m\n\u001B[1;32m   3723\u001B[0m         \u001B[0;32mif\u001B[0m \u001B[0mlen\u001B[0m\u001B[0;34m(\u001B[0m\u001B[0mtarget\u001B[0m\u001B[0;34m)\u001B[0m \u001B[0;34m==\u001B[0m \u001B[0;36m0\u001B[0m\u001B[0;34m:\u001B[0m\u001B[0;34m\u001B[0m\u001B[0;34m\u001B[0m\u001B[0m\n",
      "\u001B[0;31mInvalidIndexError\u001B[0m: Reindexing only valid with uniquely valued Index objects"
     ]
    }
   ],
   "source": [
    "pd.concat([snap_cohort_df, unit_measures], axis=1)"
   ],
   "metadata": {
    "collapsed": false,
    "pycharm": {
     "name": "#%%\n"
    }
   }
  },
  {
   "cell_type": "code",
   "execution_count": 39,
   "outputs": [
    {
     "data": {
      "text/plain": "MultiIndex([('2000-06-01 06:59:00',    nan),\n            ('2000-06-01 06:59:00', 'MICU'),\n            ('2000-06-01 06:59:00',    nan),\n            ('2000-06-01 06:59:00',    nan),\n            ('2000-06-01 06:59:00', 'CSRU'),\n            ('2000-06-01 06:59:00',  'CCU'),\n            ('2000-06-01 06:59:00',    nan),\n            ('2000-06-01 06:59:00', 'MICU'),\n            ('2000-06-01 06:59:00',    nan),\n            ('2000-06-01 06:59:00', 'MICU'),\n            ...\n            ('2000-06-30 18:59:00',  'CCU'),\n            ('2000-06-30 18:59:00', 'SICU'),\n            ('2000-06-30 18:59:00',    nan),\n            ('2000-06-30 18:59:00', 'CSRU'),\n            ('2000-06-30 18:59:00',    nan),\n            ('2000-06-30 18:59:00', 'CSRU'),\n            ('2000-06-30 18:59:00',    nan),\n            ('2000-06-30 18:59:00',    nan),\n            ('2000-06-30 18:59:00', 'MICU'),\n            ('2000-06-30 18:59:00',  'CCU')],\n           names=['snapshot_time', 'UNIT'], length=23871)"
     },
     "execution_count": 39,
     "metadata": {},
     "output_type": "execute_result"
    }
   ],
   "source": [
    "snap_cohort_df.index"
   ],
   "metadata": {
    "collapsed": false,
    "pycharm": {
     "name": "#%%\n"
    }
   }
  },
  {
   "cell_type": "code",
   "execution_count": null,
   "outputs": [],
   "source": [],
   "metadata": {
    "collapsed": false,
    "pycharm": {
     "name": "#%%\n"
    }
   }
  }
 ],
 "metadata": {
  "kernelspec": {
   "display_name": "Python 3",
   "language": "python",
   "name": "python3"
  },
  "language_info": {
   "codemirror_mode": {
    "name": "ipython",
    "version": 2
   },
   "file_extension": ".py",
   "mimetype": "text/x-python",
   "name": "python",
   "nbconvert_exporter": "python",
   "pygments_lexer": "ipython2",
   "version": "2.7.6"
  }
 },
 "nbformat": 4,
 "nbformat_minor": 0
}