{
 "cells": [
  {
   "cell_type": "markdown",
   "metadata": {
    "collapsed": true,
    "pycharm": {
     "name": "#%% md\n"
    }
   },
   "source": [
    "# The Request\n",
    "\n",
    "Observations every 12 hours for each of the patients in the cohort throughout the month of June 2000. For each of these observations, we need the following data:\n",
    "\n",
    "* The ratio of discharged patients over the previous 4 hours to the number of nurses in the patient’s unit\n",
    "* The ratio of nurses to patients in the patient’s unit\n",
    "* The patient’s latest Tropinin lab value (confirm codes)\n",
    "*  The patient’s latest B-type natriuretic peptide (BNP) lab value (LOINC 33762-6)\n",
    "\n",
    "# The Deliverable\n",
    "CSV Data file with one row per patient per observation period"
   ]
  },
  {
   "cell_type": "code",
   "execution_count": 24,
   "outputs": [],
   "source": [
    "import pandas as pd\n",
    "import sqlite3\n",
    "import datetime\n",
    "\n",
    "# Set up the database connection\n",
    "con = sqlite3.connect(\"data/DE_Challenge_DB.sqlite\")\n",
    "\n",
    "# build scaffolding for the snapshots\n",
    "scaffold = pd.date_range(start='2000-06-01 06:59:00', end='2000-06-30 23:59:00', freq='12h')"
   ],
   "metadata": {
    "collapsed": false,
    "pycharm": {
     "name": "#%%\n"
    }
   }
  },
  {
   "cell_type": "markdown",
   "source": [
    "## Building out the Unit, Population and Staffing Information\n",
    "\n",
    "Key measures that must accompany patient data consider the overall environment of the hospital at the snapshot times of 6:59 AM and 6:59 PM every day during the study period.  We start with date scaffolding that will help us gather information for each date/time of interst.  Here, we gather information that will help us understand\n",
    "* where each patient is at the time of each of the snapshots (`snap_df`),\n",
    "* who is on the nursing team for each patient at the snapshot time (`care_df`) and\n",
    "* counts of discharges for each patient at the snapshot time (`discharge_df`)"
   ],
   "metadata": {
    "collapsed": false,
    "pycharm": {
     "name": "#%% md\n"
    }
   }
  },
  {
   "cell_type": "code",
   "execution_count": 25,
   "outputs": [],
   "source": [
    "snapdata = []\n",
    "careteam = []\n",
    "discharges = []\n",
    "\n",
    "# collect data at each of the given snapshot points\n",
    "for snapdate in scaffold:\n",
    "\n",
    "    # where is each patient right now?\n",
    "    patient_location = pd.read_sql_query(f\"\"\"\n",
    "            SELECT SUBJECT_ID,\n",
    "            CURR_CAREUNIT as UNIT\n",
    "            FROM TRANSFERS WHERE INTIME <= '{snapdate}'\n",
    "            AND OUTTIME > '{snapdate}'\n",
    "        \"\"\", con = con)\n",
    "    patient_location['snapshot_time'] = snapdate\n",
    "    snapdata.append(patient_location)\n",
    "\n",
    "    # who is the nursing team for each patient right now?\n",
    "    care_detail = pd.read_sql_query(f\"\"\"\n",
    "            SELECT SUBJECT_ID, tt.CGID, LABEL, DESCRIPTION\n",
    "            FROM TREATMENT_TEAM tt\n",
    "            LEFT JOIN CARE_GIVERS cg on tt.CGID = cg.CGID\n",
    "            WHERE tt.STARTTIME <= '{snapdate}'\n",
    "            AND tt.ENDTIME > '{snapdate}'\n",
    "            AND lower(LABEL) = 'rn' OR lower(DESCRIPTION) = 'rn'\n",
    "        \"\"\", con = con)\n",
    "    care_detail['snapshot_time'] = snapdate\n",
    "    careteam.append(care_detail)\n",
    "\n",
    "    # how many patients were discharged from each unit up to four hours before right now?\n",
    "    discharge_count = pd.read_sql_query(f\"\"\"\n",
    "            SELECT PREV_CAREUNIT as UNIT,\n",
    "            count(distinct(SUBJECT_ID)) as DISCHARGE_COUNT\n",
    "            FROM TRANSFERS\n",
    "            WHERE INTIME > '{snapdate - datetime.timedelta(hours = 4)}'\n",
    "              AND INTIME <= '{snapdate}'\n",
    "             AND EVENTTYPE = 'discharge'\n",
    "            GROUP BY PREV_CAREUNIT\n",
    "        \"\"\", con = con)\n",
    "    discharge_count['snapshot_time'] = snapdate\n",
    "    discharges.append(discharge_count)"
   ],
   "metadata": {
    "collapsed": false,
    "pycharm": {
     "name": "#%%\n"
    }
   }
  },
  {
   "cell_type": "markdown",
   "source": [
    "We generate pandas dataframes from the gathered information"
   ],
   "metadata": {
    "collapsed": false
   }
  },
  {
   "cell_type": "code",
   "execution_count": 26,
   "outputs": [],
   "source": [
    "snap_df = pd.concat(snapdata)\n",
    "care_df = pd.concat(careteam)\n",
    "discharge_df = pd.concat(discharges).groupby(['snapshot_time','UNIT'],dropna=False).sum()"
   ],
   "metadata": {
    "collapsed": false,
    "pycharm": {
     "name": "#%%\n"
    }
   }
  },
  {
   "cell_type": "markdown",
   "source": [
    "## Review and Reshaping Data\n",
    "\n",
    "Here, we have a df showing where each patient was at a given time."
   ],
   "metadata": {
    "collapsed": false
   }
  },
  {
   "cell_type": "code",
   "execution_count": 27,
   "outputs": [
    {
     "data": {
      "text/plain": "   SUBJECT_ID   UNIT       snapshot_time\n0         124   None 2000-06-01 06:59:00\n1           6   SICU 2000-06-01 06:59:00\n2         109   None 2000-06-01 06:59:00\n3         110  NWARD 2000-06-01 06:59:00\n4         223   None 2000-06-01 06:59:00",
      "text/html": "<div>\n<style scoped>\n    .dataframe tbody tr th:only-of-type {\n        vertical-align: middle;\n    }\n\n    .dataframe tbody tr th {\n        vertical-align: top;\n    }\n\n    .dataframe thead th {\n        text-align: right;\n    }\n</style>\n<table border=\"1\" class=\"dataframe\">\n  <thead>\n    <tr style=\"text-align: right;\">\n      <th></th>\n      <th>SUBJECT_ID</th>\n      <th>UNIT</th>\n      <th>snapshot_time</th>\n    </tr>\n  </thead>\n  <tbody>\n    <tr>\n      <th>0</th>\n      <td>124</td>\n      <td>None</td>\n      <td>2000-06-01 06:59:00</td>\n    </tr>\n    <tr>\n      <th>1</th>\n      <td>6</td>\n      <td>SICU</td>\n      <td>2000-06-01 06:59:00</td>\n    </tr>\n    <tr>\n      <th>2</th>\n      <td>109</td>\n      <td>None</td>\n      <td>2000-06-01 06:59:00</td>\n    </tr>\n    <tr>\n      <th>3</th>\n      <td>110</td>\n      <td>NWARD</td>\n      <td>2000-06-01 06:59:00</td>\n    </tr>\n    <tr>\n      <th>4</th>\n      <td>223</td>\n      <td>None</td>\n      <td>2000-06-01 06:59:00</td>\n    </tr>\n  </tbody>\n</table>\n</div>"
     },
     "execution_count": 27,
     "metadata": {},
     "output_type": "execute_result"
    }
   ],
   "source": [
    "snap_df.head()"
   ],
   "metadata": {
    "collapsed": false,
    "pycharm": {
     "name": "#%%\n"
    }
   }
  },
  {
   "cell_type": "markdown",
   "source": [
    "Here, we have one row per patient per RN per careteam"
   ],
   "metadata": {
    "collapsed": false
   }
  },
  {
   "cell_type": "code",
   "execution_count": 28,
   "outputs": [
    {
     "data": {
      "text/plain": "   SUBJECT_ID     CGID LABEL DESCRIPTION       snapshot_time\n0       30593  19891.0    RN          RN 2000-06-01 06:59:00\n1       30593  17735.0    RN          RN 2000-06-01 06:59:00\n2       30593  15526.0    RN          RN 2000-06-01 06:59:00\n3       30300  20808.0    RN          RN 2000-06-01 06:59:00\n4       30593  20063.0    RN          RN 2000-06-01 06:59:00",
      "text/html": "<div>\n<style scoped>\n    .dataframe tbody tr th:only-of-type {\n        vertical-align: middle;\n    }\n\n    .dataframe tbody tr th {\n        vertical-align: top;\n    }\n\n    .dataframe thead th {\n        text-align: right;\n    }\n</style>\n<table border=\"1\" class=\"dataframe\">\n  <thead>\n    <tr style=\"text-align: right;\">\n      <th></th>\n      <th>SUBJECT_ID</th>\n      <th>CGID</th>\n      <th>LABEL</th>\n      <th>DESCRIPTION</th>\n      <th>snapshot_time</th>\n    </tr>\n  </thead>\n  <tbody>\n    <tr>\n      <th>0</th>\n      <td>30593</td>\n      <td>19891.0</td>\n      <td>RN</td>\n      <td>RN</td>\n      <td>2000-06-01 06:59:00</td>\n    </tr>\n    <tr>\n      <th>1</th>\n      <td>30593</td>\n      <td>17735.0</td>\n      <td>RN</td>\n      <td>RN</td>\n      <td>2000-06-01 06:59:00</td>\n    </tr>\n    <tr>\n      <th>2</th>\n      <td>30593</td>\n      <td>15526.0</td>\n      <td>RN</td>\n      <td>RN</td>\n      <td>2000-06-01 06:59:00</td>\n    </tr>\n    <tr>\n      <th>3</th>\n      <td>30300</td>\n      <td>20808.0</td>\n      <td>RN</td>\n      <td>RN</td>\n      <td>2000-06-01 06:59:00</td>\n    </tr>\n    <tr>\n      <th>4</th>\n      <td>30593</td>\n      <td>20063.0</td>\n      <td>RN</td>\n      <td>RN</td>\n      <td>2000-06-01 06:59:00</td>\n    </tr>\n  </tbody>\n</table>\n</div>"
     },
     "execution_count": 28,
     "metadata": {},
     "output_type": "execute_result"
    }
   ],
   "source": [
    "care_df.head()"
   ],
   "metadata": {
    "collapsed": false,
    "pycharm": {
     "name": "#%%\n"
    }
   }
  },
  {
   "cell_type": "markdown",
   "source": [
    "For the sake of working data, we'll keep the discharge table in long format but here is an overview of it pivoted out by Unit."
   ],
   "metadata": {
    "collapsed": false
   }
  },
  {
   "cell_type": "code",
   "execution_count": 29,
   "outputs": [
    {
     "data": {
      "text/plain": "UNIT                  NaN  CCU  CSRU  MICU  NICU  NWARD  SICU  TSICU\nsnapshot_time                                                       \n2000-06-01 06:59:00   1.0  0.0   0.0   5.0   0.0    0.0   0.0    0.0\n2000-06-01 18:59:00  58.0  3.0   0.0   3.0   4.0    4.0   1.0    0.0\n2000-06-02 06:59:00   0.0  0.0   1.0   1.0   0.0    0.0   0.0    0.0\n2000-06-02 18:59:00  49.0  3.0   0.0   8.0   4.0    1.0   2.0    1.0\n2000-06-03 06:59:00   1.0  0.0   0.0   1.0   0.0    0.0   0.0    0.0",
      "text/html": "<div>\n<style scoped>\n    .dataframe tbody tr th:only-of-type {\n        vertical-align: middle;\n    }\n\n    .dataframe tbody tr th {\n        vertical-align: top;\n    }\n\n    .dataframe thead th {\n        text-align: right;\n    }\n</style>\n<table border=\"1\" class=\"dataframe\">\n  <thead>\n    <tr style=\"text-align: right;\">\n      <th>UNIT</th>\n      <th>NaN</th>\n      <th>CCU</th>\n      <th>CSRU</th>\n      <th>MICU</th>\n      <th>NICU</th>\n      <th>NWARD</th>\n      <th>SICU</th>\n      <th>TSICU</th>\n    </tr>\n    <tr>\n      <th>snapshot_time</th>\n      <th></th>\n      <th></th>\n      <th></th>\n      <th></th>\n      <th></th>\n      <th></th>\n      <th></th>\n      <th></th>\n    </tr>\n  </thead>\n  <tbody>\n    <tr>\n      <th>2000-06-01 06:59:00</th>\n      <td>1.0</td>\n      <td>0.0</td>\n      <td>0.0</td>\n      <td>5.0</td>\n      <td>0.0</td>\n      <td>0.0</td>\n      <td>0.0</td>\n      <td>0.0</td>\n    </tr>\n    <tr>\n      <th>2000-06-01 18:59:00</th>\n      <td>58.0</td>\n      <td>3.0</td>\n      <td>0.0</td>\n      <td>3.0</td>\n      <td>4.0</td>\n      <td>4.0</td>\n      <td>1.0</td>\n      <td>0.0</td>\n    </tr>\n    <tr>\n      <th>2000-06-02 06:59:00</th>\n      <td>0.0</td>\n      <td>0.0</td>\n      <td>1.0</td>\n      <td>1.0</td>\n      <td>0.0</td>\n      <td>0.0</td>\n      <td>0.0</td>\n      <td>0.0</td>\n    </tr>\n    <tr>\n      <th>2000-06-02 18:59:00</th>\n      <td>49.0</td>\n      <td>3.0</td>\n      <td>0.0</td>\n      <td>8.0</td>\n      <td>4.0</td>\n      <td>1.0</td>\n      <td>2.0</td>\n      <td>1.0</td>\n    </tr>\n    <tr>\n      <th>2000-06-03 06:59:00</th>\n      <td>1.0</td>\n      <td>0.0</td>\n      <td>0.0</td>\n      <td>1.0</td>\n      <td>0.0</td>\n      <td>0.0</td>\n      <td>0.0</td>\n      <td>0.0</td>\n    </tr>\n  </tbody>\n</table>\n</div>"
     },
     "execution_count": 29,
     "metadata": {},
     "output_type": "execute_result"
    }
   ],
   "source": [
    "discharge_df.reset_index().pivot(index ='snapshot_time', columns='UNIT', values = 'DISCHARGE_COUNT').fillna(0).head()"
   ],
   "metadata": {
    "collapsed": false,
    "pycharm": {
     "name": "#%%\n"
    }
   }
  },
  {
   "cell_type": "code",
   "execution_count": 30,
   "outputs": [
    {
     "data": {
      "text/plain": "                          DISCHARGE_COUNT\nsnapshot_time       UNIT                 \n2000-06-01 06:59:00 MICU                5\n                    NaN                 1\n2000-06-01 18:59:00 CCU                 3\n                    MICU                3\n                    NICU                4",
      "text/html": "<div>\n<style scoped>\n    .dataframe tbody tr th:only-of-type {\n        vertical-align: middle;\n    }\n\n    .dataframe tbody tr th {\n        vertical-align: top;\n    }\n\n    .dataframe thead th {\n        text-align: right;\n    }\n</style>\n<table border=\"1\" class=\"dataframe\">\n  <thead>\n    <tr style=\"text-align: right;\">\n      <th></th>\n      <th></th>\n      <th>DISCHARGE_COUNT</th>\n    </tr>\n    <tr>\n      <th>snapshot_time</th>\n      <th>UNIT</th>\n      <th></th>\n    </tr>\n  </thead>\n  <tbody>\n    <tr>\n      <th rowspan=\"2\" valign=\"top\">2000-06-01 06:59:00</th>\n      <th>MICU</th>\n      <td>5</td>\n    </tr>\n    <tr>\n      <th>NaN</th>\n      <td>1</td>\n    </tr>\n    <tr>\n      <th rowspan=\"3\" valign=\"top\">2000-06-01 18:59:00</th>\n      <th>CCU</th>\n      <td>3</td>\n    </tr>\n    <tr>\n      <th>MICU</th>\n      <td>3</td>\n    </tr>\n    <tr>\n      <th>NICU</th>\n      <td>4</td>\n    </tr>\n  </tbody>\n</table>\n</div>"
     },
     "execution_count": 30,
     "metadata": {},
     "output_type": "execute_result"
    }
   ],
   "source": [
    "discharge_df.head()"
   ],
   "metadata": {
    "collapsed": false,
    "pycharm": {
     "name": "#%%\n"
    }
   }
  },
  {
   "cell_type": "markdown",
   "source": [
    "The Unit Population is a rollup of distinct SUBJECT_IDs in a given unit at each snapshot time."
   ],
   "metadata": {
    "collapsed": false
   }
  },
  {
   "cell_type": "code",
   "execution_count": 31,
   "outputs": [],
   "source": [
    "unit_population = snap_df.groupby(['snapshot_time','UNIT'],dropna=False)\\\n",
    "    .nunique()\\\n",
    "    .rename(columns={'SUBJECT_ID':'PATIENT_COUNT'})"
   ],
   "metadata": {
    "collapsed": false,
    "pycharm": {
     "name": "#%%\n"
    }
   }
  },
  {
   "cell_type": "markdown",
   "source": [
    "For review, here is the information pivoted by UNIT. For the actual patient analysis, we'll keep the `unit_population` table in long form."
   ],
   "metadata": {
    "collapsed": false
   }
  },
  {
   "cell_type": "code",
   "execution_count": 32,
   "outputs": [
    {
     "data": {
      "text/plain": "UNIT                 NaN  CCU  CSRU  MICU  NICU  NWARD  SICU  TSICU\nsnapshot_time                                                      \n2000-06-01 06:59:00  816   67    85   225   220     46   129     84\n2000-06-01 18:59:00  766   63    93   204   213     38   124     74\n2000-06-02 06:59:00  802   68    91   197   220     43   133     75\n2000-06-02 18:59:00  760   66    86   188   221     34   128     76\n2000-06-03 06:59:00  803   65    86   193   220     39   126     76",
      "text/html": "<div>\n<style scoped>\n    .dataframe tbody tr th:only-of-type {\n        vertical-align: middle;\n    }\n\n    .dataframe tbody tr th {\n        vertical-align: top;\n    }\n\n    .dataframe thead th {\n        text-align: right;\n    }\n</style>\n<table border=\"1\" class=\"dataframe\">\n  <thead>\n    <tr style=\"text-align: right;\">\n      <th>UNIT</th>\n      <th>NaN</th>\n      <th>CCU</th>\n      <th>CSRU</th>\n      <th>MICU</th>\n      <th>NICU</th>\n      <th>NWARD</th>\n      <th>SICU</th>\n      <th>TSICU</th>\n    </tr>\n    <tr>\n      <th>snapshot_time</th>\n      <th></th>\n      <th></th>\n      <th></th>\n      <th></th>\n      <th></th>\n      <th></th>\n      <th></th>\n      <th></th>\n    </tr>\n  </thead>\n  <tbody>\n    <tr>\n      <th>2000-06-01 06:59:00</th>\n      <td>816</td>\n      <td>67</td>\n      <td>85</td>\n      <td>225</td>\n      <td>220</td>\n      <td>46</td>\n      <td>129</td>\n      <td>84</td>\n    </tr>\n    <tr>\n      <th>2000-06-01 18:59:00</th>\n      <td>766</td>\n      <td>63</td>\n      <td>93</td>\n      <td>204</td>\n      <td>213</td>\n      <td>38</td>\n      <td>124</td>\n      <td>74</td>\n    </tr>\n    <tr>\n      <th>2000-06-02 06:59:00</th>\n      <td>802</td>\n      <td>68</td>\n      <td>91</td>\n      <td>197</td>\n      <td>220</td>\n      <td>43</td>\n      <td>133</td>\n      <td>75</td>\n    </tr>\n    <tr>\n      <th>2000-06-02 18:59:00</th>\n      <td>760</td>\n      <td>66</td>\n      <td>86</td>\n      <td>188</td>\n      <td>221</td>\n      <td>34</td>\n      <td>128</td>\n      <td>76</td>\n    </tr>\n    <tr>\n      <th>2000-06-03 06:59:00</th>\n      <td>803</td>\n      <td>65</td>\n      <td>86</td>\n      <td>193</td>\n      <td>220</td>\n      <td>39</td>\n      <td>126</td>\n      <td>76</td>\n    </tr>\n  </tbody>\n</table>\n</div>"
     },
     "execution_count": 32,
     "metadata": {},
     "output_type": "execute_result"
    }
   ],
   "source": [
    "unit_population.reset_index().pivot(index ='snapshot_time', columns='UNIT', values = 'PATIENT_COUNT').fillna(0).head()"
   ],
   "metadata": {
    "collapsed": false,
    "pycharm": {
     "name": "#%%\n"
    }
   }
  },
  {
   "cell_type": "code",
   "execution_count": 33,
   "outputs": [
    {
     "data": {
      "text/plain": "                           PATIENT_COUNT\nsnapshot_time       UNIT                \n2000-06-01 06:59:00 CCU               67\n                    CSRU              85\n                    MICU             225\n                    NICU             220\n                    NWARD             46",
      "text/html": "<div>\n<style scoped>\n    .dataframe tbody tr th:only-of-type {\n        vertical-align: middle;\n    }\n\n    .dataframe tbody tr th {\n        vertical-align: top;\n    }\n\n    .dataframe thead th {\n        text-align: right;\n    }\n</style>\n<table border=\"1\" class=\"dataframe\">\n  <thead>\n    <tr style=\"text-align: right;\">\n      <th></th>\n      <th></th>\n      <th>PATIENT_COUNT</th>\n    </tr>\n    <tr>\n      <th>snapshot_time</th>\n      <th>UNIT</th>\n      <th></th>\n    </tr>\n  </thead>\n  <tbody>\n    <tr>\n      <th rowspan=\"5\" valign=\"top\">2000-06-01 06:59:00</th>\n      <th>CCU</th>\n      <td>67</td>\n    </tr>\n    <tr>\n      <th>CSRU</th>\n      <td>85</td>\n    </tr>\n    <tr>\n      <th>MICU</th>\n      <td>225</td>\n    </tr>\n    <tr>\n      <th>NICU</th>\n      <td>220</td>\n    </tr>\n    <tr>\n      <th>NWARD</th>\n      <td>46</td>\n    </tr>\n  </tbody>\n</table>\n</div>"
     },
     "execution_count": 33,
     "metadata": {},
     "output_type": "execute_result"
    }
   ],
   "source": [
    "unit_population.head()"
   ],
   "metadata": {
    "collapsed": false,
    "pycharm": {
     "name": "#%%\n"
    }
   }
  },
  {
   "cell_type": "markdown",
   "source": [
    "Now we can work backwards, since we know who was in each unit at a given time and work out how many unique RNs were associated with the unit at that time"
   ],
   "metadata": {
    "collapsed": false
   }
  },
  {
   "cell_type": "code",
   "execution_count": 34,
   "outputs": [
    {
     "data": {
      "text/plain": "                           TEAM_COUNT\nsnapshot_time       UNIT             \n2000-06-01 06:59:00 CCU           119\n                    CSRU          143\n                    MICU          287\n                    NICU           90\n                    NWARD           8",
      "text/html": "<div>\n<style scoped>\n    .dataframe tbody tr th:only-of-type {\n        vertical-align: middle;\n    }\n\n    .dataframe tbody tr th {\n        vertical-align: top;\n    }\n\n    .dataframe thead th {\n        text-align: right;\n    }\n</style>\n<table border=\"1\" class=\"dataframe\">\n  <thead>\n    <tr style=\"text-align: right;\">\n      <th></th>\n      <th></th>\n      <th>TEAM_COUNT</th>\n    </tr>\n    <tr>\n      <th>snapshot_time</th>\n      <th>UNIT</th>\n      <th></th>\n    </tr>\n  </thead>\n  <tbody>\n    <tr>\n      <th rowspan=\"5\" valign=\"top\">2000-06-01 06:59:00</th>\n      <th>CCU</th>\n      <td>119</td>\n    </tr>\n    <tr>\n      <th>CSRU</th>\n      <td>143</td>\n    </tr>\n    <tr>\n      <th>MICU</th>\n      <td>287</td>\n    </tr>\n    <tr>\n      <th>NICU</th>\n      <td>90</td>\n    </tr>\n    <tr>\n      <th>NWARD</th>\n      <td>8</td>\n    </tr>\n  </tbody>\n</table>\n</div>"
     },
     "execution_count": 34,
     "metadata": {},
     "output_type": "execute_result"
    }
   ],
   "source": [
    "caregiver_population = snap_df.set_index(['SUBJECT_ID', 'snapshot_time'])\\\n",
    "    .join(care_df.set_index(['SUBJECT_ID', 'snapshot_time']))\\\n",
    "    .dropna(subset = ['CGID'], axis=0)\\\n",
    "    .reset_index()\\\n",
    "    .drop(columns=['SUBJECT_ID','LABEL', 'DESCRIPTION'])\\\n",
    "    .groupby(['snapshot_time','UNIT'], dropna = False)\\\n",
    "    .nunique().rename(columns={'CGID':'TEAM_COUNT'})\n",
    "caregiver_population.head()"
   ],
   "metadata": {
    "collapsed": false,
    "pycharm": {
     "name": "#%%\n"
    }
   }
  },
  {
   "cell_type": "markdown",
   "source": [
    "One more time, just showing this wide but will work with the data long."
   ],
   "metadata": {
    "collapsed": false
   }
  },
  {
   "cell_type": "code",
   "execution_count": 35,
   "outputs": [
    {
     "data": {
      "text/plain": "UNIT                 NaN  CCU  CSRU  MICU  NICU  NWARD  SICU  TSICU\nsnapshot_time                                                      \n2000-06-01 06:59:00  353  119   143   287    90      8   207    154\n2000-06-01 18:59:00  357  121   161   271    83      6   205    158\n2000-06-02 06:59:00  354  121   164   266    84      4   193    150\n2000-06-02 18:59:00  351  103   158   270    70      5   192    159\n2000-06-03 06:59:00  350  101   164   286    87      6   195    154\n2000-06-03 18:59:00  348  100   160   268    83      9   187    157\n2000-06-04 06:59:00  348  115   163   281    89      4   183    162\n2000-06-04 18:59:00  354  110   168   266    74      6   193    163\n2000-06-05 06:59:00  355  101   167   277    89      7   180    168\n2000-06-05 18:59:00  357  129   153   287    77      8   182    163\n2000-06-06 06:59:00  356  128   151   278    95      2   168    174\n2000-06-06 18:59:00  359  119   149   272    81      7   166    169\n2000-06-07 06:59:00  356  120   142   293    80      4   185    163\n2000-06-07 18:59:00  360  106   157   284    81      3   181    160\n2000-06-08 06:59:00  359  109   156   278    82      5   187    142\n2000-06-08 18:59:00  360  108   158   277    76      7   187    144\n2000-06-09 06:59:00  357  107   158   284    89      4   178    155\n2000-06-09 18:59:00  353  142   161   286    79      5   173    147\n2000-06-10 06:59:00  350  100   163   292    96      5   178    152\n2000-06-10 18:59:00  357  112   160   273    72      6   186    148\n2000-06-11 06:59:00  351  109   154   286    91      4   187    156\n2000-06-11 18:59:00  355  120   161   284    82      6   185    161\n2000-06-12 06:59:00  350  125   158   288    88      7   184    177\n2000-06-12 18:59:00  355  115   150   286    68      9   186    162\n2000-06-13 06:59:00  353  117   146   296    93      7   194    161\n2000-06-13 18:59:00  354  146   143   281    72      5   189    165\n2000-06-14 06:59:00  350  140   158   303    91      1   192    164\n2000-06-14 18:59:00  351  124   149   301    77      4   192    161\n2000-06-15 06:59:00  351  111   148   302    87      5   190    164\n2000-06-15 18:59:00  354  116   147   298    77      5   191    161\n2000-06-16 06:59:00  352  106   144   297    83      4   193    161\n2000-06-16 18:59:00  354  108   149   297    79      6   209    156\n2000-06-17 06:59:00  351  118   154   293    83      5   208    158\n2000-06-17 18:59:00  357  116   163   280    82      6   207    154\n2000-06-18 06:59:00  355  137   159   292    80      6   213    141\n2000-06-18 18:59:00  357  130   156   293    75      6   209    145\n2000-06-19 06:59:00  357   97   148   302    88      5   209    162\n2000-06-19 18:59:00  362  100   149   283    79     13   200    153\n2000-06-20 06:59:00  356  102   152   295    85      5   195    149\n2000-06-20 18:59:00  352  110   169   285    74     10   180    151\n2000-06-21 06:59:00  354  116   176   289    88      5   194    141\n2000-06-21 18:59:00  357  109   165   281    81      7   195    112\n2000-06-22 06:59:00  358  115   163   288    80      3   207    116\n2000-06-22 18:59:00  355  110   157   285    78      5   198    115\n2000-06-23 06:59:00  354  124   150   303    81      5   207    121\n2000-06-23 18:59:00  358  141   155   299    81      8   209    104\n2000-06-24 06:59:00  354  140   156   300    87      7   218    100\n2000-06-24 18:59:00  347  126   150   316    76     10   219     87\n2000-06-25 06:59:00  346  129   148   310    90      6   209     94\n2000-06-25 18:59:00  353  121   151   314    74      8   196     93\n2000-06-26 06:59:00  348  138   142   313    90      4   208     89\n2000-06-26 18:59:00  353  129   148   314    75      9   221     90\n2000-06-27 06:59:00  351  134   145   311    90      4   228     91\n2000-06-27 18:59:00  359  110   152   313    82      8   210     90\n2000-06-28 06:59:00  351   94   149   305    88      4   217    105\n2000-06-28 18:59:00  355  104   144   300    84      9   216     93\n2000-06-29 06:59:00  351  108   146   295    87      6   216     97\n2000-06-29 18:59:00  355   88   145   300    81      7   217    103\n2000-06-30 06:59:00  358   97   146   309    95      5   217    110\n2000-06-30 18:59:00  358  118   146   299    75      9   215    111",
      "text/html": "<div>\n<style scoped>\n    .dataframe tbody tr th:only-of-type {\n        vertical-align: middle;\n    }\n\n    .dataframe tbody tr th {\n        vertical-align: top;\n    }\n\n    .dataframe thead th {\n        text-align: right;\n    }\n</style>\n<table border=\"1\" class=\"dataframe\">\n  <thead>\n    <tr style=\"text-align: right;\">\n      <th>UNIT</th>\n      <th>NaN</th>\n      <th>CCU</th>\n      <th>CSRU</th>\n      <th>MICU</th>\n      <th>NICU</th>\n      <th>NWARD</th>\n      <th>SICU</th>\n      <th>TSICU</th>\n    </tr>\n    <tr>\n      <th>snapshot_time</th>\n      <th></th>\n      <th></th>\n      <th></th>\n      <th></th>\n      <th></th>\n      <th></th>\n      <th></th>\n      <th></th>\n    </tr>\n  </thead>\n  <tbody>\n    <tr>\n      <th>2000-06-01 06:59:00</th>\n      <td>353</td>\n      <td>119</td>\n      <td>143</td>\n      <td>287</td>\n      <td>90</td>\n      <td>8</td>\n      <td>207</td>\n      <td>154</td>\n    </tr>\n    <tr>\n      <th>2000-06-01 18:59:00</th>\n      <td>357</td>\n      <td>121</td>\n      <td>161</td>\n      <td>271</td>\n      <td>83</td>\n      <td>6</td>\n      <td>205</td>\n      <td>158</td>\n    </tr>\n    <tr>\n      <th>2000-06-02 06:59:00</th>\n      <td>354</td>\n      <td>121</td>\n      <td>164</td>\n      <td>266</td>\n      <td>84</td>\n      <td>4</td>\n      <td>193</td>\n      <td>150</td>\n    </tr>\n    <tr>\n      <th>2000-06-02 18:59:00</th>\n      <td>351</td>\n      <td>103</td>\n      <td>158</td>\n      <td>270</td>\n      <td>70</td>\n      <td>5</td>\n      <td>192</td>\n      <td>159</td>\n    </tr>\n    <tr>\n      <th>2000-06-03 06:59:00</th>\n      <td>350</td>\n      <td>101</td>\n      <td>164</td>\n      <td>286</td>\n      <td>87</td>\n      <td>6</td>\n      <td>195</td>\n      <td>154</td>\n    </tr>\n    <tr>\n      <th>2000-06-03 18:59:00</th>\n      <td>348</td>\n      <td>100</td>\n      <td>160</td>\n      <td>268</td>\n      <td>83</td>\n      <td>9</td>\n      <td>187</td>\n      <td>157</td>\n    </tr>\n    <tr>\n      <th>2000-06-04 06:59:00</th>\n      <td>348</td>\n      <td>115</td>\n      <td>163</td>\n      <td>281</td>\n      <td>89</td>\n      <td>4</td>\n      <td>183</td>\n      <td>162</td>\n    </tr>\n    <tr>\n      <th>2000-06-04 18:59:00</th>\n      <td>354</td>\n      <td>110</td>\n      <td>168</td>\n      <td>266</td>\n      <td>74</td>\n      <td>6</td>\n      <td>193</td>\n      <td>163</td>\n    </tr>\n    <tr>\n      <th>2000-06-05 06:59:00</th>\n      <td>355</td>\n      <td>101</td>\n      <td>167</td>\n      <td>277</td>\n      <td>89</td>\n      <td>7</td>\n      <td>180</td>\n      <td>168</td>\n    </tr>\n    <tr>\n      <th>2000-06-05 18:59:00</th>\n      <td>357</td>\n      <td>129</td>\n      <td>153</td>\n      <td>287</td>\n      <td>77</td>\n      <td>8</td>\n      <td>182</td>\n      <td>163</td>\n    </tr>\n    <tr>\n      <th>2000-06-06 06:59:00</th>\n      <td>356</td>\n      <td>128</td>\n      <td>151</td>\n      <td>278</td>\n      <td>95</td>\n      <td>2</td>\n      <td>168</td>\n      <td>174</td>\n    </tr>\n    <tr>\n      <th>2000-06-06 18:59:00</th>\n      <td>359</td>\n      <td>119</td>\n      <td>149</td>\n      <td>272</td>\n      <td>81</td>\n      <td>7</td>\n      <td>166</td>\n      <td>169</td>\n    </tr>\n    <tr>\n      <th>2000-06-07 06:59:00</th>\n      <td>356</td>\n      <td>120</td>\n      <td>142</td>\n      <td>293</td>\n      <td>80</td>\n      <td>4</td>\n      <td>185</td>\n      <td>163</td>\n    </tr>\n    <tr>\n      <th>2000-06-07 18:59:00</th>\n      <td>360</td>\n      <td>106</td>\n      <td>157</td>\n      <td>284</td>\n      <td>81</td>\n      <td>3</td>\n      <td>181</td>\n      <td>160</td>\n    </tr>\n    <tr>\n      <th>2000-06-08 06:59:00</th>\n      <td>359</td>\n      <td>109</td>\n      <td>156</td>\n      <td>278</td>\n      <td>82</td>\n      <td>5</td>\n      <td>187</td>\n      <td>142</td>\n    </tr>\n    <tr>\n      <th>2000-06-08 18:59:00</th>\n      <td>360</td>\n      <td>108</td>\n      <td>158</td>\n      <td>277</td>\n      <td>76</td>\n      <td>7</td>\n      <td>187</td>\n      <td>144</td>\n    </tr>\n    <tr>\n      <th>2000-06-09 06:59:00</th>\n      <td>357</td>\n      <td>107</td>\n      <td>158</td>\n      <td>284</td>\n      <td>89</td>\n      <td>4</td>\n      <td>178</td>\n      <td>155</td>\n    </tr>\n    <tr>\n      <th>2000-06-09 18:59:00</th>\n      <td>353</td>\n      <td>142</td>\n      <td>161</td>\n      <td>286</td>\n      <td>79</td>\n      <td>5</td>\n      <td>173</td>\n      <td>147</td>\n    </tr>\n    <tr>\n      <th>2000-06-10 06:59:00</th>\n      <td>350</td>\n      <td>100</td>\n      <td>163</td>\n      <td>292</td>\n      <td>96</td>\n      <td>5</td>\n      <td>178</td>\n      <td>152</td>\n    </tr>\n    <tr>\n      <th>2000-06-10 18:59:00</th>\n      <td>357</td>\n      <td>112</td>\n      <td>160</td>\n      <td>273</td>\n      <td>72</td>\n      <td>6</td>\n      <td>186</td>\n      <td>148</td>\n    </tr>\n    <tr>\n      <th>2000-06-11 06:59:00</th>\n      <td>351</td>\n      <td>109</td>\n      <td>154</td>\n      <td>286</td>\n      <td>91</td>\n      <td>4</td>\n      <td>187</td>\n      <td>156</td>\n    </tr>\n    <tr>\n      <th>2000-06-11 18:59:00</th>\n      <td>355</td>\n      <td>120</td>\n      <td>161</td>\n      <td>284</td>\n      <td>82</td>\n      <td>6</td>\n      <td>185</td>\n      <td>161</td>\n    </tr>\n    <tr>\n      <th>2000-06-12 06:59:00</th>\n      <td>350</td>\n      <td>125</td>\n      <td>158</td>\n      <td>288</td>\n      <td>88</td>\n      <td>7</td>\n      <td>184</td>\n      <td>177</td>\n    </tr>\n    <tr>\n      <th>2000-06-12 18:59:00</th>\n      <td>355</td>\n      <td>115</td>\n      <td>150</td>\n      <td>286</td>\n      <td>68</td>\n      <td>9</td>\n      <td>186</td>\n      <td>162</td>\n    </tr>\n    <tr>\n      <th>2000-06-13 06:59:00</th>\n      <td>353</td>\n      <td>117</td>\n      <td>146</td>\n      <td>296</td>\n      <td>93</td>\n      <td>7</td>\n      <td>194</td>\n      <td>161</td>\n    </tr>\n    <tr>\n      <th>2000-06-13 18:59:00</th>\n      <td>354</td>\n      <td>146</td>\n      <td>143</td>\n      <td>281</td>\n      <td>72</td>\n      <td>5</td>\n      <td>189</td>\n      <td>165</td>\n    </tr>\n    <tr>\n      <th>2000-06-14 06:59:00</th>\n      <td>350</td>\n      <td>140</td>\n      <td>158</td>\n      <td>303</td>\n      <td>91</td>\n      <td>1</td>\n      <td>192</td>\n      <td>164</td>\n    </tr>\n    <tr>\n      <th>2000-06-14 18:59:00</th>\n      <td>351</td>\n      <td>124</td>\n      <td>149</td>\n      <td>301</td>\n      <td>77</td>\n      <td>4</td>\n      <td>192</td>\n      <td>161</td>\n    </tr>\n    <tr>\n      <th>2000-06-15 06:59:00</th>\n      <td>351</td>\n      <td>111</td>\n      <td>148</td>\n      <td>302</td>\n      <td>87</td>\n      <td>5</td>\n      <td>190</td>\n      <td>164</td>\n    </tr>\n    <tr>\n      <th>2000-06-15 18:59:00</th>\n      <td>354</td>\n      <td>116</td>\n      <td>147</td>\n      <td>298</td>\n      <td>77</td>\n      <td>5</td>\n      <td>191</td>\n      <td>161</td>\n    </tr>\n    <tr>\n      <th>2000-06-16 06:59:00</th>\n      <td>352</td>\n      <td>106</td>\n      <td>144</td>\n      <td>297</td>\n      <td>83</td>\n      <td>4</td>\n      <td>193</td>\n      <td>161</td>\n    </tr>\n    <tr>\n      <th>2000-06-16 18:59:00</th>\n      <td>354</td>\n      <td>108</td>\n      <td>149</td>\n      <td>297</td>\n      <td>79</td>\n      <td>6</td>\n      <td>209</td>\n      <td>156</td>\n    </tr>\n    <tr>\n      <th>2000-06-17 06:59:00</th>\n      <td>351</td>\n      <td>118</td>\n      <td>154</td>\n      <td>293</td>\n      <td>83</td>\n      <td>5</td>\n      <td>208</td>\n      <td>158</td>\n    </tr>\n    <tr>\n      <th>2000-06-17 18:59:00</th>\n      <td>357</td>\n      <td>116</td>\n      <td>163</td>\n      <td>280</td>\n      <td>82</td>\n      <td>6</td>\n      <td>207</td>\n      <td>154</td>\n    </tr>\n    <tr>\n      <th>2000-06-18 06:59:00</th>\n      <td>355</td>\n      <td>137</td>\n      <td>159</td>\n      <td>292</td>\n      <td>80</td>\n      <td>6</td>\n      <td>213</td>\n      <td>141</td>\n    </tr>\n    <tr>\n      <th>2000-06-18 18:59:00</th>\n      <td>357</td>\n      <td>130</td>\n      <td>156</td>\n      <td>293</td>\n      <td>75</td>\n      <td>6</td>\n      <td>209</td>\n      <td>145</td>\n    </tr>\n    <tr>\n      <th>2000-06-19 06:59:00</th>\n      <td>357</td>\n      <td>97</td>\n      <td>148</td>\n      <td>302</td>\n      <td>88</td>\n      <td>5</td>\n      <td>209</td>\n      <td>162</td>\n    </tr>\n    <tr>\n      <th>2000-06-19 18:59:00</th>\n      <td>362</td>\n      <td>100</td>\n      <td>149</td>\n      <td>283</td>\n      <td>79</td>\n      <td>13</td>\n      <td>200</td>\n      <td>153</td>\n    </tr>\n    <tr>\n      <th>2000-06-20 06:59:00</th>\n      <td>356</td>\n      <td>102</td>\n      <td>152</td>\n      <td>295</td>\n      <td>85</td>\n      <td>5</td>\n      <td>195</td>\n      <td>149</td>\n    </tr>\n    <tr>\n      <th>2000-06-20 18:59:00</th>\n      <td>352</td>\n      <td>110</td>\n      <td>169</td>\n      <td>285</td>\n      <td>74</td>\n      <td>10</td>\n      <td>180</td>\n      <td>151</td>\n    </tr>\n    <tr>\n      <th>2000-06-21 06:59:00</th>\n      <td>354</td>\n      <td>116</td>\n      <td>176</td>\n      <td>289</td>\n      <td>88</td>\n      <td>5</td>\n      <td>194</td>\n      <td>141</td>\n    </tr>\n    <tr>\n      <th>2000-06-21 18:59:00</th>\n      <td>357</td>\n      <td>109</td>\n      <td>165</td>\n      <td>281</td>\n      <td>81</td>\n      <td>7</td>\n      <td>195</td>\n      <td>112</td>\n    </tr>\n    <tr>\n      <th>2000-06-22 06:59:00</th>\n      <td>358</td>\n      <td>115</td>\n      <td>163</td>\n      <td>288</td>\n      <td>80</td>\n      <td>3</td>\n      <td>207</td>\n      <td>116</td>\n    </tr>\n    <tr>\n      <th>2000-06-22 18:59:00</th>\n      <td>355</td>\n      <td>110</td>\n      <td>157</td>\n      <td>285</td>\n      <td>78</td>\n      <td>5</td>\n      <td>198</td>\n      <td>115</td>\n    </tr>\n    <tr>\n      <th>2000-06-23 06:59:00</th>\n      <td>354</td>\n      <td>124</td>\n      <td>150</td>\n      <td>303</td>\n      <td>81</td>\n      <td>5</td>\n      <td>207</td>\n      <td>121</td>\n    </tr>\n    <tr>\n      <th>2000-06-23 18:59:00</th>\n      <td>358</td>\n      <td>141</td>\n      <td>155</td>\n      <td>299</td>\n      <td>81</td>\n      <td>8</td>\n      <td>209</td>\n      <td>104</td>\n    </tr>\n    <tr>\n      <th>2000-06-24 06:59:00</th>\n      <td>354</td>\n      <td>140</td>\n      <td>156</td>\n      <td>300</td>\n      <td>87</td>\n      <td>7</td>\n      <td>218</td>\n      <td>100</td>\n    </tr>\n    <tr>\n      <th>2000-06-24 18:59:00</th>\n      <td>347</td>\n      <td>126</td>\n      <td>150</td>\n      <td>316</td>\n      <td>76</td>\n      <td>10</td>\n      <td>219</td>\n      <td>87</td>\n    </tr>\n    <tr>\n      <th>2000-06-25 06:59:00</th>\n      <td>346</td>\n      <td>129</td>\n      <td>148</td>\n      <td>310</td>\n      <td>90</td>\n      <td>6</td>\n      <td>209</td>\n      <td>94</td>\n    </tr>\n    <tr>\n      <th>2000-06-25 18:59:00</th>\n      <td>353</td>\n      <td>121</td>\n      <td>151</td>\n      <td>314</td>\n      <td>74</td>\n      <td>8</td>\n      <td>196</td>\n      <td>93</td>\n    </tr>\n    <tr>\n      <th>2000-06-26 06:59:00</th>\n      <td>348</td>\n      <td>138</td>\n      <td>142</td>\n      <td>313</td>\n      <td>90</td>\n      <td>4</td>\n      <td>208</td>\n      <td>89</td>\n    </tr>\n    <tr>\n      <th>2000-06-26 18:59:00</th>\n      <td>353</td>\n      <td>129</td>\n      <td>148</td>\n      <td>314</td>\n      <td>75</td>\n      <td>9</td>\n      <td>221</td>\n      <td>90</td>\n    </tr>\n    <tr>\n      <th>2000-06-27 06:59:00</th>\n      <td>351</td>\n      <td>134</td>\n      <td>145</td>\n      <td>311</td>\n      <td>90</td>\n      <td>4</td>\n      <td>228</td>\n      <td>91</td>\n    </tr>\n    <tr>\n      <th>2000-06-27 18:59:00</th>\n      <td>359</td>\n      <td>110</td>\n      <td>152</td>\n      <td>313</td>\n      <td>82</td>\n      <td>8</td>\n      <td>210</td>\n      <td>90</td>\n    </tr>\n    <tr>\n      <th>2000-06-28 06:59:00</th>\n      <td>351</td>\n      <td>94</td>\n      <td>149</td>\n      <td>305</td>\n      <td>88</td>\n      <td>4</td>\n      <td>217</td>\n      <td>105</td>\n    </tr>\n    <tr>\n      <th>2000-06-28 18:59:00</th>\n      <td>355</td>\n      <td>104</td>\n      <td>144</td>\n      <td>300</td>\n      <td>84</td>\n      <td>9</td>\n      <td>216</td>\n      <td>93</td>\n    </tr>\n    <tr>\n      <th>2000-06-29 06:59:00</th>\n      <td>351</td>\n      <td>108</td>\n      <td>146</td>\n      <td>295</td>\n      <td>87</td>\n      <td>6</td>\n      <td>216</td>\n      <td>97</td>\n    </tr>\n    <tr>\n      <th>2000-06-29 18:59:00</th>\n      <td>355</td>\n      <td>88</td>\n      <td>145</td>\n      <td>300</td>\n      <td>81</td>\n      <td>7</td>\n      <td>217</td>\n      <td>103</td>\n    </tr>\n    <tr>\n      <th>2000-06-30 06:59:00</th>\n      <td>358</td>\n      <td>97</td>\n      <td>146</td>\n      <td>309</td>\n      <td>95</td>\n      <td>5</td>\n      <td>217</td>\n      <td>110</td>\n    </tr>\n    <tr>\n      <th>2000-06-30 18:59:00</th>\n      <td>358</td>\n      <td>118</td>\n      <td>146</td>\n      <td>299</td>\n      <td>75</td>\n      <td>9</td>\n      <td>215</td>\n      <td>111</td>\n    </tr>\n  </tbody>\n</table>\n</div>"
     },
     "execution_count": 35,
     "metadata": {},
     "output_type": "execute_result"
    }
   ],
   "source": [
    "caregiver_population.reset_index().pivot(index ='snapshot_time', columns='UNIT', values = 'TEAM_COUNT').fillna(0)"
   ],
   "metadata": {
    "collapsed": false,
    "pycharm": {
     "name": "#%%\n"
    }
   }
  },
  {
   "cell_type": "code",
   "execution_count": 36,
   "outputs": [
    {
     "data": {
      "text/plain": "                           PATIENT_COUNT  DISCHARGE_COUNT  TEAM_COUNT  \\\nsnapshot_time       UNIT                                                \n2000-06-01 06:59:00 CCU               67              0.0         119   \n                    CSRU              85              0.0         143   \n                    MICU             225              5.0         287   \n                    NICU             220              0.0          90   \n                    NWARD             46              0.0           8   \n...                                  ...              ...         ...   \n2000-06-28 06:59:00 NaN              784              1.0         351   \n2000-06-28 18:59:00 NaN              758             55.0         355   \n2000-06-29 18:59:00 NaN              764             57.0         355   \n2000-06-30 06:59:00 NaN              785              1.0         358   \n2000-06-30 18:59:00 NaN              744             48.0         358   \n\n                           nurse_discharge_ratio  \nsnapshot_time       UNIT                          \n2000-06-01 06:59:00 CCU                 0.000000  \n                    CSRU                0.000000  \n                    MICU                0.022222  \n                    NICU                0.000000  \n                    NWARD               0.000000  \n...                                          ...  \n2000-06-28 06:59:00 NaN                 0.001276  \n2000-06-28 18:59:00 NaN                 0.072559  \n2000-06-29 18:59:00 NaN                 0.074607  \n2000-06-30 06:59:00 NaN                 0.001274  \n2000-06-30 18:59:00 NaN                 0.064516  \n\n[522 rows x 4 columns]",
      "text/html": "<div>\n<style scoped>\n    .dataframe tbody tr th:only-of-type {\n        vertical-align: middle;\n    }\n\n    .dataframe tbody tr th {\n        vertical-align: top;\n    }\n\n    .dataframe thead th {\n        text-align: right;\n    }\n</style>\n<table border=\"1\" class=\"dataframe\">\n  <thead>\n    <tr style=\"text-align: right;\">\n      <th></th>\n      <th></th>\n      <th>PATIENT_COUNT</th>\n      <th>DISCHARGE_COUNT</th>\n      <th>TEAM_COUNT</th>\n      <th>nurse_discharge_ratio</th>\n    </tr>\n    <tr>\n      <th>snapshot_time</th>\n      <th>UNIT</th>\n      <th></th>\n      <th></th>\n      <th></th>\n      <th></th>\n    </tr>\n  </thead>\n  <tbody>\n    <tr>\n      <th rowspan=\"5\" valign=\"top\">2000-06-01 06:59:00</th>\n      <th>CCU</th>\n      <td>67</td>\n      <td>0.0</td>\n      <td>119</td>\n      <td>0.000000</td>\n    </tr>\n    <tr>\n      <th>CSRU</th>\n      <td>85</td>\n      <td>0.0</td>\n      <td>143</td>\n      <td>0.000000</td>\n    </tr>\n    <tr>\n      <th>MICU</th>\n      <td>225</td>\n      <td>5.0</td>\n      <td>287</td>\n      <td>0.022222</td>\n    </tr>\n    <tr>\n      <th>NICU</th>\n      <td>220</td>\n      <td>0.0</td>\n      <td>90</td>\n      <td>0.000000</td>\n    </tr>\n    <tr>\n      <th>NWARD</th>\n      <td>46</td>\n      <td>0.0</td>\n      <td>8</td>\n      <td>0.000000</td>\n    </tr>\n    <tr>\n      <th>...</th>\n      <th>...</th>\n      <td>...</td>\n      <td>...</td>\n      <td>...</td>\n      <td>...</td>\n    </tr>\n    <tr>\n      <th>2000-06-28 06:59:00</th>\n      <th>NaN</th>\n      <td>784</td>\n      <td>1.0</td>\n      <td>351</td>\n      <td>0.001276</td>\n    </tr>\n    <tr>\n      <th>2000-06-28 18:59:00</th>\n      <th>NaN</th>\n      <td>758</td>\n      <td>55.0</td>\n      <td>355</td>\n      <td>0.072559</td>\n    </tr>\n    <tr>\n      <th>2000-06-29 18:59:00</th>\n      <th>NaN</th>\n      <td>764</td>\n      <td>57.0</td>\n      <td>355</td>\n      <td>0.074607</td>\n    </tr>\n    <tr>\n      <th>2000-06-30 06:59:00</th>\n      <th>NaN</th>\n      <td>785</td>\n      <td>1.0</td>\n      <td>358</td>\n      <td>0.001274</td>\n    </tr>\n    <tr>\n      <th>2000-06-30 18:59:00</th>\n      <th>NaN</th>\n      <td>744</td>\n      <td>48.0</td>\n      <td>358</td>\n      <td>0.064516</td>\n    </tr>\n  </tbody>\n</table>\n<p>522 rows × 4 columns</p>\n</div>"
     },
     "execution_count": 36,
     "metadata": {},
     "output_type": "execute_result"
    }
   ],
   "source": [
    "unit_measures = pd.concat([unit_population, discharge_df, caregiver_population], axis = 1).fillna(0)\n",
    "unit_measures['nurse_discharge_ratio'] = unit_measures.DISCHARGE_COUNT / unit_measures.PATIENT_COUNT\n",
    "unit_measures"
   ],
   "metadata": {
    "collapsed": false,
    "pycharm": {
     "name": "#%%\n"
    }
   }
  },
  {
   "cell_type": "markdown",
   "source": [
    "## Building out the cohort's test result data\n",
    "\n",
    "Now, we go get all the patients in our cohort:"
   ],
   "metadata": {
    "collapsed": false,
    "pycharm": {
     "name": "#%% md\n"
    }
   }
  },
  {
   "cell_type": "code",
   "execution_count": 37,
   "outputs": [],
   "source": [
    "patient_cohort = pd.read_sql_query(\"\"\"\n",
    "        SELECT DISTINCT june_admits.SUBJECT_ID,\n",
    "                june_admits.DOB,\n",
    "                june_admits.GENDER -- 381 rows\n",
    "        FROM (SELECT DISTINCT T.SUBJECT_ID,\n",
    "                              HADM_ID,\n",
    "                              INTIME,\n",
    "                              pts.GENDER,\n",
    "                              pts.DOB\n",
    "              FROM TRANSFERS T\n",
    "                INNER JOIN (\n",
    "                              SELECT SUBJECT_ID, GENDER, min(DOB) as DOB\n",
    "                              FROM PATIENTS\n",
    "                              WHERE EXPIRE_FLAG = 0\n",
    "                              group by SUBJECT_ID, GENDER\n",
    "                          ) pts\n",
    "                                   on T.SUBJECT_ID = pts.SUBJECT_ID\n",
    "                          WHERE T.EVENTTYPE = 'admit'\n",
    "                            AND INTIME BETWEEN '2000-06-01' AND '2000-07-01'\n",
    "                            AND (julianday(T.INTIME) - julianday(pts.DOB)) / 365 > 18) june_admits -- 2402 pts\n",
    "        INNER JOIN\n",
    "             (SELECT distinct SUBJECT_ID, HADM_ID\n",
    "                  FROM LABS\n",
    "                           INNER JOIN ICD_LABS ON LABS.ITEMID = ICD_LABS.ITEMID\n",
    "                      AND ICD_LABS.LOINC_CODE in ('6598-7', '10839-9')\n",
    "                      and LABS.VALUENUM is not NULL) tropo -- 1784 pts (of any age, any admit)\n",
    "                 ON june_admits.SUBJECT_ID = tropo.SUBJECT_ID\n",
    "                     AND june_admits.HADM_ID = tropo.HADM_ID\n",
    "        INNER JOIN\n",
    "             (SELECT distinct SUBJECT_ID, HADM_ID\n",
    "              from DIAGNOSES\n",
    "              WHERE (SUBSTR(DIAGNOSES.ICD9_CODE, 1, 3) like '42%')) dx -- 20,000 pts (of any age, any admit)\n",
    "               ON june_admits.SUBJECT_ID = dx.SUBJECT_ID AND june_admits.HADM_ID = dx.HADM_ID\n",
    "            \"\"\", con = con)"
   ],
   "metadata": {
    "collapsed": false,
    "pycharm": {
     "name": "#%%\n"
    }
   }
  },
  {
   "cell_type": "code",
   "execution_count": 38,
   "outputs": [
    {
     "name": "stdout",
     "output_type": "stream",
     "text": [
      "Total Number of Patients in Dataset: 46488. Patient cohort size: 374\n",
      "Cohort represents 0.8% of all patients in dataset.\n",
      "Total Number of Patients in Dataset: 46488. Patient cohort size: 374\n",
      "Cohort represents 0.8% of all patients in dataset.\n"
     ]
    }
   ],
   "source": [
    "total_patients = con.execute(\"SELECT COUNT(DISTINCT SUBJECT_ID) from PATIENTS\").fetchone()[0]\n",
    "print(f'''Total Number of Patients in Dataset: {total_patients}. Patient cohort size: {len(patient_cohort)}\n",
    "Cohort represents {len(patient_cohort)/total_patients:.1%} of all patients in dataset.''')"
   ],
   "metadata": {
    "collapsed": false,
    "pycharm": {
     "name": "#%%\n"
    }
   }
  },
  {
   "cell_type": "markdown",
   "source": [
    "## Get the most recent results from selected labs before a specific threshold date"
   ],
   "metadata": {
    "collapsed": false
   }
  },
  {
   "cell_type": "code",
   "execution_count": 39,
   "outputs": [],
   "source": [
    "def collect_latest_measure(lab_df, pt, threshold_date):\n",
    "    lab_df = lab_df.loc[lab_df['SUBJECT_ID']==pt]\n",
    "    # We want to collect a row when there's no data so we fully populate the grid of patient/scaffolding\n",
    "    # We can always drop the information later\n",
    "    # So we send back None as a signal for the calling code to build a dummy row\n",
    "    if len(lab_df) == 0:\n",
    "        return None\n",
    "    else:\n",
    "        try:\n",
    "            latest_index = lab_df.loc[lab_df['CHARTTIME'] < threshold_date]['CHARTTIME'].idxmax()\n",
    "            return dict(lab_df.loc[latest_index])\n",
    "        except ValueError:\n",
    "            return None\n"
   ],
   "metadata": {
    "collapsed": false,
    "pycharm": {
     "name": "#%%\n"
    }
   }
  },
  {
   "cell_type": "code",
   "execution_count": 40,
   "outputs": [],
   "source": [
    "cohort_labs = []\n",
    "tests = {'tropinin': ['6598-7', '10839-9'],\n",
    "         'BNP': ['33762-6', '33762-6']} # hackery, I know. makes it possible to swap in 'tuple(tests[foo])' in the query\n",
    "\n",
    "for test in tests:\n",
    "    patient_labs = pd.read_sql_query(f\"\"\"SELECT LABS.SUBJECT_ID, CHARTTIME, VALUENUM, VALUEUOM, LABEL FROM LABS\n",
    "                       INNER JOIN ICD_LABS ON LABS.ITEMID = ICD_LABS.ITEMID AND ICD_LABS.LOINC_CODE in {tuple(tests[test])}\n",
    "                       WHERE SUBJECT_ID IN {tuple(patient_cohort['SUBJECT_ID'])}\n",
    "                       AND LABS.VALUENUM IS NOT NULL\"\"\", con = con, parse_dates=['CHARTTIME'])\n",
    "    patient_labs['test_family'] = test\n",
    "    for patient in patient_cohort['SUBJECT_ID']:\n",
    "        for snapdate in scaffold:\n",
    "            latest_test = collect_latest_measure(patient_labs, patient, snapdate)\n",
    "            if latest_test is None:\n",
    "                latest_test = {'SUBJECT_ID':patient,\n",
    "                              'CHARTTIME': None,\n",
    "                              'VALUENUM': None,\n",
    "                              'VALUEUOM': None,\n",
    "                              'LABEL': None,\n",
    "                              'test_family': test}\n",
    "            latest_test['snapshot_time'] = snapdate\n",
    "            cohort_labs.append(latest_test)"
   ],
   "metadata": {
    "collapsed": false,
    "pycharm": {
     "name": "#%%\n"
    }
   }
  },
  {
   "cell_type": "markdown",
   "source": [
    "This remarkable bit of index mangling helps us drop some NaNs out of the columns"
   ],
   "metadata": {
    "collapsed": false
   }
  },
  {
   "cell_type": "code",
   "execution_count": 41,
   "outputs": [
    {
     "data": {
      "text/plain": "                                Troponin T  Troponin I  NTproBNP\nsnapshot_time       SUBJECT_ID                                  \n2000-06-01 06:59:00 309                NaN         NaN       NaN\n                    318                NaN         NaN       NaN\n                    321                NaN         NaN       NaN\n                    518                NaN         NaN       NaN\n                    740                NaN         NaN       NaN\n...                                    ...         ...       ...\n2000-06-30 18:59:00 98649             0.05         NaN       NaN\n                    99185             0.05         NaN       NaN\n                    99358             3.31         NaN       NaN\n                    99448             0.03         NaN       NaN\n                    99714             0.01         NaN       NaN\n\n[22440 rows x 3 columns]",
      "text/html": "<div>\n<style scoped>\n    .dataframe tbody tr th:only-of-type {\n        vertical-align: middle;\n    }\n\n    .dataframe tbody tr th {\n        vertical-align: top;\n    }\n\n    .dataframe thead th {\n        text-align: right;\n    }\n</style>\n<table border=\"1\" class=\"dataframe\">\n  <thead>\n    <tr style=\"text-align: right;\">\n      <th></th>\n      <th></th>\n      <th>Troponin T</th>\n      <th>Troponin I</th>\n      <th>NTproBNP</th>\n    </tr>\n    <tr>\n      <th>snapshot_time</th>\n      <th>SUBJECT_ID</th>\n      <th></th>\n      <th></th>\n      <th></th>\n    </tr>\n  </thead>\n  <tbody>\n    <tr>\n      <th rowspan=\"5\" valign=\"top\">2000-06-01 06:59:00</th>\n      <th>309</th>\n      <td>NaN</td>\n      <td>NaN</td>\n      <td>NaN</td>\n    </tr>\n    <tr>\n      <th>318</th>\n      <td>NaN</td>\n      <td>NaN</td>\n      <td>NaN</td>\n    </tr>\n    <tr>\n      <th>321</th>\n      <td>NaN</td>\n      <td>NaN</td>\n      <td>NaN</td>\n    </tr>\n    <tr>\n      <th>518</th>\n      <td>NaN</td>\n      <td>NaN</td>\n      <td>NaN</td>\n    </tr>\n    <tr>\n      <th>740</th>\n      <td>NaN</td>\n      <td>NaN</td>\n      <td>NaN</td>\n    </tr>\n    <tr>\n      <th>...</th>\n      <th>...</th>\n      <td>...</td>\n      <td>...</td>\n      <td>...</td>\n    </tr>\n    <tr>\n      <th rowspan=\"5\" valign=\"top\">2000-06-30 18:59:00</th>\n      <th>98649</th>\n      <td>0.05</td>\n      <td>NaN</td>\n      <td>NaN</td>\n    </tr>\n    <tr>\n      <th>99185</th>\n      <td>0.05</td>\n      <td>NaN</td>\n      <td>NaN</td>\n    </tr>\n    <tr>\n      <th>99358</th>\n      <td>3.31</td>\n      <td>NaN</td>\n      <td>NaN</td>\n    </tr>\n    <tr>\n      <th>99448</th>\n      <td>0.03</td>\n      <td>NaN</td>\n      <td>NaN</td>\n    </tr>\n    <tr>\n      <th>99714</th>\n      <td>0.01</td>\n      <td>NaN</td>\n      <td>NaN</td>\n    </tr>\n  </tbody>\n</table>\n<p>22440 rows × 3 columns</p>\n</div>"
     },
     "execution_count": 18,
     "metadata": {},
     "output_type": "execute_result"
    },
    {
     "data": {
      "text/plain": "                                Troponin T  Troponin I  NTproBNP\nsnapshot_time       SUBJECT_ID                                  \n2000-06-01 06:59:00 309                NaN         NaN       NaN\n                    318                NaN         NaN       NaN\n                    321                NaN         NaN       NaN\n                    518                NaN         NaN       NaN\n                    740                NaN         NaN       NaN\n...                                    ...         ...       ...\n2000-06-30 18:59:00 98649             0.05         NaN       NaN\n                    99185             0.05         NaN       NaN\n                    99358             3.31         NaN       NaN\n                    99448             0.03         NaN       NaN\n                    99714             0.01         NaN       NaN\n\n[22440 rows x 3 columns]",
      "text/html": "<div>\n<style scoped>\n    .dataframe tbody tr th:only-of-type {\n        vertical-align: middle;\n    }\n\n    .dataframe tbody tr th {\n        vertical-align: top;\n    }\n\n    .dataframe thead th {\n        text-align: right;\n    }\n</style>\n<table border=\"1\" class=\"dataframe\">\n  <thead>\n    <tr style=\"text-align: right;\">\n      <th></th>\n      <th></th>\n      <th>Troponin T</th>\n      <th>Troponin I</th>\n      <th>NTproBNP</th>\n    </tr>\n    <tr>\n      <th>snapshot_time</th>\n      <th>SUBJECT_ID</th>\n      <th></th>\n      <th></th>\n      <th></th>\n    </tr>\n  </thead>\n  <tbody>\n    <tr>\n      <th rowspan=\"5\" valign=\"top\">2000-06-01 06:59:00</th>\n      <th>309</th>\n      <td>NaN</td>\n      <td>NaN</td>\n      <td>NaN</td>\n    </tr>\n    <tr>\n      <th>318</th>\n      <td>NaN</td>\n      <td>NaN</td>\n      <td>NaN</td>\n    </tr>\n    <tr>\n      <th>321</th>\n      <td>NaN</td>\n      <td>NaN</td>\n      <td>NaN</td>\n    </tr>\n    <tr>\n      <th>518</th>\n      <td>NaN</td>\n      <td>NaN</td>\n      <td>NaN</td>\n    </tr>\n    <tr>\n      <th>740</th>\n      <td>NaN</td>\n      <td>NaN</td>\n      <td>NaN</td>\n    </tr>\n    <tr>\n      <th>...</th>\n      <th>...</th>\n      <td>...</td>\n      <td>...</td>\n      <td>...</td>\n    </tr>\n    <tr>\n      <th rowspan=\"5\" valign=\"top\">2000-06-30 18:59:00</th>\n      <th>98649</th>\n      <td>0.05</td>\n      <td>NaN</td>\n      <td>NaN</td>\n    </tr>\n    <tr>\n      <th>99185</th>\n      <td>0.05</td>\n      <td>NaN</td>\n      <td>NaN</td>\n    </tr>\n    <tr>\n      <th>99358</th>\n      <td>3.31</td>\n      <td>NaN</td>\n      <td>NaN</td>\n    </tr>\n    <tr>\n      <th>99448</th>\n      <td>0.03</td>\n      <td>NaN</td>\n      <td>NaN</td>\n    </tr>\n    <tr>\n      <th>99714</th>\n      <td>0.01</td>\n      <td>NaN</td>\n      <td>NaN</td>\n    </tr>\n  </tbody>\n</table>\n<p>22440 rows × 3 columns</p>\n</div>"
     },
     "execution_count": 41,
     "metadata": {},
     "output_type": "execute_result"
    }
   ],
   "source": [
    "patient_labs = pd.DataFrame(cohort_labs).pivot(index=['snapshot_time', 'SUBJECT_ID'],\n",
    "                                columns=[ 'test_family', 'LABEL'],\n",
    "                                values=['VALUENUM'])\n",
    "patient_labs.columns = patient_labs.columns.to_flat_index()\n",
    "patient_labs = patient_labs.iloc[:,[1, 2, 4]]\n",
    "patient_labs.columns = ['Troponin T', 'Troponin I', 'NTproBNP']\n",
    "\n",
    "patient_labs"
   ],
   "metadata": {
    "collapsed": false,
    "pycharm": {
     "name": "#%%\n"
    }
   }
  },
  {
   "cell_type": "markdown",
   "source": [
    "## Build out Reporting Framework\n",
    "\n",
    "Now, we build a framework of information with the units and subjects who are relevant at a given point in time, constrained to this cohort."
   ],
   "metadata": {
    "collapsed": false
   }
  },
  {
   "cell_type": "code",
   "execution_count": 42,
   "outputs": [
    {
     "data": {
      "text/plain": "                          SUBJECT_ID\nsnapshot_time       UNIT            \n2000-06-01 06:59:00 MICU        4787\n                    MICU        6440\n                    MICU       12567\n                    CCU        14522\n                    SICU       29483\n...                              ...\n2000-06-30 18:59:00 CSRU       82685\n                    CCU        99448\n                    CSRU       99185\n                    CSRU       94448\n                    MICU       96324\n\n[3067 rows x 1 columns]",
      "text/html": "<div>\n<style scoped>\n    .dataframe tbody tr th:only-of-type {\n        vertical-align: middle;\n    }\n\n    .dataframe tbody tr th {\n        vertical-align: top;\n    }\n\n    .dataframe thead th {\n        text-align: right;\n    }\n</style>\n<table border=\"1\" class=\"dataframe\">\n  <thead>\n    <tr style=\"text-align: right;\">\n      <th></th>\n      <th></th>\n      <th>SUBJECT_ID</th>\n    </tr>\n    <tr>\n      <th>snapshot_time</th>\n      <th>UNIT</th>\n      <th></th>\n    </tr>\n  </thead>\n  <tbody>\n    <tr>\n      <th rowspan=\"5\" valign=\"top\">2000-06-01 06:59:00</th>\n      <th>MICU</th>\n      <td>4787</td>\n    </tr>\n    <tr>\n      <th>MICU</th>\n      <td>6440</td>\n    </tr>\n    <tr>\n      <th>MICU</th>\n      <td>12567</td>\n    </tr>\n    <tr>\n      <th>CCU</th>\n      <td>14522</td>\n    </tr>\n    <tr>\n      <th>SICU</th>\n      <td>29483</td>\n    </tr>\n    <tr>\n      <th>...</th>\n      <th>...</th>\n      <td>...</td>\n    </tr>\n    <tr>\n      <th rowspan=\"5\" valign=\"top\">2000-06-30 18:59:00</th>\n      <th>CSRU</th>\n      <td>82685</td>\n    </tr>\n    <tr>\n      <th>CCU</th>\n      <td>99448</td>\n    </tr>\n    <tr>\n      <th>CSRU</th>\n      <td>99185</td>\n    </tr>\n    <tr>\n      <th>CSRU</th>\n      <td>94448</td>\n    </tr>\n    <tr>\n      <th>MICU</th>\n      <td>96324</td>\n    </tr>\n  </tbody>\n</table>\n<p>3067 rows × 1 columns</p>\n</div>"
     },
     "execution_count": 19,
     "metadata": {},
     "output_type": "execute_result"
    },
    {
     "data": {
      "text/plain": "                          SUBJECT_ID\nsnapshot_time       UNIT            \n2000-06-01 06:59:00 MICU        4787\n                    MICU        6440\n                    MICU       12567\n                    CCU        14522\n                    SICU       29483\n...                              ...\n2000-06-30 18:59:00 CSRU       82685\n                    CCU        99448\n                    CSRU       99185\n                    CSRU       94448\n                    MICU       96324\n\n[3067 rows x 1 columns]",
      "text/html": "<div>\n<style scoped>\n    .dataframe tbody tr th:only-of-type {\n        vertical-align: middle;\n    }\n\n    .dataframe tbody tr th {\n        vertical-align: top;\n    }\n\n    .dataframe thead th {\n        text-align: right;\n    }\n</style>\n<table border=\"1\" class=\"dataframe\">\n  <thead>\n    <tr style=\"text-align: right;\">\n      <th></th>\n      <th></th>\n      <th>SUBJECT_ID</th>\n    </tr>\n    <tr>\n      <th>snapshot_time</th>\n      <th>UNIT</th>\n      <th></th>\n    </tr>\n  </thead>\n  <tbody>\n    <tr>\n      <th rowspan=\"5\" valign=\"top\">2000-06-01 06:59:00</th>\n      <th>MICU</th>\n      <td>4787</td>\n    </tr>\n    <tr>\n      <th>MICU</th>\n      <td>6440</td>\n    </tr>\n    <tr>\n      <th>MICU</th>\n      <td>12567</td>\n    </tr>\n    <tr>\n      <th>CCU</th>\n      <td>14522</td>\n    </tr>\n    <tr>\n      <th>SICU</th>\n      <td>29483</td>\n    </tr>\n    <tr>\n      <th>...</th>\n      <th>...</th>\n      <td>...</td>\n    </tr>\n    <tr>\n      <th rowspan=\"5\" valign=\"top\">2000-06-30 18:59:00</th>\n      <th>CSRU</th>\n      <td>82685</td>\n    </tr>\n    <tr>\n      <th>CCU</th>\n      <td>99448</td>\n    </tr>\n    <tr>\n      <th>CSRU</th>\n      <td>99185</td>\n    </tr>\n    <tr>\n      <th>CSRU</th>\n      <td>94448</td>\n    </tr>\n    <tr>\n      <th>MICU</th>\n      <td>96324</td>\n    </tr>\n  </tbody>\n</table>\n<p>3067 rows × 1 columns</p>\n</div>"
     },
     "execution_count": 42,
     "metadata": {},
     "output_type": "execute_result"
    }
   ],
   "source": [
    "snap_cohort_df = snap_df[snap_df.SUBJECT_ID.isin(patient_cohort['SUBJECT_ID'])]\\\n",
    "    .dropna(subset='UNIT')\\\n",
    "    .set_index(['snapshot_time','UNIT'])\n",
    "\n",
    "snap_cohort_df"
   ],
   "metadata": {
    "collapsed": false,
    "pycharm": {
     "name": "#%%\n"
    }
   }
  },
  {
   "cell_type": "markdown",
   "source": [
    "... and then we graft on the unit data and the lab data"
   ],
   "metadata": {
    "collapsed": false
   }
  },
  {
   "cell_type": "code",
   "execution_count": 59,
   "outputs": [],
   "source": [
    "wide_data = snap_cohort_df.join(unit_measures, how = 'left')\\\n",
    "            .reset_index()\\\n",
    "            .set_index(['snapshot_time', 'SUBJECT_ID'])\\\n",
    "            .join(patient_labs, how = 'left')\\\n",
    "            .reset_index()\\\n",
    "            .set_index('SUBJECT_ID')\\\n",
    "            .join(patient_cohort.set_index('SUBJECT_ID'), how = 'left')"
   ],
   "metadata": {
    "collapsed": false,
    "pycharm": {
     "name": "#%%\n"
    }
   }
  },
  {
   "cell_type": "code",
   "execution_count": 60,
   "outputs": [
    {
     "data": {
      "text/plain": "                 snapshot_time UNIT  PATIENT_COUNT  DISCHARGE_COUNT  \\\nSUBJECT_ID                                                            \n309        2000-06-04 18:59:00  CCU             51              0.0   \n309        2000-06-05 06:59:00  CCU             53              0.0   \n309        2000-06-05 18:59:00  CCU             54              1.0   \n318        2000-06-07 18:59:00  CCU             51              0.0   \n318        2000-06-08 06:59:00  CCU             57              0.0   \n...                        ...  ...            ...              ...   \n99714      2000-06-11 06:59:00  CCU             69              1.0   \n99714      2000-06-11 18:59:00  CCU             71              2.0   \n99714      2000-06-12 06:59:00  CCU             75              0.0   \n99714      2000-06-12 18:59:00  CCU             61              1.0   \n99714      2000-06-13 06:59:00  CCU             67              0.0   \n\n            TEAM_COUNT  nurse_discharge_ratio  Troponin T  Troponin I  \\\nSUBJECT_ID                                                              \n309                110               0.000000         NaN         NaN   \n309                101               0.000000        0.34         NaN   \n309                129               0.018519        0.25         NaN   \n318                106               0.000000         NaN        29.1   \n318                109               0.000000         NaN        19.9   \n...                ...                    ...         ...         ...   \n99714              109               0.014493        0.01         NaN   \n99714              120               0.028169        0.01         NaN   \n99714              125               0.000000        0.01         NaN   \n99714              115               0.016393        0.01         NaN   \n99714              117               0.000000        0.01         NaN   \n\n            NTproBNP                  DOB GENDER  \nSUBJECT_ID                                        \n309              NaN  1938-10-02 00:00:00      M  \n309              NaN  1938-10-02 00:00:00      M  \n309              NaN  1938-10-02 00:00:00      M  \n318              NaN  1937-09-02 00:00:00      M  \n318              NaN  1937-09-02 00:00:00      M  \n...              ...                  ...    ...  \n99714            NaN  1918-12-07 00:00:00      M  \n99714            NaN  1918-12-07 00:00:00      M  \n99714            NaN  1918-12-07 00:00:00      M  \n99714            NaN  1918-12-07 00:00:00      M  \n99714            NaN  1918-12-07 00:00:00      M  \n\n[3067 rows x 11 columns]",
      "text/html": "<div>\n<style scoped>\n    .dataframe tbody tr th:only-of-type {\n        vertical-align: middle;\n    }\n\n    .dataframe tbody tr th {\n        vertical-align: top;\n    }\n\n    .dataframe thead th {\n        text-align: right;\n    }\n</style>\n<table border=\"1\" class=\"dataframe\">\n  <thead>\n    <tr style=\"text-align: right;\">\n      <th></th>\n      <th>snapshot_time</th>\n      <th>UNIT</th>\n      <th>PATIENT_COUNT</th>\n      <th>DISCHARGE_COUNT</th>\n      <th>TEAM_COUNT</th>\n      <th>nurse_discharge_ratio</th>\n      <th>Troponin T</th>\n      <th>Troponin I</th>\n      <th>NTproBNP</th>\n      <th>DOB</th>\n      <th>GENDER</th>\n    </tr>\n    <tr>\n      <th>SUBJECT_ID</th>\n      <th></th>\n      <th></th>\n      <th></th>\n      <th></th>\n      <th></th>\n      <th></th>\n      <th></th>\n      <th></th>\n      <th></th>\n      <th></th>\n      <th></th>\n    </tr>\n  </thead>\n  <tbody>\n    <tr>\n      <th>309</th>\n      <td>2000-06-04 18:59:00</td>\n      <td>CCU</td>\n      <td>51</td>\n      <td>0.0</td>\n      <td>110</td>\n      <td>0.000000</td>\n      <td>NaN</td>\n      <td>NaN</td>\n      <td>NaN</td>\n      <td>1938-10-02 00:00:00</td>\n      <td>M</td>\n    </tr>\n    <tr>\n      <th>309</th>\n      <td>2000-06-05 06:59:00</td>\n      <td>CCU</td>\n      <td>53</td>\n      <td>0.0</td>\n      <td>101</td>\n      <td>0.000000</td>\n      <td>0.34</td>\n      <td>NaN</td>\n      <td>NaN</td>\n      <td>1938-10-02 00:00:00</td>\n      <td>M</td>\n    </tr>\n    <tr>\n      <th>309</th>\n      <td>2000-06-05 18:59:00</td>\n      <td>CCU</td>\n      <td>54</td>\n      <td>1.0</td>\n      <td>129</td>\n      <td>0.018519</td>\n      <td>0.25</td>\n      <td>NaN</td>\n      <td>NaN</td>\n      <td>1938-10-02 00:00:00</td>\n      <td>M</td>\n    </tr>\n    <tr>\n      <th>318</th>\n      <td>2000-06-07 18:59:00</td>\n      <td>CCU</td>\n      <td>51</td>\n      <td>0.0</td>\n      <td>106</td>\n      <td>0.000000</td>\n      <td>NaN</td>\n      <td>29.1</td>\n      <td>NaN</td>\n      <td>1937-09-02 00:00:00</td>\n      <td>M</td>\n    </tr>\n    <tr>\n      <th>318</th>\n      <td>2000-06-08 06:59:00</td>\n      <td>CCU</td>\n      <td>57</td>\n      <td>0.0</td>\n      <td>109</td>\n      <td>0.000000</td>\n      <td>NaN</td>\n      <td>19.9</td>\n      <td>NaN</td>\n      <td>1937-09-02 00:00:00</td>\n      <td>M</td>\n    </tr>\n    <tr>\n      <th>...</th>\n      <td>...</td>\n      <td>...</td>\n      <td>...</td>\n      <td>...</td>\n      <td>...</td>\n      <td>...</td>\n      <td>...</td>\n      <td>...</td>\n      <td>...</td>\n      <td>...</td>\n      <td>...</td>\n    </tr>\n    <tr>\n      <th>99714</th>\n      <td>2000-06-11 06:59:00</td>\n      <td>CCU</td>\n      <td>69</td>\n      <td>1.0</td>\n      <td>109</td>\n      <td>0.014493</td>\n      <td>0.01</td>\n      <td>NaN</td>\n      <td>NaN</td>\n      <td>1918-12-07 00:00:00</td>\n      <td>M</td>\n    </tr>\n    <tr>\n      <th>99714</th>\n      <td>2000-06-11 18:59:00</td>\n      <td>CCU</td>\n      <td>71</td>\n      <td>2.0</td>\n      <td>120</td>\n      <td>0.028169</td>\n      <td>0.01</td>\n      <td>NaN</td>\n      <td>NaN</td>\n      <td>1918-12-07 00:00:00</td>\n      <td>M</td>\n    </tr>\n    <tr>\n      <th>99714</th>\n      <td>2000-06-12 06:59:00</td>\n      <td>CCU</td>\n      <td>75</td>\n      <td>0.0</td>\n      <td>125</td>\n      <td>0.000000</td>\n      <td>0.01</td>\n      <td>NaN</td>\n      <td>NaN</td>\n      <td>1918-12-07 00:00:00</td>\n      <td>M</td>\n    </tr>\n    <tr>\n      <th>99714</th>\n      <td>2000-06-12 18:59:00</td>\n      <td>CCU</td>\n      <td>61</td>\n      <td>1.0</td>\n      <td>115</td>\n      <td>0.016393</td>\n      <td>0.01</td>\n      <td>NaN</td>\n      <td>NaN</td>\n      <td>1918-12-07 00:00:00</td>\n      <td>M</td>\n    </tr>\n    <tr>\n      <th>99714</th>\n      <td>2000-06-13 06:59:00</td>\n      <td>CCU</td>\n      <td>67</td>\n      <td>0.0</td>\n      <td>117</td>\n      <td>0.000000</td>\n      <td>0.01</td>\n      <td>NaN</td>\n      <td>NaN</td>\n      <td>1918-12-07 00:00:00</td>\n      <td>M</td>\n    </tr>\n  </tbody>\n</table>\n<p>3067 rows × 11 columns</p>\n</div>"
     },
     "execution_count": 60,
     "metadata": {},
     "output_type": "execute_result"
    }
   ],
   "source": [
    "wide_data"
   ],
   "metadata": {
    "collapsed": false,
    "pycharm": {
     "name": "#%%\n"
    }
   }
  },
  {
   "cell_type": "markdown",
   "source": [
    "## Write it out\n",
    "\n",
    "Finally, we clean up a bit and send this table to CSV"
   ],
   "metadata": {
    "collapsed": false
   }
  },
  {
   "cell_type": "code",
   "execution_count": 61,
   "outputs": [],
   "source": [
    "wide_data.columns = [x.upper().replace(' ', '_') for x in wide_data.columns]"
   ],
   "metadata": {
    "collapsed": false,
    "pycharm": {
     "name": "#%%\n"
    }
   }
  },
  {
   "cell_type": "code",
   "execution_count": 62,
   "outputs": [],
   "source": [
    "wide_data.to_csv('de_challenge_retrospective.csv', date_format=\"%Y-%m-%dT%H:%M:%S-04:00\")"
   ],
   "metadata": {
    "collapsed": false,
    "pycharm": {
     "name": "#%%\n"
    }
   }
  },
  {
   "cell_type": "code",
   "execution_count": null,
   "outputs": [],
   "source": [],
   "metadata": {
    "collapsed": false,
    "pycharm": {
     "name": "#%%\n"
    }
   }
  }
 ],
 "metadata": {
  "kernelspec": {
   "display_name": "Python 3",
   "language": "python",
   "name": "python3"
  },
  "language_info": {
   "codemirror_mode": {
    "name": "ipython",
    "version": 2
   },
   "file_extension": ".py",
   "mimetype": "text/x-python",
   "name": "python",
   "nbconvert_exporter": "python",
   "pygments_lexer": "ipython2",
   "version": "2.7.6"
  }
 },
 "nbformat": 4,
 "nbformat_minor": 0
}