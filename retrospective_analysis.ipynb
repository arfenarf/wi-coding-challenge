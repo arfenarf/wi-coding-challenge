{
 "cells": [
  {
   "cell_type": "markdown",
   "metadata": {
    "collapsed": true,
    "pycharm": {
     "name": "#%% md\n"
    }
   },
   "source": [
    "# Weil Institute Coding Challenge\n",
    "Kate Weber March 7, 2022\n",
    "kate@kateweber.com\n",
    "\n",
    "# The Request\n",
    "\n",
    "Observations every 12 hours for each of the patients in the cohort throughout the month of June 2000. For each of these observations, we need the following data:\n",
    "\n",
    "* The ratio of discharged patients over the previous 4 hours to the number of nurses in the patient’s unit\n",
    "* The ratio of nurses to patients in the patient’s unit\n",
    "* The patient’s latest Tropinin lab value (confirm codes)\n",
    "*  The patient’s latest B-type natriuretic peptide (BNP) lab value (LOINC 33762-6)\n",
    "\n",
    "# The Deliverable\n",
    "CSV Data file with one row per patient per observation period"
   ]
  },
  {
   "cell_type": "code",
   "execution_count": 1,
   "outputs": [],
   "source": [
    "import pandas as pd\n",
    "import sqlite3\n",
    "import datetime\n",
    "\n",
    "# Set up the database connection\n",
    "con = sqlite3.connect(\"data/DE_Challenge_DB.sqlite\")\n",
    "\n",
    "# build scaffolding for the snapshots\n",
    "scaffold = pd.date_range(start='2000-06-01 06:59:00', end='2000-06-30 23:59:00', freq='12h')"
   ],
   "metadata": {
    "collapsed": false,
    "pycharm": {
     "name": "#%%\n"
    }
   }
  },
  {
   "cell_type": "markdown",
   "source": [
    "## Building out the Unit, Population and Staffing Information\n",
    "\n",
    "Key measures that must accompany patient data consider the overall environment of the hospital at the snapshot times of 6:59 AM and 6:59 PM every day during the study period.  We start with date scaffolding that will help us gather information for each date/time of interst.  Here, we gather information that will help us understand\n",
    "* where each patient is at the time of each of the snapshots (`snap_df`),\n",
    "* who is on the nursing team for each patient at the snapshot time (`care_df`) and\n",
    "* counts of discharges for each patient at the snapshot time (`discharge_df`)"
   ],
   "metadata": {
    "collapsed": false,
    "pycharm": {
     "name": "#%% md\n"
    }
   }
  },
  {
   "cell_type": "code",
   "execution_count": 2,
   "outputs": [],
   "source": [
    "snapdata = []\n",
    "careteam = []\n",
    "discharges = []\n",
    "\n",
    "# collect data at each of the given snapshot points\n",
    "for snapdate in scaffold:\n",
    "\n",
    "    # where is each patient right now?\n",
    "    patient_location = pd.read_sql_query(f\"\"\"\n",
    "            SELECT SUBJECT_ID,\n",
    "            CURR_CAREUNIT as UNIT\n",
    "            FROM TRANSFERS WHERE INTIME <= '{snapdate}'\n",
    "            AND OUTTIME > '{snapdate}'\n",
    "        \"\"\", con = con)\n",
    "    patient_location['snapshot_time'] = snapdate\n",
    "    snapdata.append(patient_location)\n",
    "\n",
    "    # who is the nursing team for each patient right now?\n",
    "    care_detail = pd.read_sql_query(f\"\"\"\n",
    "            SELECT SUBJECT_ID, tt.CGID, LABEL, DESCRIPTION\n",
    "            FROM TREATMENT_TEAM tt\n",
    "            LEFT JOIN CARE_GIVERS cg on tt.CGID = cg.CGID\n",
    "            WHERE tt.STARTTIME <= '{snapdate}'\n",
    "            AND tt.ENDTIME > '{snapdate}'\n",
    "            AND lower(LABEL) = 'rn' OR lower(DESCRIPTION) = 'rn'\n",
    "        \"\"\", con = con)\n",
    "    care_detail['snapshot_time'] = snapdate\n",
    "    careteam.append(care_detail)\n",
    "\n",
    "    # how many patients were discharged from each unit up to four hours before right now?\n",
    "    discharge_count = pd.read_sql_query(f\"\"\"\n",
    "            SELECT PREV_CAREUNIT as UNIT,\n",
    "            count(distinct(SUBJECT_ID)) as DISCHARGE_COUNT\n",
    "            FROM TRANSFERS\n",
    "            WHERE INTIME > '{snapdate - datetime.timedelta(hours = 4)}'\n",
    "              AND INTIME <= '{snapdate}'\n",
    "             AND EVENTTYPE = 'discharge'\n",
    "            GROUP BY PREV_CAREUNIT\n",
    "        \"\"\", con = con)\n",
    "    discharge_count['snapshot_time'] = snapdate\n",
    "    discharges.append(discharge_count)"
   ],
   "metadata": {
    "collapsed": false,
    "pycharm": {
     "name": "#%%\n"
    }
   }
  },
  {
   "cell_type": "markdown",
   "source": [
    "We generate pandas dataframes from the gathered information"
   ],
   "metadata": {
    "collapsed": false
   }
  },
  {
   "cell_type": "code",
   "execution_count": 3,
   "outputs": [],
   "source": [
    "snap_df = pd.concat(snapdata)\n",
    "care_df = pd.concat(careteam)\n",
    "discharge_df = pd.concat(discharges).groupby(['snapshot_time','UNIT'],dropna=False).sum()"
   ],
   "metadata": {
    "collapsed": false,
    "pycharm": {
     "name": "#%%\n"
    }
   }
  },
  {
   "cell_type": "markdown",
   "source": [
    "## Review and Reshaping Data\n",
    "\n",
    "Here, we have a df showing where each patient was at a given time."
   ],
   "metadata": {
    "collapsed": false
   }
  },
  {
   "cell_type": "code",
   "execution_count": 4,
   "outputs": [
    {
     "data": {
      "text/plain": "   SUBJECT_ID   UNIT       snapshot_time\n0         124   None 2000-06-01 06:59:00\n1           6   SICU 2000-06-01 06:59:00\n2         109   None 2000-06-01 06:59:00\n3         110  NWARD 2000-06-01 06:59:00\n4         223   None 2000-06-01 06:59:00",
      "text/html": "<div>\n<style scoped>\n    .dataframe tbody tr th:only-of-type {\n        vertical-align: middle;\n    }\n\n    .dataframe tbody tr th {\n        vertical-align: top;\n    }\n\n    .dataframe thead th {\n        text-align: right;\n    }\n</style>\n<table border=\"1\" class=\"dataframe\">\n  <thead>\n    <tr style=\"text-align: right;\">\n      <th></th>\n      <th>SUBJECT_ID</th>\n      <th>UNIT</th>\n      <th>snapshot_time</th>\n    </tr>\n  </thead>\n  <tbody>\n    <tr>\n      <th>0</th>\n      <td>124</td>\n      <td>None</td>\n      <td>2000-06-01 06:59:00</td>\n    </tr>\n    <tr>\n      <th>1</th>\n      <td>6</td>\n      <td>SICU</td>\n      <td>2000-06-01 06:59:00</td>\n    </tr>\n    <tr>\n      <th>2</th>\n      <td>109</td>\n      <td>None</td>\n      <td>2000-06-01 06:59:00</td>\n    </tr>\n    <tr>\n      <th>3</th>\n      <td>110</td>\n      <td>NWARD</td>\n      <td>2000-06-01 06:59:00</td>\n    </tr>\n    <tr>\n      <th>4</th>\n      <td>223</td>\n      <td>None</td>\n      <td>2000-06-01 06:59:00</td>\n    </tr>\n  </tbody>\n</table>\n</div>"
     },
     "execution_count": 4,
     "metadata": {},
     "output_type": "execute_result"
    }
   ],
   "source": [
    "snap_df.head()"
   ],
   "metadata": {
    "collapsed": false,
    "pycharm": {
     "name": "#%%\n"
    }
   }
  },
  {
   "cell_type": "markdown",
   "source": [
    "Here, we have one row per patient per RN per careteam"
   ],
   "metadata": {
    "collapsed": false
   }
  },
  {
   "cell_type": "code",
   "execution_count": 5,
   "outputs": [
    {
     "data": {
      "text/plain": "   SUBJECT_ID     CGID LABEL DESCRIPTION       snapshot_time\n0       30593  19891.0    RN          RN 2000-06-01 06:59:00\n1       30593  17735.0    RN          RN 2000-06-01 06:59:00\n2       30593  15526.0    RN          RN 2000-06-01 06:59:00\n3       30300  20808.0    RN          RN 2000-06-01 06:59:00\n4       30593  20063.0    RN          RN 2000-06-01 06:59:00",
      "text/html": "<div>\n<style scoped>\n    .dataframe tbody tr th:only-of-type {\n        vertical-align: middle;\n    }\n\n    .dataframe tbody tr th {\n        vertical-align: top;\n    }\n\n    .dataframe thead th {\n        text-align: right;\n    }\n</style>\n<table border=\"1\" class=\"dataframe\">\n  <thead>\n    <tr style=\"text-align: right;\">\n      <th></th>\n      <th>SUBJECT_ID</th>\n      <th>CGID</th>\n      <th>LABEL</th>\n      <th>DESCRIPTION</th>\n      <th>snapshot_time</th>\n    </tr>\n  </thead>\n  <tbody>\n    <tr>\n      <th>0</th>\n      <td>30593</td>\n      <td>19891.0</td>\n      <td>RN</td>\n      <td>RN</td>\n      <td>2000-06-01 06:59:00</td>\n    </tr>\n    <tr>\n      <th>1</th>\n      <td>30593</td>\n      <td>17735.0</td>\n      <td>RN</td>\n      <td>RN</td>\n      <td>2000-06-01 06:59:00</td>\n    </tr>\n    <tr>\n      <th>2</th>\n      <td>30593</td>\n      <td>15526.0</td>\n      <td>RN</td>\n      <td>RN</td>\n      <td>2000-06-01 06:59:00</td>\n    </tr>\n    <tr>\n      <th>3</th>\n      <td>30300</td>\n      <td>20808.0</td>\n      <td>RN</td>\n      <td>RN</td>\n      <td>2000-06-01 06:59:00</td>\n    </tr>\n    <tr>\n      <th>4</th>\n      <td>30593</td>\n      <td>20063.0</td>\n      <td>RN</td>\n      <td>RN</td>\n      <td>2000-06-01 06:59:00</td>\n    </tr>\n  </tbody>\n</table>\n</div>"
     },
     "execution_count": 5,
     "metadata": {},
     "output_type": "execute_result"
    }
   ],
   "source": [
    "care_df.head()"
   ],
   "metadata": {
    "collapsed": false,
    "pycharm": {
     "name": "#%%\n"
    }
   }
  },
  {
   "cell_type": "markdown",
   "source": [
    "For the sake of working data, we'll keep the discharge table in long format but here is an overview of it pivoted out by Unit."
   ],
   "metadata": {
    "collapsed": false
   }
  },
  {
   "cell_type": "code",
   "execution_count": 6,
   "outputs": [
    {
     "data": {
      "text/plain": "UNIT                  NaN  CCU  CSRU  MICU  NICU  NWARD  SICU  TSICU\nsnapshot_time                                                       \n2000-06-01 06:59:00   1.0  0.0   0.0   5.0   0.0    0.0   0.0    0.0\n2000-06-01 18:59:00  58.0  3.0   0.0   3.0   4.0    4.0   1.0    0.0\n2000-06-02 06:59:00   0.0  0.0   1.0   1.0   0.0    0.0   0.0    0.0\n2000-06-02 18:59:00  49.0  3.0   0.0   8.0   4.0    1.0   2.0    1.0\n2000-06-03 06:59:00   1.0  0.0   0.0   1.0   0.0    0.0   0.0    0.0",
      "text/html": "<div>\n<style scoped>\n    .dataframe tbody tr th:only-of-type {\n        vertical-align: middle;\n    }\n\n    .dataframe tbody tr th {\n        vertical-align: top;\n    }\n\n    .dataframe thead th {\n        text-align: right;\n    }\n</style>\n<table border=\"1\" class=\"dataframe\">\n  <thead>\n    <tr style=\"text-align: right;\">\n      <th>UNIT</th>\n      <th>NaN</th>\n      <th>CCU</th>\n      <th>CSRU</th>\n      <th>MICU</th>\n      <th>NICU</th>\n      <th>NWARD</th>\n      <th>SICU</th>\n      <th>TSICU</th>\n    </tr>\n    <tr>\n      <th>snapshot_time</th>\n      <th></th>\n      <th></th>\n      <th></th>\n      <th></th>\n      <th></th>\n      <th></th>\n      <th></th>\n      <th></th>\n    </tr>\n  </thead>\n  <tbody>\n    <tr>\n      <th>2000-06-01 06:59:00</th>\n      <td>1.0</td>\n      <td>0.0</td>\n      <td>0.0</td>\n      <td>5.0</td>\n      <td>0.0</td>\n      <td>0.0</td>\n      <td>0.0</td>\n      <td>0.0</td>\n    </tr>\n    <tr>\n      <th>2000-06-01 18:59:00</th>\n      <td>58.0</td>\n      <td>3.0</td>\n      <td>0.0</td>\n      <td>3.0</td>\n      <td>4.0</td>\n      <td>4.0</td>\n      <td>1.0</td>\n      <td>0.0</td>\n    </tr>\n    <tr>\n      <th>2000-06-02 06:59:00</th>\n      <td>0.0</td>\n      <td>0.0</td>\n      <td>1.0</td>\n      <td>1.0</td>\n      <td>0.0</td>\n      <td>0.0</td>\n      <td>0.0</td>\n      <td>0.0</td>\n    </tr>\n    <tr>\n      <th>2000-06-02 18:59:00</th>\n      <td>49.0</td>\n      <td>3.0</td>\n      <td>0.0</td>\n      <td>8.0</td>\n      <td>4.0</td>\n      <td>1.0</td>\n      <td>2.0</td>\n      <td>1.0</td>\n    </tr>\n    <tr>\n      <th>2000-06-03 06:59:00</th>\n      <td>1.0</td>\n      <td>0.0</td>\n      <td>0.0</td>\n      <td>1.0</td>\n      <td>0.0</td>\n      <td>0.0</td>\n      <td>0.0</td>\n      <td>0.0</td>\n    </tr>\n  </tbody>\n</table>\n</div>"
     },
     "execution_count": 6,
     "metadata": {},
     "output_type": "execute_result"
    }
   ],
   "source": [
    "discharge_df.reset_index().pivot(index ='snapshot_time', columns='UNIT', values = 'DISCHARGE_COUNT').fillna(0).head()"
   ],
   "metadata": {
    "collapsed": false,
    "pycharm": {
     "name": "#%%\n"
    }
   }
  },
  {
   "cell_type": "code",
   "execution_count": 7,
   "outputs": [
    {
     "data": {
      "text/plain": "                          DISCHARGE_COUNT\nsnapshot_time       UNIT                 \n2000-06-01 06:59:00 MICU                5\n                    NaN                 1\n2000-06-01 18:59:00 CCU                 3\n                    MICU                3\n                    NICU                4",
      "text/html": "<div>\n<style scoped>\n    .dataframe tbody tr th:only-of-type {\n        vertical-align: middle;\n    }\n\n    .dataframe tbody tr th {\n        vertical-align: top;\n    }\n\n    .dataframe thead th {\n        text-align: right;\n    }\n</style>\n<table border=\"1\" class=\"dataframe\">\n  <thead>\n    <tr style=\"text-align: right;\">\n      <th></th>\n      <th></th>\n      <th>DISCHARGE_COUNT</th>\n    </tr>\n    <tr>\n      <th>snapshot_time</th>\n      <th>UNIT</th>\n      <th></th>\n    </tr>\n  </thead>\n  <tbody>\n    <tr>\n      <th rowspan=\"2\" valign=\"top\">2000-06-01 06:59:00</th>\n      <th>MICU</th>\n      <td>5</td>\n    </tr>\n    <tr>\n      <th>NaN</th>\n      <td>1</td>\n    </tr>\n    <tr>\n      <th rowspan=\"3\" valign=\"top\">2000-06-01 18:59:00</th>\n      <th>CCU</th>\n      <td>3</td>\n    </tr>\n    <tr>\n      <th>MICU</th>\n      <td>3</td>\n    </tr>\n    <tr>\n      <th>NICU</th>\n      <td>4</td>\n    </tr>\n  </tbody>\n</table>\n</div>"
     },
     "execution_count": 7,
     "metadata": {},
     "output_type": "execute_result"
    }
   ],
   "source": [
    "discharge_df.head()"
   ],
   "metadata": {
    "collapsed": false,
    "pycharm": {
     "name": "#%%\n"
    }
   }
  },
  {
   "cell_type": "markdown",
   "source": [
    "The Unit Population is a rollup of distinct SUBJECT_IDs in a given unit at each snapshot time."
   ],
   "metadata": {
    "collapsed": false
   }
  },
  {
   "cell_type": "code",
   "execution_count": 8,
   "outputs": [],
   "source": [
    "unit_population = snap_df.groupby(['snapshot_time','UNIT'],dropna=False)\\\n",
    "    .nunique()\\\n",
    "    .rename(columns={'SUBJECT_ID':'PATIENT_COUNT'})"
   ],
   "metadata": {
    "collapsed": false,
    "pycharm": {
     "name": "#%%\n"
    }
   }
  },
  {
   "cell_type": "markdown",
   "source": [
    "For review, here is the information pivoted by UNIT. For the actual patient analysis, we'll keep the `unit_population` table in long form."
   ],
   "metadata": {
    "collapsed": false
   }
  },
  {
   "cell_type": "code",
   "execution_count": 9,
   "outputs": [
    {
     "data": {
      "text/plain": "UNIT                 NaN  CCU  CSRU  MICU  NICU  NWARD  SICU  TSICU\nsnapshot_time                                                      \n2000-06-01 06:59:00  816   67    85   225   220     46   129     84\n2000-06-01 18:59:00  766   63    93   204   213     38   124     74\n2000-06-02 06:59:00  802   68    91   197   220     43   133     75\n2000-06-02 18:59:00  760   66    86   188   221     34   128     76\n2000-06-03 06:59:00  803   65    86   193   220     39   126     76",
      "text/html": "<div>\n<style scoped>\n    .dataframe tbody tr th:only-of-type {\n        vertical-align: middle;\n    }\n\n    .dataframe tbody tr th {\n        vertical-align: top;\n    }\n\n    .dataframe thead th {\n        text-align: right;\n    }\n</style>\n<table border=\"1\" class=\"dataframe\">\n  <thead>\n    <tr style=\"text-align: right;\">\n      <th>UNIT</th>\n      <th>NaN</th>\n      <th>CCU</th>\n      <th>CSRU</th>\n      <th>MICU</th>\n      <th>NICU</th>\n      <th>NWARD</th>\n      <th>SICU</th>\n      <th>TSICU</th>\n    </tr>\n    <tr>\n      <th>snapshot_time</th>\n      <th></th>\n      <th></th>\n      <th></th>\n      <th></th>\n      <th></th>\n      <th></th>\n      <th></th>\n      <th></th>\n    </tr>\n  </thead>\n  <tbody>\n    <tr>\n      <th>2000-06-01 06:59:00</th>\n      <td>816</td>\n      <td>67</td>\n      <td>85</td>\n      <td>225</td>\n      <td>220</td>\n      <td>46</td>\n      <td>129</td>\n      <td>84</td>\n    </tr>\n    <tr>\n      <th>2000-06-01 18:59:00</th>\n      <td>766</td>\n      <td>63</td>\n      <td>93</td>\n      <td>204</td>\n      <td>213</td>\n      <td>38</td>\n      <td>124</td>\n      <td>74</td>\n    </tr>\n    <tr>\n      <th>2000-06-02 06:59:00</th>\n      <td>802</td>\n      <td>68</td>\n      <td>91</td>\n      <td>197</td>\n      <td>220</td>\n      <td>43</td>\n      <td>133</td>\n      <td>75</td>\n    </tr>\n    <tr>\n      <th>2000-06-02 18:59:00</th>\n      <td>760</td>\n      <td>66</td>\n      <td>86</td>\n      <td>188</td>\n      <td>221</td>\n      <td>34</td>\n      <td>128</td>\n      <td>76</td>\n    </tr>\n    <tr>\n      <th>2000-06-03 06:59:00</th>\n      <td>803</td>\n      <td>65</td>\n      <td>86</td>\n      <td>193</td>\n      <td>220</td>\n      <td>39</td>\n      <td>126</td>\n      <td>76</td>\n    </tr>\n  </tbody>\n</table>\n</div>"
     },
     "execution_count": 9,
     "metadata": {},
     "output_type": "execute_result"
    }
   ],
   "source": [
    "unit_population.reset_index().pivot(index ='snapshot_time', columns='UNIT', values = 'PATIENT_COUNT').fillna(0).head()"
   ],
   "metadata": {
    "collapsed": false,
    "pycharm": {
     "name": "#%%\n"
    }
   }
  },
  {
   "cell_type": "code",
   "execution_count": 10,
   "outputs": [
    {
     "data": {
      "text/plain": "                           PATIENT_COUNT\nsnapshot_time       UNIT                \n2000-06-01 06:59:00 CCU               67\n                    CSRU              85\n                    MICU             225\n                    NICU             220\n                    NWARD             46",
      "text/html": "<div>\n<style scoped>\n    .dataframe tbody tr th:only-of-type {\n        vertical-align: middle;\n    }\n\n    .dataframe tbody tr th {\n        vertical-align: top;\n    }\n\n    .dataframe thead th {\n        text-align: right;\n    }\n</style>\n<table border=\"1\" class=\"dataframe\">\n  <thead>\n    <tr style=\"text-align: right;\">\n      <th></th>\n      <th></th>\n      <th>PATIENT_COUNT</th>\n    </tr>\n    <tr>\n      <th>snapshot_time</th>\n      <th>UNIT</th>\n      <th></th>\n    </tr>\n  </thead>\n  <tbody>\n    <tr>\n      <th rowspan=\"5\" valign=\"top\">2000-06-01 06:59:00</th>\n      <th>CCU</th>\n      <td>67</td>\n    </tr>\n    <tr>\n      <th>CSRU</th>\n      <td>85</td>\n    </tr>\n    <tr>\n      <th>MICU</th>\n      <td>225</td>\n    </tr>\n    <tr>\n      <th>NICU</th>\n      <td>220</td>\n    </tr>\n    <tr>\n      <th>NWARD</th>\n      <td>46</td>\n    </tr>\n  </tbody>\n</table>\n</div>"
     },
     "execution_count": 10,
     "metadata": {},
     "output_type": "execute_result"
    }
   ],
   "source": [
    "unit_population.head()"
   ],
   "metadata": {
    "collapsed": false,
    "pycharm": {
     "name": "#%%\n"
    }
   }
  },
  {
   "cell_type": "markdown",
   "source": [
    "Now we can work backwards, since we know who was in each unit at a given time and work out how many unique RNs were associated with the unit at that time"
   ],
   "metadata": {
    "collapsed": false
   }
  },
  {
   "cell_type": "code",
   "execution_count": 11,
   "outputs": [
    {
     "data": {
      "text/plain": "                           TEAM_COUNT\nsnapshot_time       UNIT             \n2000-06-01 06:59:00 CCU           119\n                    CSRU          143\n                    MICU          287\n                    NICU           90\n                    NWARD           8",
      "text/html": "<div>\n<style scoped>\n    .dataframe tbody tr th:only-of-type {\n        vertical-align: middle;\n    }\n\n    .dataframe tbody tr th {\n        vertical-align: top;\n    }\n\n    .dataframe thead th {\n        text-align: right;\n    }\n</style>\n<table border=\"1\" class=\"dataframe\">\n  <thead>\n    <tr style=\"text-align: right;\">\n      <th></th>\n      <th></th>\n      <th>TEAM_COUNT</th>\n    </tr>\n    <tr>\n      <th>snapshot_time</th>\n      <th>UNIT</th>\n      <th></th>\n    </tr>\n  </thead>\n  <tbody>\n    <tr>\n      <th rowspan=\"5\" valign=\"top\">2000-06-01 06:59:00</th>\n      <th>CCU</th>\n      <td>119</td>\n    </tr>\n    <tr>\n      <th>CSRU</th>\n      <td>143</td>\n    </tr>\n    <tr>\n      <th>MICU</th>\n      <td>287</td>\n    </tr>\n    <tr>\n      <th>NICU</th>\n      <td>90</td>\n    </tr>\n    <tr>\n      <th>NWARD</th>\n      <td>8</td>\n    </tr>\n  </tbody>\n</table>\n</div>"
     },
     "execution_count": 11,
     "metadata": {},
     "output_type": "execute_result"
    }
   ],
   "source": [
    "caregiver_population = snap_df.set_index(['SUBJECT_ID', 'snapshot_time'])\\\n",
    "    .join(care_df.set_index(['SUBJECT_ID', 'snapshot_time']))\\\n",
    "    .dropna(subset = ['CGID'], axis=0)\\\n",
    "    .reset_index()\\\n",
    "    .drop(columns=['SUBJECT_ID','LABEL', 'DESCRIPTION'])\\\n",
    "    .groupby(['snapshot_time','UNIT'], dropna = False)\\\n",
    "    .nunique().rename(columns={'CGID':'TEAM_COUNT'})\n",
    "caregiver_population.head()"
   ],
   "metadata": {
    "collapsed": false,
    "pycharm": {
     "name": "#%%\n"
    }
   }
  },
  {
   "cell_type": "markdown",
   "source": [
    "One more time, just showing this wide but we'll work with the data long."
   ],
   "metadata": {
    "collapsed": false
   }
  },
  {
   "cell_type": "code",
   "execution_count": 12,
   "outputs": [
    {
     "data": {
      "text/plain": "UNIT                 NaN  CCU  CSRU  MICU  NICU  NWARD  SICU  TSICU\nsnapshot_time                                                      \n2000-06-01 06:59:00  353  119   143   287    90      8   207    154\n2000-06-01 18:59:00  357  121   161   271    83      6   205    158\n2000-06-02 06:59:00  354  121   164   266    84      4   193    150\n2000-06-02 18:59:00  351  103   158   270    70      5   192    159\n2000-06-03 06:59:00  350  101   164   286    87      6   195    154",
      "text/html": "<div>\n<style scoped>\n    .dataframe tbody tr th:only-of-type {\n        vertical-align: middle;\n    }\n\n    .dataframe tbody tr th {\n        vertical-align: top;\n    }\n\n    .dataframe thead th {\n        text-align: right;\n    }\n</style>\n<table border=\"1\" class=\"dataframe\">\n  <thead>\n    <tr style=\"text-align: right;\">\n      <th>UNIT</th>\n      <th>NaN</th>\n      <th>CCU</th>\n      <th>CSRU</th>\n      <th>MICU</th>\n      <th>NICU</th>\n      <th>NWARD</th>\n      <th>SICU</th>\n      <th>TSICU</th>\n    </tr>\n    <tr>\n      <th>snapshot_time</th>\n      <th></th>\n      <th></th>\n      <th></th>\n      <th></th>\n      <th></th>\n      <th></th>\n      <th></th>\n      <th></th>\n    </tr>\n  </thead>\n  <tbody>\n    <tr>\n      <th>2000-06-01 06:59:00</th>\n      <td>353</td>\n      <td>119</td>\n      <td>143</td>\n      <td>287</td>\n      <td>90</td>\n      <td>8</td>\n      <td>207</td>\n      <td>154</td>\n    </tr>\n    <tr>\n      <th>2000-06-01 18:59:00</th>\n      <td>357</td>\n      <td>121</td>\n      <td>161</td>\n      <td>271</td>\n      <td>83</td>\n      <td>6</td>\n      <td>205</td>\n      <td>158</td>\n    </tr>\n    <tr>\n      <th>2000-06-02 06:59:00</th>\n      <td>354</td>\n      <td>121</td>\n      <td>164</td>\n      <td>266</td>\n      <td>84</td>\n      <td>4</td>\n      <td>193</td>\n      <td>150</td>\n    </tr>\n    <tr>\n      <th>2000-06-02 18:59:00</th>\n      <td>351</td>\n      <td>103</td>\n      <td>158</td>\n      <td>270</td>\n      <td>70</td>\n      <td>5</td>\n      <td>192</td>\n      <td>159</td>\n    </tr>\n    <tr>\n      <th>2000-06-03 06:59:00</th>\n      <td>350</td>\n      <td>101</td>\n      <td>164</td>\n      <td>286</td>\n      <td>87</td>\n      <td>6</td>\n      <td>195</td>\n      <td>154</td>\n    </tr>\n  </tbody>\n</table>\n</div>"
     },
     "execution_count": 12,
     "metadata": {},
     "output_type": "execute_result"
    }
   ],
   "source": [
    "caregiver_population.reset_index().pivot(index ='snapshot_time', columns='UNIT', values = 'TEAM_COUNT').fillna(0).head()"
   ],
   "metadata": {
    "collapsed": false,
    "pycharm": {
     "name": "#%%\n"
    }
   }
  },
  {
   "cell_type": "markdown",
   "source": [
    "I'm not dropping the NA unit yet because I keep this sort of thing around until the last minute in case someone changes their mind"
   ],
   "metadata": {
    "collapsed": false
   }
  },
  {
   "cell_type": "code",
   "execution_count": 13,
   "outputs": [
    {
     "data": {
      "text/plain": "                           PATIENT_COUNT  DISCHARGE_COUNT  TEAM_COUNT  \\\nsnapshot_time       UNIT                                                \n2000-06-01 06:59:00 CCU               67              0.0         119   \n                    CSRU              85              0.0         143   \n                    MICU             225              5.0         287   \n                    NICU             220              0.0          90   \n                    NWARD             46              0.0           8   \n...                                  ...              ...         ...   \n2000-06-28 06:59:00 NaN              784              1.0         351   \n2000-06-28 18:59:00 NaN              758             55.0         355   \n2000-06-29 18:59:00 NaN              764             57.0         355   \n2000-06-30 06:59:00 NaN              785              1.0         358   \n2000-06-30 18:59:00 NaN              744             48.0         358   \n\n                           nurse_discharge_ratio  \nsnapshot_time       UNIT                          \n2000-06-01 06:59:00 CCU                 0.000000  \n                    CSRU                0.000000  \n                    MICU                0.022222  \n                    NICU                0.000000  \n                    NWARD               0.000000  \n...                                          ...  \n2000-06-28 06:59:00 NaN                 0.001276  \n2000-06-28 18:59:00 NaN                 0.072559  \n2000-06-29 18:59:00 NaN                 0.074607  \n2000-06-30 06:59:00 NaN                 0.001274  \n2000-06-30 18:59:00 NaN                 0.064516  \n\n[522 rows x 4 columns]",
      "text/html": "<div>\n<style scoped>\n    .dataframe tbody tr th:only-of-type {\n        vertical-align: middle;\n    }\n\n    .dataframe tbody tr th {\n        vertical-align: top;\n    }\n\n    .dataframe thead th {\n        text-align: right;\n    }\n</style>\n<table border=\"1\" class=\"dataframe\">\n  <thead>\n    <tr style=\"text-align: right;\">\n      <th></th>\n      <th></th>\n      <th>PATIENT_COUNT</th>\n      <th>DISCHARGE_COUNT</th>\n      <th>TEAM_COUNT</th>\n      <th>nurse_discharge_ratio</th>\n    </tr>\n    <tr>\n      <th>snapshot_time</th>\n      <th>UNIT</th>\n      <th></th>\n      <th></th>\n      <th></th>\n      <th></th>\n    </tr>\n  </thead>\n  <tbody>\n    <tr>\n      <th rowspan=\"5\" valign=\"top\">2000-06-01 06:59:00</th>\n      <th>CCU</th>\n      <td>67</td>\n      <td>0.0</td>\n      <td>119</td>\n      <td>0.000000</td>\n    </tr>\n    <tr>\n      <th>CSRU</th>\n      <td>85</td>\n      <td>0.0</td>\n      <td>143</td>\n      <td>0.000000</td>\n    </tr>\n    <tr>\n      <th>MICU</th>\n      <td>225</td>\n      <td>5.0</td>\n      <td>287</td>\n      <td>0.022222</td>\n    </tr>\n    <tr>\n      <th>NICU</th>\n      <td>220</td>\n      <td>0.0</td>\n      <td>90</td>\n      <td>0.000000</td>\n    </tr>\n    <tr>\n      <th>NWARD</th>\n      <td>46</td>\n      <td>0.0</td>\n      <td>8</td>\n      <td>0.000000</td>\n    </tr>\n    <tr>\n      <th>...</th>\n      <th>...</th>\n      <td>...</td>\n      <td>...</td>\n      <td>...</td>\n      <td>...</td>\n    </tr>\n    <tr>\n      <th>2000-06-28 06:59:00</th>\n      <th>NaN</th>\n      <td>784</td>\n      <td>1.0</td>\n      <td>351</td>\n      <td>0.001276</td>\n    </tr>\n    <tr>\n      <th>2000-06-28 18:59:00</th>\n      <th>NaN</th>\n      <td>758</td>\n      <td>55.0</td>\n      <td>355</td>\n      <td>0.072559</td>\n    </tr>\n    <tr>\n      <th>2000-06-29 18:59:00</th>\n      <th>NaN</th>\n      <td>764</td>\n      <td>57.0</td>\n      <td>355</td>\n      <td>0.074607</td>\n    </tr>\n    <tr>\n      <th>2000-06-30 06:59:00</th>\n      <th>NaN</th>\n      <td>785</td>\n      <td>1.0</td>\n      <td>358</td>\n      <td>0.001274</td>\n    </tr>\n    <tr>\n      <th>2000-06-30 18:59:00</th>\n      <th>NaN</th>\n      <td>744</td>\n      <td>48.0</td>\n      <td>358</td>\n      <td>0.064516</td>\n    </tr>\n  </tbody>\n</table>\n<p>522 rows × 4 columns</p>\n</div>"
     },
     "execution_count": 13,
     "metadata": {},
     "output_type": "execute_result"
    }
   ],
   "source": [
    "unit_measures = pd.concat([unit_population, discharge_df, caregiver_population], axis = 1).fillna(0)\n",
    "unit_measures['nurse_discharge_ratio'] = unit_measures.DISCHARGE_COUNT / unit_measures.PATIENT_COUNT\n",
    "unit_measures"
   ],
   "metadata": {
    "collapsed": false,
    "pycharm": {
     "name": "#%%\n"
    }
   }
  },
  {
   "cell_type": "markdown",
   "source": [
    "## Building out the cohort's test result data\n",
    "\n",
    "Now, we go get all the patients in our cohort:"
   ],
   "metadata": {
    "collapsed": false,
    "pycharm": {
     "name": "#%% md\n"
    }
   }
  },
  {
   "cell_type": "code",
   "execution_count": 14,
   "outputs": [],
   "source": [
    "patient_cohort = pd.read_sql_query(\"\"\"\n",
    "        SELECT DISTINCT june_admits.SUBJECT_ID,\n",
    "                june_admits.DOB,\n",
    "                june_admits.GENDER -- 381 rows\n",
    "        FROM (SELECT DISTINCT T.SUBJECT_ID,\n",
    "                              HADM_ID,\n",
    "                              INTIME,\n",
    "                              pts.GENDER,\n",
    "                              pts.DOB\n",
    "              FROM TRANSFERS T\n",
    "                INNER JOIN (\n",
    "                              SELECT SUBJECT_ID, GENDER, min(DOB) as DOB\n",
    "                              FROM PATIENTS\n",
    "                              WHERE EXPIRE_FLAG = 0\n",
    "                              group by SUBJECT_ID, GENDER\n",
    "                          ) pts\n",
    "                                   on T.SUBJECT_ID = pts.SUBJECT_ID\n",
    "                          WHERE T.EVENTTYPE = 'admit'\n",
    "                            AND INTIME BETWEEN '2000-06-01' AND '2000-07-01'\n",
    "                            AND (julianday(T.INTIME) - julianday(pts.DOB)) / 365 >= 18) june_admits -- 2402 pts\n",
    "        INNER JOIN\n",
    "             (SELECT distinct SUBJECT_ID, HADM_ID\n",
    "                  FROM LABS\n",
    "                           INNER JOIN ICD_LABS ON LABS.ITEMID = ICD_LABS.ITEMID\n",
    "                      AND ICD_LABS.LOINC_CODE in ('6598-7', '10839-9')\n",
    "                      and LABS.VALUENUM is not NULL) tropo -- 1784 pts (of any age, any admit)\n",
    "                 ON june_admits.SUBJECT_ID = tropo.SUBJECT_ID\n",
    "                     AND june_admits.HADM_ID = tropo.HADM_ID\n",
    "        INNER JOIN\n",
    "             (SELECT distinct SUBJECT_ID, HADM_ID\n",
    "              from DIAGNOSES\n",
    "              WHERE (SUBSTR(DIAGNOSES.ICD9_CODE, 1, 3) like '42%')) dx -- 20,000 pts (of any age, any admit)\n",
    "               ON june_admits.SUBJECT_ID = dx.SUBJECT_ID\n",
    "               AND june_admits.HADM_ID = dx.HADM_ID;\n",
    "            \"\"\", con = con)"
   ],
   "metadata": {
    "collapsed": false,
    "pycharm": {
     "name": "#%%\n"
    }
   }
  },
  {
   "cell_type": "code",
   "execution_count": 15,
   "outputs": [
    {
     "name": "stdout",
     "output_type": "stream",
     "text": [
      "Total Number of Patients in Dataset: 46488. Patient cohort size: 374\n",
      "Cohort represents 0.8% of all patients in dataset.\n"
     ]
    }
   ],
   "source": [
    "total_patients = con.execute(\"SELECT COUNT(DISTINCT SUBJECT_ID) from PATIENTS\").fetchone()[0]\n",
    "print(f'''Total Number of Patients in Dataset: {total_patients}. Patient cohort size: {len(patient_cohort)}\n",
    "Cohort represents {len(patient_cohort)/total_patients:.1%} of all patients in dataset.''')"
   ],
   "metadata": {
    "collapsed": false,
    "pycharm": {
     "name": "#%%\n"
    }
   }
  },
  {
   "cell_type": "markdown",
   "source": [
    "## Get the most recent results from selected labs before a specific threshold date"
   ],
   "metadata": {
    "collapsed": false
   }
  },
  {
   "cell_type": "code",
   "execution_count": 16,
   "outputs": [],
   "source": [
    "def collect_latest_measure(lab_df, pt, threshold_date):\n",
    "    lab_df = lab_df.loc[lab_df['SUBJECT_ID']==pt]\n",
    "    # We want to collect a row when there's no data so we fully populate the grid of patient/scaffolding\n",
    "    # We can always drop the information later\n",
    "    # So we send back None as a signal for the calling code to build a dummy row\n",
    "    if len(lab_df) == 0:\n",
    "        return None\n",
    "    else:\n",
    "        try:\n",
    "            latest_index = lab_df.loc[lab_df['CHARTTIME'] < threshold_date]['CHARTTIME'].idxmax()\n",
    "            return dict(lab_df.loc[latest_index])\n",
    "        except ValueError:\n",
    "            return None\n"
   ],
   "metadata": {
    "collapsed": false,
    "pycharm": {
     "name": "#%%\n"
    }
   }
  },
  {
   "cell_type": "code",
   "execution_count": 17,
   "outputs": [],
   "source": [
    "cohort_labs = []\n",
    "tests = {'tropinin': ['6598-7', '10839-9'],\n",
    "         'BNP': ['33762-6', '33762-6']} # hackery, I know. makes it possible to swap in 'tuple(tests[foo])' in the query\n",
    "\n",
    "for test in tests:\n",
    "    patient_labs = pd.read_sql_query(f\"\"\"SELECT LABS.SUBJECT_ID, CHARTTIME, VALUENUM, VALUEUOM, LABEL FROM LABS\n",
    "                       INNER JOIN ICD_LABS ON LABS.ITEMID = ICD_LABS.ITEMID AND ICD_LABS.LOINC_CODE in {tuple(tests[test])}\n",
    "                       WHERE SUBJECT_ID IN {tuple(patient_cohort['SUBJECT_ID'])}\n",
    "                       AND LABS.VALUENUM IS NOT NULL\"\"\", con = con, parse_dates=['CHARTTIME'])\n",
    "    patient_labs['test_family'] = test\n",
    "    for patient in patient_cohort['SUBJECT_ID']:\n",
    "        for snapdate in scaffold:\n",
    "            latest_test = collect_latest_measure(patient_labs, patient, snapdate)\n",
    "            if latest_test is None:\n",
    "                latest_test = {'SUBJECT_ID':patient,\n",
    "                              'CHARTTIME': None,\n",
    "                              'VALUENUM': None,\n",
    "                              'VALUEUOM': None,\n",
    "                              'LABEL': None,\n",
    "                              'test_family': test}\n",
    "            latest_test['snapshot_time'] = snapdate\n",
    "            cohort_labs.append(latest_test)"
   ],
   "metadata": {
    "collapsed": false,
    "pycharm": {
     "name": "#%%\n"
    }
   }
  },
  {
   "cell_type": "markdown",
   "source": [
    "This remarkable bit of index mangling helps us drop some NaNs out of the columns. I could have used `dropna()` earlier but I wanted to keep the `NA` columns around so I could check them to make sure it was all still making sense"
   ],
   "metadata": {
    "collapsed": false
   }
  },
  {
   "cell_type": "code",
   "execution_count": 18,
   "outputs": [
    {
     "data": {
      "text/plain": "                                Troponin T  Troponin I  NTproBNP\nsnapshot_time       SUBJECT_ID                                  \n2000-06-01 06:59:00 309                NaN         NaN       NaN\n                    318                NaN         NaN       NaN\n                    321                NaN         NaN       NaN\n                    518                NaN         NaN       NaN\n                    740                NaN         NaN       NaN\n...                                    ...         ...       ...\n2000-06-30 18:59:00 98649             0.05         NaN       NaN\n                    99185             0.05         NaN       NaN\n                    99358             3.31         NaN       NaN\n                    99448             0.03         NaN       NaN\n                    99714             0.01         NaN       NaN\n\n[22440 rows x 3 columns]",
      "text/html": "<div>\n<style scoped>\n    .dataframe tbody tr th:only-of-type {\n        vertical-align: middle;\n    }\n\n    .dataframe tbody tr th {\n        vertical-align: top;\n    }\n\n    .dataframe thead th {\n        text-align: right;\n    }\n</style>\n<table border=\"1\" class=\"dataframe\">\n  <thead>\n    <tr style=\"text-align: right;\">\n      <th></th>\n      <th></th>\n      <th>Troponin T</th>\n      <th>Troponin I</th>\n      <th>NTproBNP</th>\n    </tr>\n    <tr>\n      <th>snapshot_time</th>\n      <th>SUBJECT_ID</th>\n      <th></th>\n      <th></th>\n      <th></th>\n    </tr>\n  </thead>\n  <tbody>\n    <tr>\n      <th rowspan=\"5\" valign=\"top\">2000-06-01 06:59:00</th>\n      <th>309</th>\n      <td>NaN</td>\n      <td>NaN</td>\n      <td>NaN</td>\n    </tr>\n    <tr>\n      <th>318</th>\n      <td>NaN</td>\n      <td>NaN</td>\n      <td>NaN</td>\n    </tr>\n    <tr>\n      <th>321</th>\n      <td>NaN</td>\n      <td>NaN</td>\n      <td>NaN</td>\n    </tr>\n    <tr>\n      <th>518</th>\n      <td>NaN</td>\n      <td>NaN</td>\n      <td>NaN</td>\n    </tr>\n    <tr>\n      <th>740</th>\n      <td>NaN</td>\n      <td>NaN</td>\n      <td>NaN</td>\n    </tr>\n    <tr>\n      <th>...</th>\n      <th>...</th>\n      <td>...</td>\n      <td>...</td>\n      <td>...</td>\n    </tr>\n    <tr>\n      <th rowspan=\"5\" valign=\"top\">2000-06-30 18:59:00</th>\n      <th>98649</th>\n      <td>0.05</td>\n      <td>NaN</td>\n      <td>NaN</td>\n    </tr>\n    <tr>\n      <th>99185</th>\n      <td>0.05</td>\n      <td>NaN</td>\n      <td>NaN</td>\n    </tr>\n    <tr>\n      <th>99358</th>\n      <td>3.31</td>\n      <td>NaN</td>\n      <td>NaN</td>\n    </tr>\n    <tr>\n      <th>99448</th>\n      <td>0.03</td>\n      <td>NaN</td>\n      <td>NaN</td>\n    </tr>\n    <tr>\n      <th>99714</th>\n      <td>0.01</td>\n      <td>NaN</td>\n      <td>NaN</td>\n    </tr>\n  </tbody>\n</table>\n<p>22440 rows × 3 columns</p>\n</div>"
     },
     "execution_count": 18,
     "metadata": {},
     "output_type": "execute_result"
    }
   ],
   "source": [
    "patient_labs = pd.DataFrame(cohort_labs).pivot(index=['snapshot_time', 'SUBJECT_ID'],\n",
    "                                columns=[ 'test_family', 'LABEL'],\n",
    "                                values=['VALUENUM'])\n",
    "patient_labs.columns = patient_labs.columns.to_flat_index()\n",
    "patient_labs = patient_labs.iloc[:,[1, 2, 4]]\n",
    "patient_labs.columns = ['Troponin T', 'Troponin I', 'NTproBNP']\n",
    "\n",
    "patient_labs"
   ],
   "metadata": {
    "collapsed": false,
    "pycharm": {
     "name": "#%%\n"
    }
   }
  },
  {
   "cell_type": "markdown",
   "source": [
    "## Build out Reporting Framework\n",
    "\n",
    "Now, we build a framework of information with the units and subjects who are relevant at a given point in time, constrained to this cohort."
   ],
   "metadata": {
    "collapsed": false
   }
  },
  {
   "cell_type": "code",
   "execution_count": 19,
   "outputs": [
    {
     "data": {
      "text/plain": "                          SUBJECT_ID\nsnapshot_time       UNIT            \n2000-06-01 06:59:00 MICU        4787\n                    MICU        6440\n                    MICU       12567\n                    CCU        14522\n                    SICU       29483\n...                              ...\n2000-06-30 18:59:00 CSRU       82685\n                    CCU        99448\n                    CSRU       99185\n                    CSRU       94448\n                    MICU       96324\n\n[3067 rows x 1 columns]",
      "text/html": "<div>\n<style scoped>\n    .dataframe tbody tr th:only-of-type {\n        vertical-align: middle;\n    }\n\n    .dataframe tbody tr th {\n        vertical-align: top;\n    }\n\n    .dataframe thead th {\n        text-align: right;\n    }\n</style>\n<table border=\"1\" class=\"dataframe\">\n  <thead>\n    <tr style=\"text-align: right;\">\n      <th></th>\n      <th></th>\n      <th>SUBJECT_ID</th>\n    </tr>\n    <tr>\n      <th>snapshot_time</th>\n      <th>UNIT</th>\n      <th></th>\n    </tr>\n  </thead>\n  <tbody>\n    <tr>\n      <th rowspan=\"5\" valign=\"top\">2000-06-01 06:59:00</th>\n      <th>MICU</th>\n      <td>4787</td>\n    </tr>\n    <tr>\n      <th>MICU</th>\n      <td>6440</td>\n    </tr>\n    <tr>\n      <th>MICU</th>\n      <td>12567</td>\n    </tr>\n    <tr>\n      <th>CCU</th>\n      <td>14522</td>\n    </tr>\n    <tr>\n      <th>SICU</th>\n      <td>29483</td>\n    </tr>\n    <tr>\n      <th>...</th>\n      <th>...</th>\n      <td>...</td>\n    </tr>\n    <tr>\n      <th rowspan=\"5\" valign=\"top\">2000-06-30 18:59:00</th>\n      <th>CSRU</th>\n      <td>82685</td>\n    </tr>\n    <tr>\n      <th>CCU</th>\n      <td>99448</td>\n    </tr>\n    <tr>\n      <th>CSRU</th>\n      <td>99185</td>\n    </tr>\n    <tr>\n      <th>CSRU</th>\n      <td>94448</td>\n    </tr>\n    <tr>\n      <th>MICU</th>\n      <td>96324</td>\n    </tr>\n  </tbody>\n</table>\n<p>3067 rows × 1 columns</p>\n</div>"
     },
     "execution_count": 19,
     "metadata": {},
     "output_type": "execute_result"
    }
   ],
   "source": [
    "snap_cohort_df = snap_df[snap_df.SUBJECT_ID.isin(patient_cohort['SUBJECT_ID'])]\\\n",
    "    .dropna(subset='UNIT')\\\n",
    "    .set_index(['snapshot_time','UNIT'])\n",
    "\n",
    "snap_cohort_df"
   ],
   "metadata": {
    "collapsed": false,
    "pycharm": {
     "name": "#%%\n"
    }
   }
  },
  {
   "cell_type": "markdown",
   "source": [
    "... and then we graft on the unit data and the lab data"
   ],
   "metadata": {
    "collapsed": false
   }
  },
  {
   "cell_type": "code",
   "execution_count": 20,
   "outputs": [],
   "source": [
    "wide_data = snap_cohort_df.join(unit_measures, how = 'left')\\\n",
    "            .reset_index()\\\n",
    "            .set_index(['snapshot_time', 'SUBJECT_ID'])\\\n",
    "            .join(patient_labs, how = 'left')\\\n",
    "            .reset_index()\\\n",
    "            .set_index('SUBJECT_ID')\\\n",
    "            .join(patient_cohort.set_index('SUBJECT_ID'), how = 'left')"
   ],
   "metadata": {
    "collapsed": false,
    "pycharm": {
     "name": "#%%\n"
    }
   }
  },
  {
   "cell_type": "code",
   "execution_count": 21,
   "outputs": [
    {
     "data": {
      "text/plain": "                 snapshot_time UNIT  PATIENT_COUNT  DISCHARGE_COUNT  \\\nSUBJECT_ID                                                            \n309        2000-06-04 18:59:00  CCU             51              0.0   \n309        2000-06-05 06:59:00  CCU             53              0.0   \n309        2000-06-05 18:59:00  CCU             54              1.0   \n318        2000-06-07 18:59:00  CCU             51              0.0   \n318        2000-06-08 06:59:00  CCU             57              0.0   \n...                        ...  ...            ...              ...   \n99714      2000-06-11 06:59:00  CCU             69              1.0   \n99714      2000-06-11 18:59:00  CCU             71              2.0   \n99714      2000-06-12 06:59:00  CCU             75              0.0   \n99714      2000-06-12 18:59:00  CCU             61              1.0   \n99714      2000-06-13 06:59:00  CCU             67              0.0   \n\n            TEAM_COUNT  nurse_discharge_ratio  Troponin T  Troponin I  \\\nSUBJECT_ID                                                              \n309                110               0.000000         NaN         NaN   \n309                101               0.000000        0.34         NaN   \n309                129               0.018519        0.25         NaN   \n318                106               0.000000         NaN        29.1   \n318                109               0.000000         NaN        19.9   \n...                ...                    ...         ...         ...   \n99714              109               0.014493        0.01         NaN   \n99714              120               0.028169        0.01         NaN   \n99714              125               0.000000        0.01         NaN   \n99714              115               0.016393        0.01         NaN   \n99714              117               0.000000        0.01         NaN   \n\n            NTproBNP                  DOB GENDER  \nSUBJECT_ID                                        \n309              NaN  1938-10-02 00:00:00      M  \n309              NaN  1938-10-02 00:00:00      M  \n309              NaN  1938-10-02 00:00:00      M  \n318              NaN  1937-09-02 00:00:00      M  \n318              NaN  1937-09-02 00:00:00      M  \n...              ...                  ...    ...  \n99714            NaN  1918-12-07 00:00:00      M  \n99714            NaN  1918-12-07 00:00:00      M  \n99714            NaN  1918-12-07 00:00:00      M  \n99714            NaN  1918-12-07 00:00:00      M  \n99714            NaN  1918-12-07 00:00:00      M  \n\n[3067 rows x 11 columns]",
      "text/html": "<div>\n<style scoped>\n    .dataframe tbody tr th:only-of-type {\n        vertical-align: middle;\n    }\n\n    .dataframe tbody tr th {\n        vertical-align: top;\n    }\n\n    .dataframe thead th {\n        text-align: right;\n    }\n</style>\n<table border=\"1\" class=\"dataframe\">\n  <thead>\n    <tr style=\"text-align: right;\">\n      <th></th>\n      <th>snapshot_time</th>\n      <th>UNIT</th>\n      <th>PATIENT_COUNT</th>\n      <th>DISCHARGE_COUNT</th>\n      <th>TEAM_COUNT</th>\n      <th>nurse_discharge_ratio</th>\n      <th>Troponin T</th>\n      <th>Troponin I</th>\n      <th>NTproBNP</th>\n      <th>DOB</th>\n      <th>GENDER</th>\n    </tr>\n    <tr>\n      <th>SUBJECT_ID</th>\n      <th></th>\n      <th></th>\n      <th></th>\n      <th></th>\n      <th></th>\n      <th></th>\n      <th></th>\n      <th></th>\n      <th></th>\n      <th></th>\n      <th></th>\n    </tr>\n  </thead>\n  <tbody>\n    <tr>\n      <th>309</th>\n      <td>2000-06-04 18:59:00</td>\n      <td>CCU</td>\n      <td>51</td>\n      <td>0.0</td>\n      <td>110</td>\n      <td>0.000000</td>\n      <td>NaN</td>\n      <td>NaN</td>\n      <td>NaN</td>\n      <td>1938-10-02 00:00:00</td>\n      <td>M</td>\n    </tr>\n    <tr>\n      <th>309</th>\n      <td>2000-06-05 06:59:00</td>\n      <td>CCU</td>\n      <td>53</td>\n      <td>0.0</td>\n      <td>101</td>\n      <td>0.000000</td>\n      <td>0.34</td>\n      <td>NaN</td>\n      <td>NaN</td>\n      <td>1938-10-02 00:00:00</td>\n      <td>M</td>\n    </tr>\n    <tr>\n      <th>309</th>\n      <td>2000-06-05 18:59:00</td>\n      <td>CCU</td>\n      <td>54</td>\n      <td>1.0</td>\n      <td>129</td>\n      <td>0.018519</td>\n      <td>0.25</td>\n      <td>NaN</td>\n      <td>NaN</td>\n      <td>1938-10-02 00:00:00</td>\n      <td>M</td>\n    </tr>\n    <tr>\n      <th>318</th>\n      <td>2000-06-07 18:59:00</td>\n      <td>CCU</td>\n      <td>51</td>\n      <td>0.0</td>\n      <td>106</td>\n      <td>0.000000</td>\n      <td>NaN</td>\n      <td>29.1</td>\n      <td>NaN</td>\n      <td>1937-09-02 00:00:00</td>\n      <td>M</td>\n    </tr>\n    <tr>\n      <th>318</th>\n      <td>2000-06-08 06:59:00</td>\n      <td>CCU</td>\n      <td>57</td>\n      <td>0.0</td>\n      <td>109</td>\n      <td>0.000000</td>\n      <td>NaN</td>\n      <td>19.9</td>\n      <td>NaN</td>\n      <td>1937-09-02 00:00:00</td>\n      <td>M</td>\n    </tr>\n    <tr>\n      <th>...</th>\n      <td>...</td>\n      <td>...</td>\n      <td>...</td>\n      <td>...</td>\n      <td>...</td>\n      <td>...</td>\n      <td>...</td>\n      <td>...</td>\n      <td>...</td>\n      <td>...</td>\n      <td>...</td>\n    </tr>\n    <tr>\n      <th>99714</th>\n      <td>2000-06-11 06:59:00</td>\n      <td>CCU</td>\n      <td>69</td>\n      <td>1.0</td>\n      <td>109</td>\n      <td>0.014493</td>\n      <td>0.01</td>\n      <td>NaN</td>\n      <td>NaN</td>\n      <td>1918-12-07 00:00:00</td>\n      <td>M</td>\n    </tr>\n    <tr>\n      <th>99714</th>\n      <td>2000-06-11 18:59:00</td>\n      <td>CCU</td>\n      <td>71</td>\n      <td>2.0</td>\n      <td>120</td>\n      <td>0.028169</td>\n      <td>0.01</td>\n      <td>NaN</td>\n      <td>NaN</td>\n      <td>1918-12-07 00:00:00</td>\n      <td>M</td>\n    </tr>\n    <tr>\n      <th>99714</th>\n      <td>2000-06-12 06:59:00</td>\n      <td>CCU</td>\n      <td>75</td>\n      <td>0.0</td>\n      <td>125</td>\n      <td>0.000000</td>\n      <td>0.01</td>\n      <td>NaN</td>\n      <td>NaN</td>\n      <td>1918-12-07 00:00:00</td>\n      <td>M</td>\n    </tr>\n    <tr>\n      <th>99714</th>\n      <td>2000-06-12 18:59:00</td>\n      <td>CCU</td>\n      <td>61</td>\n      <td>1.0</td>\n      <td>115</td>\n      <td>0.016393</td>\n      <td>0.01</td>\n      <td>NaN</td>\n      <td>NaN</td>\n      <td>1918-12-07 00:00:00</td>\n      <td>M</td>\n    </tr>\n    <tr>\n      <th>99714</th>\n      <td>2000-06-13 06:59:00</td>\n      <td>CCU</td>\n      <td>67</td>\n      <td>0.0</td>\n      <td>117</td>\n      <td>0.000000</td>\n      <td>0.01</td>\n      <td>NaN</td>\n      <td>NaN</td>\n      <td>1918-12-07 00:00:00</td>\n      <td>M</td>\n    </tr>\n  </tbody>\n</table>\n<p>3067 rows × 11 columns</p>\n</div>"
     },
     "execution_count": 21,
     "metadata": {},
     "output_type": "execute_result"
    }
   ],
   "source": [
    "wide_data"
   ],
   "metadata": {
    "collapsed": false,
    "pycharm": {
     "name": "#%%\n"
    }
   }
  },
  {
   "cell_type": "markdown",
   "source": [
    "## Write it out\n",
    "\n",
    "Finally, we clean up a bit and send this table to CSV"
   ],
   "metadata": {
    "collapsed": false
   }
  },
  {
   "cell_type": "code",
   "execution_count": 22,
   "outputs": [],
   "source": [
    "wide_data.columns = [x.upper().replace(' ', '_') for x in wide_data.columns]"
   ],
   "metadata": {
    "collapsed": false,
    "pycharm": {
     "name": "#%%\n"
    }
   }
  },
  {
   "cell_type": "code",
   "execution_count": 23,
   "outputs": [],
   "source": [
    "wide_data.to_csv('de_challenge_retrospective.csv', date_format=\"%Y-%m-%dT%H:%M:%S-04:00\")"
   ],
   "metadata": {
    "collapsed": false,
    "pycharm": {
     "name": "#%%\n"
    }
   }
  },
  {
   "cell_type": "code",
   "execution_count": 23,
   "outputs": [],
   "source": [],
   "metadata": {
    "collapsed": false,
    "pycharm": {
     "name": "#%%\n"
    }
   }
  }
 ],
 "metadata": {
  "kernelspec": {
   "display_name": "Python 3",
   "language": "python",
   "name": "python3"
  },
  "language_info": {
   "codemirror_mode": {
    "name": "ipython",
    "version": 2
   },
   "file_extension": ".py",
   "mimetype": "text/x-python",
   "name": "python",
   "nbconvert_exporter": "python",
   "pygments_lexer": "ipython2",
   "version": "2.7.6"
  }
 },
 "nbformat": 4,
 "nbformat_minor": 0
}